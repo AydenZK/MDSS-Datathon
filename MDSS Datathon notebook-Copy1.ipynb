{
 "cells": [
  {
   "cell_type": "code",
   "execution_count": 1,
   "id": "bd90b1aa",
   "metadata": {},
   "outputs": [],
   "source": [
    "import numpy as np\n",
    "import pandas as pd"
   ]
  },
  {
   "cell_type": "code",
   "execution_count": 2,
   "id": "a9eb2d2d",
   "metadata": {},
   "outputs": [],
   "source": [
    "import matplotlib.pyplot as plt\n",
    "%matplotlib inline\n",
    "from matplotlib import rcParams\n",
    "rcParams['figure.figsize'] = 10, 6\n",
    "from sklearn import preprocessing"
   ]
  },
  {
   "cell_type": "code",
   "execution_count": 3,
   "id": "7ba62403",
   "metadata": {},
   "outputs": [],
   "source": [
    "train = pd.read_csv(\"data/train_advanced.csv\")\n",
    "test = pd.read_csv(\"data/test_advanced.csv\")\n",
    "sample = pd.read_csv(\"data/sample_submission.csv\")"
   ]
  },
  {
   "cell_type": "markdown",
   "id": "8733f7f6",
   "metadata": {},
   "source": [
    "# Exploratory Data Analysis"
   ]
  },
  {
   "cell_type": "code",
   "execution_count": 5,
   "id": "911d8ed2",
   "metadata": {
    "scrolled": false
   },
   "outputs": [
    {
     "data": {
      "text/html": [
       "<div>\n",
       "<style scoped>\n",
       "    .dataframe tbody tr th:only-of-type {\n",
       "        vertical-align: middle;\n",
       "    }\n",
       "\n",
       "    .dataframe tbody tr th {\n",
       "        vertical-align: top;\n",
       "    }\n",
       "\n",
       "    .dataframe thead th {\n",
       "        text-align: right;\n",
       "    }\n",
       "</style>\n",
       "<table border=\"1\" class=\"dataframe\">\n",
       "  <thead>\n",
       "    <tr style=\"text-align: right;\">\n",
       "      <th></th>\n",
       "      <th>Date</th>\n",
       "      <th>Store</th>\n",
       "      <th>Item</th>\n",
       "      <th>Sales</th>\n",
       "      <th>Average Rating</th>\n",
       "      <th>Location</th>\n",
       "      <th>Category</th>\n",
       "      <th>Branding</th>\n",
       "    </tr>\n",
       "  </thead>\n",
       "  <tbody>\n",
       "    <tr>\n",
       "      <th>0</th>\n",
       "      <td>1/1/2017</td>\n",
       "      <td>KMart</td>\n",
       "      <td>1</td>\n",
       "      <td>13</td>\n",
       "      <td>2.8</td>\n",
       "      <td>Wheelers Hill VIC 3170</td>\n",
       "      <td>Electronics</td>\n",
       "      <td>Sony</td>\n",
       "    </tr>\n",
       "    <tr>\n",
       "      <th>1</th>\n",
       "      <td>1/2/2017</td>\n",
       "      <td>KMart</td>\n",
       "      <td>1</td>\n",
       "      <td>11</td>\n",
       "      <td>1.4</td>\n",
       "      <td>Wheelers Hill VIC 3170</td>\n",
       "      <td>Electronics</td>\n",
       "      <td>Sony</td>\n",
       "    </tr>\n",
       "    <tr>\n",
       "      <th>2</th>\n",
       "      <td>1/3/2017</td>\n",
       "      <td>KMart</td>\n",
       "      <td>1</td>\n",
       "      <td>14</td>\n",
       "      <td>1.8</td>\n",
       "      <td>Wheelers Hill VIC 3170</td>\n",
       "      <td>Electronics</td>\n",
       "      <td>Sony</td>\n",
       "    </tr>\n",
       "    <tr>\n",
       "      <th>3</th>\n",
       "      <td>1/4/2017</td>\n",
       "      <td>KMart</td>\n",
       "      <td>1</td>\n",
       "      <td>13</td>\n",
       "      <td>1.3</td>\n",
       "      <td>Wheelers Hill VIC 3170</td>\n",
       "      <td>Electronics</td>\n",
       "      <td>Sony</td>\n",
       "    </tr>\n",
       "    <tr>\n",
       "      <th>4</th>\n",
       "      <td>1/5/2017</td>\n",
       "      <td>KMart</td>\n",
       "      <td>1</td>\n",
       "      <td>10</td>\n",
       "      <td>2.9</td>\n",
       "      <td>Wheelers Hill VIC 3170</td>\n",
       "      <td>Electronics</td>\n",
       "      <td>Sony</td>\n",
       "    </tr>\n",
       "  </tbody>\n",
       "</table>\n",
       "</div>"
      ],
      "text/plain": [
       "       Date  Store  Item  Sales  Average Rating                Location  \\\n",
       "0  1/1/2017  KMart     1     13             2.8  Wheelers Hill VIC 3170   \n",
       "1  1/2/2017  KMart     1     11             1.4  Wheelers Hill VIC 3170   \n",
       "2  1/3/2017  KMart     1     14             1.8  Wheelers Hill VIC 3170   \n",
       "3  1/4/2017  KMart     1     13             1.3  Wheelers Hill VIC 3170   \n",
       "4  1/5/2017  KMart     1     10             2.9  Wheelers Hill VIC 3170   \n",
       "\n",
       "      Category Branding  \n",
       "0  Electronics     Sony  \n",
       "1  Electronics     Sony  \n",
       "2  Electronics     Sony  \n",
       "3  Electronics     Sony  \n",
       "4  Electronics     Sony  "
      ]
     },
     "execution_count": 5,
     "metadata": {},
     "output_type": "execute_result"
    }
   ],
   "source": [
    "train.head()"
   ]
  },
  {
   "cell_type": "code",
   "execution_count": 6,
   "id": "692d1821",
   "metadata": {},
   "outputs": [
    {
     "name": "stdout",
     "output_type": "stream",
     "text": [
      "<class 'pandas.core.frame.DataFrame'>\n",
      "RangeIndex: 821000 entries, 0 to 820999\n",
      "Data columns (total 8 columns):\n",
      " #   Column          Non-Null Count   Dtype  \n",
      "---  ------          --------------   -----  \n",
      " 0   Date            821000 non-null  object \n",
      " 1   Store           821000 non-null  object \n",
      " 2   Item            821000 non-null  int64  \n",
      " 3   Sales           821000 non-null  int64  \n",
      " 4   Average Rating  821000 non-null  float64\n",
      " 5   Location        820260 non-null  object \n",
      " 6   Category        821000 non-null  object \n",
      " 7   Branding        821000 non-null  object \n",
      "dtypes: float64(1), int64(2), object(5)\n",
      "memory usage: 50.1+ MB\n"
     ]
    }
   ],
   "source": [
    "train.info()"
   ]
  },
  {
   "cell_type": "code",
   "execution_count": 7,
   "id": "ab82a21a",
   "metadata": {},
   "outputs": [
    {
     "data": {
      "text/plain": [
       "array(['Wheelers Hill VIC 3170', 'Preston,\\xa0VIC,\\xa03072',\n",
       "       'South Melbourne,\\xa0VIC\\xa03205',\n",
       "       'Keysborough, VIC, 3173, Australia', 'Mulgrave\\xa0VIC\\xa03170',\n",
       "       'Dandenong, VIC, 3175, Australia',\n",
       "       'Springvale, VIC, 3171, Australia', 'Ringwood VIC 3134',\n",
       "       ' Epping VIC 3076', 'Mulgrave VIC 3170', nan], dtype=object)"
      ]
     },
     "execution_count": 7,
     "metadata": {},
     "output_type": "execute_result"
    }
   ],
   "source": [
    "train['Location'].unique()"
   ]
  },
  {
   "cell_type": "code",
   "execution_count": 8,
   "id": "adc36eb2",
   "metadata": {},
   "outputs": [],
   "source": [
    "def changeLoc(x,y,CHANGE):\n",
    "    train[\"Location\"].replace(CHANGE,(str(x)+\", VIC, \"+str(y)+\", Australia\"), \n",
    "           inplace=True)\n",
    "changeLoc(\"Preston\",3072,\"Preston,\\xa0VIC,\\xa03072\")\n",
    "changeLoc(\"South Melbourne\",3205,\"South Melbourne,\\xa0VIC\\xa03205\")\n",
    "changeLoc(\"Mulgrave\",3170,\"Mulgrave\\xa0VIC\\xa03170\")\n",
    "changeLoc(\"Mulgrave\",3170,\"Mulgrave VIC 3170\")\n",
    "changeLoc(\"Epping\",3076,\" Epping VIC 3076\")\n",
    "changeLoc(\"Ringwood\",3134,\"Ringwood VIC 3134\")\n",
    "changeLoc(\"Wheelers Hill\",3170,\"Wheelers Hill VIC 3170\")\n",
    "changeLoc(\"Mulgrave\",3170,np.nan)"
   ]
  },
  {
   "cell_type": "code",
   "execution_count": 9,
   "id": "33fd66c0",
   "metadata": {},
   "outputs": [
    {
     "data": {
      "text/plain": [
       "array(['Wheelers Hill, VIC, 3170, Australia',\n",
       "       'Preston, VIC, 3072, Australia',\n",
       "       'South Melbourne, VIC, 3205, Australia',\n",
       "       'Keysborough, VIC, 3173, Australia',\n",
       "       'Mulgrave, VIC, 3170, Australia',\n",
       "       'Dandenong, VIC, 3175, Australia',\n",
       "       'Springvale, VIC, 3171, Australia',\n",
       "       'Ringwood, VIC, 3134, Australia', 'Epping, VIC, 3076, Australia'],\n",
       "      dtype=object)"
      ]
     },
     "execution_count": 9,
     "metadata": {},
     "output_type": "execute_result"
    }
   ],
   "source": [
    "train['Location'].unique()"
   ]
  },
  {
   "cell_type": "markdown",
   "id": "f62f7053",
   "metadata": {},
   "source": [
    "Date"
   ]
  },
  {
   "cell_type": "code",
   "execution_count": 10,
   "id": "ebb1f467",
   "metadata": {},
   "outputs": [
    {
     "data": {
      "text/plain": [
       "array(['2017-01-01T00:00:00.000000000', '2017-01-02T00:00:00.000000000',\n",
       "       '2017-01-03T00:00:00.000000000', ...,\n",
       "       '2021-06-28T00:00:00.000000000', '2021-06-29T00:00:00.000000000',\n",
       "       '2021-06-30T00:00:00.000000000'], dtype='datetime64[ns]')"
      ]
     },
     "execution_count": 10,
     "metadata": {},
     "output_type": "execute_result"
    }
   ],
   "source": [
    "train.Date=pd.to_datetime(train.Date,format='%m/%d/%Y')\n",
    "train.Date.dtypes\n",
    "train.Date.unique()"
   ]
  },
  {
   "cell_type": "code",
   "execution_count": 11,
   "id": "646cd6d2",
   "metadata": {},
   "outputs": [],
   "source": [
    "train['year'] = pd.DatetimeIndex(train['Date']).year\n",
    "train['month'] = pd.DatetimeIndex(train['Date']).month\n",
    "train['day'] = pd.DatetimeIndex(train['Date']).day"
   ]
  },
  {
   "cell_type": "code",
   "execution_count": 12,
   "id": "28fc0160",
   "metadata": {},
   "outputs": [
    {
     "data": {
      "text/plain": [
       "182500"
      ]
     },
     "execution_count": 12,
     "metadata": {},
     "output_type": "execute_result"
    }
   ],
   "source": [
    "len(train[train[\"year\"]==2017])"
   ]
  },
  {
   "cell_type": "code",
   "execution_count": 13,
   "id": "8083ab10",
   "metadata": {},
   "outputs": [
    {
     "data": {
      "text/html": [
       "<div>\n",
       "<style scoped>\n",
       "    .dataframe tbody tr th:only-of-type {\n",
       "        vertical-align: middle;\n",
       "    }\n",
       "\n",
       "    .dataframe tbody tr th {\n",
       "        vertical-align: top;\n",
       "    }\n",
       "\n",
       "    .dataframe thead th {\n",
       "        text-align: right;\n",
       "    }\n",
       "</style>\n",
       "<table border=\"1\" class=\"dataframe\">\n",
       "  <thead>\n",
       "    <tr style=\"text-align: right;\">\n",
       "      <th></th>\n",
       "      <th>Date</th>\n",
       "      <th>Store</th>\n",
       "      <th>Item</th>\n",
       "      <th>Sales</th>\n",
       "      <th>Average Rating</th>\n",
       "      <th>Location</th>\n",
       "      <th>Category</th>\n",
       "      <th>Branding</th>\n",
       "      <th>year</th>\n",
       "      <th>month</th>\n",
       "      <th>day</th>\n",
       "    </tr>\n",
       "  </thead>\n",
       "  <tbody>\n",
       "    <tr>\n",
       "      <th>0</th>\n",
       "      <td>2017-01-01</td>\n",
       "      <td>KMart</td>\n",
       "      <td>1</td>\n",
       "      <td>13</td>\n",
       "      <td>2.8</td>\n",
       "      <td>Wheelers Hill, VIC, 3170, Australia</td>\n",
       "      <td>Electronics</td>\n",
       "      <td>Sony</td>\n",
       "      <td>2017</td>\n",
       "      <td>1</td>\n",
       "      <td>1</td>\n",
       "    </tr>\n",
       "    <tr>\n",
       "      <th>1</th>\n",
       "      <td>2017-01-02</td>\n",
       "      <td>KMart</td>\n",
       "      <td>1</td>\n",
       "      <td>11</td>\n",
       "      <td>1.4</td>\n",
       "      <td>Wheelers Hill, VIC, 3170, Australia</td>\n",
       "      <td>Electronics</td>\n",
       "      <td>Sony</td>\n",
       "      <td>2017</td>\n",
       "      <td>1</td>\n",
       "      <td>2</td>\n",
       "    </tr>\n",
       "    <tr>\n",
       "      <th>2</th>\n",
       "      <td>2017-01-03</td>\n",
       "      <td>KMart</td>\n",
       "      <td>1</td>\n",
       "      <td>14</td>\n",
       "      <td>1.8</td>\n",
       "      <td>Wheelers Hill, VIC, 3170, Australia</td>\n",
       "      <td>Electronics</td>\n",
       "      <td>Sony</td>\n",
       "      <td>2017</td>\n",
       "      <td>1</td>\n",
       "      <td>3</td>\n",
       "    </tr>\n",
       "    <tr>\n",
       "      <th>3</th>\n",
       "      <td>2017-01-04</td>\n",
       "      <td>KMart</td>\n",
       "      <td>1</td>\n",
       "      <td>13</td>\n",
       "      <td>1.3</td>\n",
       "      <td>Wheelers Hill, VIC, 3170, Australia</td>\n",
       "      <td>Electronics</td>\n",
       "      <td>Sony</td>\n",
       "      <td>2017</td>\n",
       "      <td>1</td>\n",
       "      <td>4</td>\n",
       "    </tr>\n",
       "    <tr>\n",
       "      <th>4</th>\n",
       "      <td>2017-01-05</td>\n",
       "      <td>KMart</td>\n",
       "      <td>1</td>\n",
       "      <td>10</td>\n",
       "      <td>2.9</td>\n",
       "      <td>Wheelers Hill, VIC, 3170, Australia</td>\n",
       "      <td>Electronics</td>\n",
       "      <td>Sony</td>\n",
       "      <td>2017</td>\n",
       "      <td>1</td>\n",
       "      <td>5</td>\n",
       "    </tr>\n",
       "  </tbody>\n",
       "</table>\n",
       "</div>"
      ],
      "text/plain": [
       "        Date  Store  Item  Sales  Average Rating  \\\n",
       "0 2017-01-01  KMart     1     13             2.8   \n",
       "1 2017-01-02  KMart     1     11             1.4   \n",
       "2 2017-01-03  KMart     1     14             1.8   \n",
       "3 2017-01-04  KMart     1     13             1.3   \n",
       "4 2017-01-05  KMart     1     10             2.9   \n",
       "\n",
       "                              Location     Category Branding  year  month  day  \n",
       "0  Wheelers Hill, VIC, 3170, Australia  Electronics     Sony  2017      1    1  \n",
       "1  Wheelers Hill, VIC, 3170, Australia  Electronics     Sony  2017      1    2  \n",
       "2  Wheelers Hill, VIC, 3170, Australia  Electronics     Sony  2017      1    3  \n",
       "3  Wheelers Hill, VIC, 3170, Australia  Electronics     Sony  2017      1    4  \n",
       "4  Wheelers Hill, VIC, 3170, Australia  Electronics     Sony  2017      1    5  "
      ]
     },
     "execution_count": 13,
     "metadata": {},
     "output_type": "execute_result"
    }
   ],
   "source": [
    "train.head()"
   ]
  },
  {
   "cell_type": "code",
   "execution_count": 14,
   "id": "11ab497e",
   "metadata": {},
   "outputs": [],
   "source": [
    "train_dummy=pd.get_dummies(train.Category,prefix=\"Category\")\n",
    "train=pd.concat([train,train_dummy],axis=1)\n",
    "train=train.drop(columns=[\"Category\"])"
   ]
  },
  {
   "cell_type": "code",
   "execution_count": 15,
   "id": "04fbab3a",
   "metadata": {},
   "outputs": [],
   "source": [
    "train_bdummy=pd.get_dummies(train.Branding,prefix=\"Branding\")\n",
    "train=pd.concat([train,train_bdummy],axis=1)\n",
    "train=train.drop(columns=[\"Branding\"])"
   ]
  },
  {
   "cell_type": "code",
   "execution_count": 16,
   "id": "1c544a75",
   "metadata": {},
   "outputs": [],
   "source": [
    "train_storedummy=pd.get_dummies(train.Store,prefix=\"Store\")\n",
    "train=pd.concat([train,train_storedummy],axis=1)\n",
    "train=train.drop(columns=[\"Store\"])"
   ]
  },
  {
   "cell_type": "code",
   "execution_count": 17,
   "id": "8f2c788d",
   "metadata": {},
   "outputs": [],
   "source": [
    "train_locationdummy=pd.get_dummies(train.Location,prefix=\"Store\")\n",
    "train=pd.concat([train,train_locationdummy],axis=1)\n",
    "train=train.drop(columns=[\"Location\"])"
   ]
  },
  {
   "cell_type": "code",
   "execution_count": 18,
   "id": "49244cf1",
   "metadata": {},
   "outputs": [
    {
     "data": {
      "text/html": [
       "<div>\n",
       "<style scoped>\n",
       "    .dataframe tbody tr th:only-of-type {\n",
       "        vertical-align: middle;\n",
       "    }\n",
       "\n",
       "    .dataframe tbody tr th {\n",
       "        vertical-align: top;\n",
       "    }\n",
       "\n",
       "    .dataframe thead th {\n",
       "        text-align: right;\n",
       "    }\n",
       "</style>\n",
       "<table border=\"1\" class=\"dataframe\">\n",
       "  <thead>\n",
       "    <tr style=\"text-align: right;\">\n",
       "      <th></th>\n",
       "      <th>Date</th>\n",
       "      <th>Item</th>\n",
       "      <th>Sales</th>\n",
       "      <th>Average Rating</th>\n",
       "      <th>year</th>\n",
       "      <th>month</th>\n",
       "      <th>day</th>\n",
       "      <th>Category_Clothing &amp; Accessories</th>\n",
       "      <th>Category_Cosmetics</th>\n",
       "      <th>Category_Electronics</th>\n",
       "      <th>...</th>\n",
       "      <th>Store_Woolies</th>\n",
       "      <th>Store_Dandenong, VIC, 3175, Australia</th>\n",
       "      <th>Store_Epping, VIC, 3076, Australia</th>\n",
       "      <th>Store_Keysborough, VIC, 3173, Australia</th>\n",
       "      <th>Store_Mulgrave, VIC, 3170, Australia</th>\n",
       "      <th>Store_Preston, VIC, 3072, Australia</th>\n",
       "      <th>Store_Ringwood, VIC, 3134, Australia</th>\n",
       "      <th>Store_South Melbourne, VIC, 3205, Australia</th>\n",
       "      <th>Store_Springvale, VIC, 3171, Australia</th>\n",
       "      <th>Store_Wheelers Hill, VIC, 3170, Australia</th>\n",
       "    </tr>\n",
       "  </thead>\n",
       "  <tbody>\n",
       "    <tr>\n",
       "      <th>0</th>\n",
       "      <td>2017-01-01</td>\n",
       "      <td>1</td>\n",
       "      <td>13</td>\n",
       "      <td>2.8</td>\n",
       "      <td>2017</td>\n",
       "      <td>1</td>\n",
       "      <td>1</td>\n",
       "      <td>0</td>\n",
       "      <td>0</td>\n",
       "      <td>1</td>\n",
       "      <td>...</td>\n",
       "      <td>0</td>\n",
       "      <td>0</td>\n",
       "      <td>0</td>\n",
       "      <td>0</td>\n",
       "      <td>0</td>\n",
       "      <td>0</td>\n",
       "      <td>0</td>\n",
       "      <td>0</td>\n",
       "      <td>0</td>\n",
       "      <td>1</td>\n",
       "    </tr>\n",
       "    <tr>\n",
       "      <th>1</th>\n",
       "      <td>2017-01-02</td>\n",
       "      <td>1</td>\n",
       "      <td>11</td>\n",
       "      <td>1.4</td>\n",
       "      <td>2017</td>\n",
       "      <td>1</td>\n",
       "      <td>2</td>\n",
       "      <td>0</td>\n",
       "      <td>0</td>\n",
       "      <td>1</td>\n",
       "      <td>...</td>\n",
       "      <td>0</td>\n",
       "      <td>0</td>\n",
       "      <td>0</td>\n",
       "      <td>0</td>\n",
       "      <td>0</td>\n",
       "      <td>0</td>\n",
       "      <td>0</td>\n",
       "      <td>0</td>\n",
       "      <td>0</td>\n",
       "      <td>1</td>\n",
       "    </tr>\n",
       "    <tr>\n",
       "      <th>2</th>\n",
       "      <td>2017-01-03</td>\n",
       "      <td>1</td>\n",
       "      <td>14</td>\n",
       "      <td>1.8</td>\n",
       "      <td>2017</td>\n",
       "      <td>1</td>\n",
       "      <td>3</td>\n",
       "      <td>0</td>\n",
       "      <td>0</td>\n",
       "      <td>1</td>\n",
       "      <td>...</td>\n",
       "      <td>0</td>\n",
       "      <td>0</td>\n",
       "      <td>0</td>\n",
       "      <td>0</td>\n",
       "      <td>0</td>\n",
       "      <td>0</td>\n",
       "      <td>0</td>\n",
       "      <td>0</td>\n",
       "      <td>0</td>\n",
       "      <td>1</td>\n",
       "    </tr>\n",
       "    <tr>\n",
       "      <th>3</th>\n",
       "      <td>2017-01-04</td>\n",
       "      <td>1</td>\n",
       "      <td>13</td>\n",
       "      <td>1.3</td>\n",
       "      <td>2017</td>\n",
       "      <td>1</td>\n",
       "      <td>4</td>\n",
       "      <td>0</td>\n",
       "      <td>0</td>\n",
       "      <td>1</td>\n",
       "      <td>...</td>\n",
       "      <td>0</td>\n",
       "      <td>0</td>\n",
       "      <td>0</td>\n",
       "      <td>0</td>\n",
       "      <td>0</td>\n",
       "      <td>0</td>\n",
       "      <td>0</td>\n",
       "      <td>0</td>\n",
       "      <td>0</td>\n",
       "      <td>1</td>\n",
       "    </tr>\n",
       "    <tr>\n",
       "      <th>4</th>\n",
       "      <td>2017-01-05</td>\n",
       "      <td>1</td>\n",
       "      <td>10</td>\n",
       "      <td>2.9</td>\n",
       "      <td>2017</td>\n",
       "      <td>1</td>\n",
       "      <td>5</td>\n",
       "      <td>0</td>\n",
       "      <td>0</td>\n",
       "      <td>1</td>\n",
       "      <td>...</td>\n",
       "      <td>0</td>\n",
       "      <td>0</td>\n",
       "      <td>0</td>\n",
       "      <td>0</td>\n",
       "      <td>0</td>\n",
       "      <td>0</td>\n",
       "      <td>0</td>\n",
       "      <td>0</td>\n",
       "      <td>0</td>\n",
       "      <td>1</td>\n",
       "    </tr>\n",
       "  </tbody>\n",
       "</table>\n",
       "<p>5 rows × 58 columns</p>\n",
       "</div>"
      ],
      "text/plain": [
       "        Date  Item  Sales  Average Rating  year  month  day  \\\n",
       "0 2017-01-01     1     13             2.8  2017      1    1   \n",
       "1 2017-01-02     1     11             1.4  2017      1    2   \n",
       "2 2017-01-03     1     14             1.8  2017      1    3   \n",
       "3 2017-01-04     1     13             1.3  2017      1    4   \n",
       "4 2017-01-05     1     10             2.9  2017      1    5   \n",
       "\n",
       "   Category_Clothing & Accessories  Category_Cosmetics  Category_Electronics  \\\n",
       "0                                0                   0                     1   \n",
       "1                                0                   0                     1   \n",
       "2                                0                   0                     1   \n",
       "3                                0                   0                     1   \n",
       "4                                0                   0                     1   \n",
       "\n",
       "   ...  Store_Woolies  Store_Dandenong, VIC, 3175, Australia  \\\n",
       "0  ...              0                                      0   \n",
       "1  ...              0                                      0   \n",
       "2  ...              0                                      0   \n",
       "3  ...              0                                      0   \n",
       "4  ...              0                                      0   \n",
       "\n",
       "   Store_Epping, VIC, 3076, Australia  \\\n",
       "0                                   0   \n",
       "1                                   0   \n",
       "2                                   0   \n",
       "3                                   0   \n",
       "4                                   0   \n",
       "\n",
       "   Store_Keysborough, VIC, 3173, Australia  \\\n",
       "0                                        0   \n",
       "1                                        0   \n",
       "2                                        0   \n",
       "3                                        0   \n",
       "4                                        0   \n",
       "\n",
       "   Store_Mulgrave, VIC, 3170, Australia  Store_Preston, VIC, 3072, Australia  \\\n",
       "0                                     0                                    0   \n",
       "1                                     0                                    0   \n",
       "2                                     0                                    0   \n",
       "3                                     0                                    0   \n",
       "4                                     0                                    0   \n",
       "\n",
       "   Store_Ringwood, VIC, 3134, Australia  \\\n",
       "0                                     0   \n",
       "1                                     0   \n",
       "2                                     0   \n",
       "3                                     0   \n",
       "4                                     0   \n",
       "\n",
       "   Store_South Melbourne, VIC, 3205, Australia  \\\n",
       "0                                            0   \n",
       "1                                            0   \n",
       "2                                            0   \n",
       "3                                            0   \n",
       "4                                            0   \n",
       "\n",
       "   Store_Springvale, VIC, 3171, Australia  \\\n",
       "0                                       0   \n",
       "1                                       0   \n",
       "2                                       0   \n",
       "3                                       0   \n",
       "4                                       0   \n",
       "\n",
       "   Store_Wheelers Hill, VIC, 3170, Australia  \n",
       "0                                          1  \n",
       "1                                          1  \n",
       "2                                          1  \n",
       "3                                          1  \n",
       "4                                          1  \n",
       "\n",
       "[5 rows x 58 columns]"
      ]
     },
     "execution_count": 18,
     "metadata": {},
     "output_type": "execute_result"
    }
   ],
   "source": [
    "train.head()"
   ]
  },
  {
   "cell_type": "markdown",
   "id": "995e011f",
   "metadata": {},
   "source": [
    "# "
   ]
  },
  {
   "cell_type": "code",
   "execution_count": null,
   "id": "bc7a28aa",
   "metadata": {},
   "outputs": [],
   "source": [
    "from statsmodels.tsa.stattools import adfuller\n",
    "from numpy import log\n",
    "result = adfuller(train.Sales.dropna())\n",
    "print('ADF Statistic: %f' % result[0])\n",
    "print('p-value: %f' % result[1])"
   ]
  },
  {
   "cell_type": "code",
   "execution_count": null,
   "id": "12f45262",
   "metadata": {},
   "outputs": [],
   "source": []
  }
 ],
 "metadata": {
  "kernelspec": {
   "display_name": "Python 3",
   "language": "python",
   "name": "python3"
  },
  "language_info": {
   "codemirror_mode": {
    "name": "ipython",
    "version": 3
   },
   "file_extension": ".py",
   "mimetype": "text/x-python",
   "name": "python",
   "nbconvert_exporter": "python",
   "pygments_lexer": "ipython3",
   "version": "3.8.8"
  }
 },
 "nbformat": 4,
 "nbformat_minor": 5
}
