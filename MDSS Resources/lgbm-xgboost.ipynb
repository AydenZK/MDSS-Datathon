{
 "cells": [
  {
   "cell_type": "code",
   "execution_count": 1,
   "id": "65ed104b",
   "metadata": {
    "_cell_guid": "b1076dfc-b9ad-4769-8c92-a6c4dae69d19",
    "_uuid": "8f2839f25d086af736a60e9eeb907d3b93b6e0e5",
    "execution": {
     "iopub.execute_input": "2021-09-20T17:32:16.126682Z",
     "iopub.status.busy": "2021-09-20T17:32:16.125388Z",
     "iopub.status.idle": "2021-09-20T17:32:16.142327Z",
     "shell.execute_reply": "2021-09-20T17:32:16.142860Z",
     "shell.execute_reply.started": "2021-09-20T17:16:26.488313Z"
    },
    "papermill": {
     "duration": 0.036945,
     "end_time": "2021-09-20T17:32:16.143141",
     "exception": false,
     "start_time": "2021-09-20T17:32:16.106196",
     "status": "completed"
    },
    "tags": []
   },
   "outputs": [
    {
     "name": "stdout",
     "output_type": "stream",
     "text": [
      "/kaggle/input/datathon-advanced-level/sample_submission.csv\n",
      "/kaggle/input/datathon-advanced-level/train.csv\n",
      "/kaggle/input/datathon-advanced-level/test.csv\n"
     ]
    }
   ],
   "source": [
    "# This Python 3 environment comes with many helpful analytics libraries installed\n",
    "# It is defined by the kaggle/python Docker image: https://github.com/kaggle/docker-python\n",
    "# For example, here's several helpful packages to load\n",
    "\n",
    "import numpy as np # linear algebra\n",
    "import pandas as pd # data processing, CSV file I/O (e.g. pd.read_csv)\n",
    "\n",
    "# Input data files are available in the read-only \"../input/\" directory\n",
    "# For example, running this (by clicking run or pressing Shift+Enter) will list all files under the input directory\n",
    "\n",
    "import os\n",
    "for dirname, _, filenames in os.walk('/kaggle/input'):\n",
    "    for filename in filenames:\n",
    "        print(os.path.join(dirname, filename))\n",
    "\n",
    "# You can write up to 20GB to the current directory (/kaggle/working/) that gets preserved as output when you create a version using \"Save & Run All\" \n",
    "# You can also write temporary files to /kaggle/temp/, but they won't be saved outside of the current session"
   ]
  },
  {
   "cell_type": "code",
   "execution_count": 2,
   "id": "175546e8",
   "metadata": {
    "execution": {
     "iopub.execute_input": "2021-09-20T17:32:16.171984Z",
     "iopub.status.busy": "2021-09-20T17:32:16.171344Z",
     "iopub.status.idle": "2021-09-20T17:32:18.483238Z",
     "shell.execute_reply": "2021-09-20T17:32:18.482527Z",
     "shell.execute_reply.started": "2021-09-20T17:26:04.526604Z"
    },
    "papermill": {
     "duration": 2.326952,
     "end_time": "2021-09-20T17:32:18.483389",
     "exception": false,
     "start_time": "2021-09-20T17:32:16.156437",
     "status": "completed"
    },
    "tags": []
   },
   "outputs": [],
   "source": [
    "import pandas as pd\n",
    "\n",
    "train = pd.read_csv(\"../input/datathon-advanced-level/train.csv\")\n",
    "test = pd.read_csv(\"../input/datathon-advanced-level/test.csv\")"
   ]
  },
  {
   "cell_type": "code",
   "execution_count": 3,
   "id": "3225b34f",
   "metadata": {
    "execution": {
     "iopub.execute_input": "2021-09-20T17:32:18.518471Z",
     "iopub.status.busy": "2021-09-20T17:32:18.517812Z",
     "iopub.status.idle": "2021-09-20T17:32:18.535777Z",
     "shell.execute_reply": "2021-09-20T17:32:18.535229Z",
     "shell.execute_reply.started": "2021-09-20T17:26:07.500512Z"
    },
    "papermill": {
     "duration": 0.039653,
     "end_time": "2021-09-20T17:32:18.535933",
     "exception": false,
     "start_time": "2021-09-20T17:32:18.496280",
     "status": "completed"
    },
    "tags": []
   },
   "outputs": [
    {
     "data": {
      "text/html": [
       "<div>\n",
       "<style scoped>\n",
       "    .dataframe tbody tr th:only-of-type {\n",
       "        vertical-align: middle;\n",
       "    }\n",
       "\n",
       "    .dataframe tbody tr th {\n",
       "        vertical-align: top;\n",
       "    }\n",
       "\n",
       "    .dataframe thead th {\n",
       "        text-align: right;\n",
       "    }\n",
       "</style>\n",
       "<table border=\"1\" class=\"dataframe\">\n",
       "  <thead>\n",
       "    <tr style=\"text-align: right;\">\n",
       "      <th></th>\n",
       "      <th>Date</th>\n",
       "      <th>Store</th>\n",
       "      <th>Item</th>\n",
       "      <th>Sales</th>\n",
       "      <th>Average Rating</th>\n",
       "      <th>Location</th>\n",
       "      <th>Category</th>\n",
       "      <th>Branding</th>\n",
       "    </tr>\n",
       "  </thead>\n",
       "  <tbody>\n",
       "    <tr>\n",
       "      <th>0</th>\n",
       "      <td>2013-01-01</td>\n",
       "      <td>1</td>\n",
       "      <td>1</td>\n",
       "      <td>13</td>\n",
       "      <td>2.8</td>\n",
       "      <td>Wheelers Hill VIC 3170</td>\n",
       "      <td>Electronics</td>\n",
       "      <td>Sony</td>\n",
       "    </tr>\n",
       "    <tr>\n",
       "      <th>1</th>\n",
       "      <td>2013-01-02</td>\n",
       "      <td>1</td>\n",
       "      <td>1</td>\n",
       "      <td>11</td>\n",
       "      <td>1.4</td>\n",
       "      <td>Wheelers Hill VIC 3170</td>\n",
       "      <td>Electronics</td>\n",
       "      <td>Sony</td>\n",
       "    </tr>\n",
       "    <tr>\n",
       "      <th>2</th>\n",
       "      <td>2013-01-03</td>\n",
       "      <td>1</td>\n",
       "      <td>1</td>\n",
       "      <td>14</td>\n",
       "      <td>1.8</td>\n",
       "      <td>Wheelers Hill VIC 3170</td>\n",
       "      <td>Electronics</td>\n",
       "      <td>Sony</td>\n",
       "    </tr>\n",
       "    <tr>\n",
       "      <th>3</th>\n",
       "      <td>2013-01-04</td>\n",
       "      <td>1</td>\n",
       "      <td>1</td>\n",
       "      <td>13</td>\n",
       "      <td>1.3</td>\n",
       "      <td>Wheelers Hill VIC 3170</td>\n",
       "      <td>Electronics</td>\n",
       "      <td>Sony</td>\n",
       "    </tr>\n",
       "    <tr>\n",
       "      <th>4</th>\n",
       "      <td>2013-01-05</td>\n",
       "      <td>1</td>\n",
       "      <td>1</td>\n",
       "      <td>10</td>\n",
       "      <td>2.9</td>\n",
       "      <td>Wheelers Hill VIC 3170</td>\n",
       "      <td>Electronics</td>\n",
       "      <td>Sony</td>\n",
       "    </tr>\n",
       "  </tbody>\n",
       "</table>\n",
       "</div>"
      ],
      "text/plain": [
       "         Date  Store  Item  Sales  Average Rating                Location  \\\n",
       "0  2013-01-01      1     1     13             2.8  Wheelers Hill VIC 3170   \n",
       "1  2013-01-02      1     1     11             1.4  Wheelers Hill VIC 3170   \n",
       "2  2013-01-03      1     1     14             1.8  Wheelers Hill VIC 3170   \n",
       "3  2013-01-04      1     1     13             1.3  Wheelers Hill VIC 3170   \n",
       "4  2013-01-05      1     1     10             2.9  Wheelers Hill VIC 3170   \n",
       "\n",
       "      Category Branding  \n",
       "0  Electronics     Sony  \n",
       "1  Electronics     Sony  \n",
       "2  Electronics     Sony  \n",
       "3  Electronics     Sony  \n",
       "4  Electronics     Sony  "
      ]
     },
     "execution_count": 3,
     "metadata": {},
     "output_type": "execute_result"
    }
   ],
   "source": [
    "train.head()"
   ]
  },
  {
   "cell_type": "code",
   "execution_count": 4,
   "id": "a4e9c3ae",
   "metadata": {
    "execution": {
     "iopub.execute_input": "2021-09-20T17:32:18.575585Z",
     "iopub.status.busy": "2021-09-20T17:32:18.574816Z",
     "iopub.status.idle": "2021-09-20T17:32:18.579007Z",
     "shell.execute_reply": "2021-09-20T17:32:18.578461Z",
     "shell.execute_reply.started": "2021-09-20T17:26:20.159055Z"
    },
    "papermill": {
     "duration": 0.029927,
     "end_time": "2021-09-20T17:32:18.579228",
     "exception": false,
     "start_time": "2021-09-20T17:32:18.549301",
     "status": "completed"
    },
    "tags": []
   },
   "outputs": [
    {
     "data": {
      "text/html": [
       "<div>\n",
       "<style scoped>\n",
       "    .dataframe tbody tr th:only-of-type {\n",
       "        vertical-align: middle;\n",
       "    }\n",
       "\n",
       "    .dataframe tbody tr th {\n",
       "        vertical-align: top;\n",
       "    }\n",
       "\n",
       "    .dataframe thead th {\n",
       "        text-align: right;\n",
       "    }\n",
       "</style>\n",
       "<table border=\"1\" class=\"dataframe\">\n",
       "  <thead>\n",
       "    <tr style=\"text-align: right;\">\n",
       "      <th></th>\n",
       "      <th>Date</th>\n",
       "      <th>Store</th>\n",
       "      <th>Item</th>\n",
       "      <th>Sales</th>\n",
       "      <th>Average Rating</th>\n",
       "      <th>Location</th>\n",
       "      <th>Category</th>\n",
       "      <th>Branding</th>\n",
       "    </tr>\n",
       "  </thead>\n",
       "  <tbody>\n",
       "    <tr>\n",
       "      <th>0</th>\n",
       "      <td>2017-07-01</td>\n",
       "      <td>1</td>\n",
       "      <td>1</td>\n",
       "      <td>31</td>\n",
       "      <td>1.5</td>\n",
       "      <td>Wheelers Hill VIC 3170</td>\n",
       "      <td>Electronics</td>\n",
       "      <td>Sony</td>\n",
       "    </tr>\n",
       "    <tr>\n",
       "      <th>1</th>\n",
       "      <td>2017-07-02</td>\n",
       "      <td>1</td>\n",
       "      <td>1</td>\n",
       "      <td>38</td>\n",
       "      <td>1.8</td>\n",
       "      <td>Wheelers Hill VIC 3170</td>\n",
       "      <td>Electronics</td>\n",
       "      <td>Sony</td>\n",
       "    </tr>\n",
       "    <tr>\n",
       "      <th>2</th>\n",
       "      <td>2017-07-03</td>\n",
       "      <td>1</td>\n",
       "      <td>1</td>\n",
       "      <td>18</td>\n",
       "      <td>2.1</td>\n",
       "      <td>Wheelers Hill VIC 3170</td>\n",
       "      <td>Electronics</td>\n",
       "      <td>Sony</td>\n",
       "    </tr>\n",
       "    <tr>\n",
       "      <th>3</th>\n",
       "      <td>2017-07-04</td>\n",
       "      <td>1</td>\n",
       "      <td>1</td>\n",
       "      <td>23</td>\n",
       "      <td>2.5</td>\n",
       "      <td>Wheelers Hill VIC 3170</td>\n",
       "      <td>Electronics</td>\n",
       "      <td>Sony</td>\n",
       "    </tr>\n",
       "    <tr>\n",
       "      <th>4</th>\n",
       "      <td>2017-07-05</td>\n",
       "      <td>1</td>\n",
       "      <td>1</td>\n",
       "      <td>23</td>\n",
       "      <td>1.4</td>\n",
       "      <td>Wheelers Hill VIC 3170</td>\n",
       "      <td>Electronics</td>\n",
       "      <td>Sony</td>\n",
       "    </tr>\n",
       "  </tbody>\n",
       "</table>\n",
       "</div>"
      ],
      "text/plain": [
       "         Date  Store  Item  Sales  Average Rating                Location  \\\n",
       "0  2017-07-01      1     1     31             1.5  Wheelers Hill VIC 3170   \n",
       "1  2017-07-02      1     1     38             1.8  Wheelers Hill VIC 3170   \n",
       "2  2017-07-03      1     1     18             2.1  Wheelers Hill VIC 3170   \n",
       "3  2017-07-04      1     1     23             2.5  Wheelers Hill VIC 3170   \n",
       "4  2017-07-05      1     1     23             1.4  Wheelers Hill VIC 3170   \n",
       "\n",
       "      Category Branding  \n",
       "0  Electronics     Sony  \n",
       "1  Electronics     Sony  \n",
       "2  Electronics     Sony  \n",
       "3  Electronics     Sony  \n",
       "4  Electronics     Sony  "
      ]
     },
     "execution_count": 4,
     "metadata": {},
     "output_type": "execute_result"
    }
   ],
   "source": [
    "test.head()"
   ]
  },
  {
   "cell_type": "code",
   "execution_count": 5,
   "id": "93a68f4d",
   "metadata": {
    "execution": {
     "iopub.execute_input": "2021-09-20T17:32:18.860788Z",
     "iopub.status.busy": "2021-09-20T17:32:18.860086Z",
     "iopub.status.idle": "2021-09-20T17:32:18.922387Z",
     "shell.execute_reply": "2021-09-20T17:32:18.921823Z",
     "shell.execute_reply.started": "2021-09-20T17:26:30.615273Z"
    },
    "papermill": {
     "duration": 0.329142,
     "end_time": "2021-09-20T17:32:18.922550",
     "exception": false,
     "start_time": "2021-09-20T17:32:18.593408",
     "status": "completed"
    },
    "tags": []
   },
   "outputs": [],
   "source": [
    "train.Date = pd.to_datetime(train.Date)\n",
    "test.Date = pd.to_datetime(test.Date)"
   ]
  },
  {
   "cell_type": "code",
   "execution_count": 6,
   "id": "1363cb22",
   "metadata": {
    "execution": {
     "iopub.execute_input": "2021-09-20T17:32:18.955819Z",
     "iopub.status.busy": "2021-09-20T17:32:18.955166Z",
     "iopub.status.idle": "2021-09-20T17:32:18.989934Z",
     "shell.execute_reply": "2021-09-20T17:32:18.989315Z",
     "shell.execute_reply.started": "2021-09-20T17:27:21.722614Z"
    },
    "papermill": {
     "duration": 0.053737,
     "end_time": "2021-09-20T17:32:18.990069",
     "exception": false,
     "start_time": "2021-09-20T17:32:18.936332",
     "status": "completed"
    },
    "tags": []
   },
   "outputs": [],
   "source": [
    "train['rolling_feature'] = train['Sales'].rolling(window=7).mean()\n",
    "test['rolling_feature'] = test['Sales'].rolling(window=7).mean()"
   ]
  },
  {
   "cell_type": "code",
   "execution_count": 7,
   "id": "82d5f072",
   "metadata": {
    "execution": {
     "iopub.execute_input": "2021-09-20T17:32:19.024451Z",
     "iopub.status.busy": "2021-09-20T17:32:19.023789Z",
     "iopub.status.idle": "2021-09-20T17:32:19.035608Z",
     "shell.execute_reply": "2021-09-20T17:32:19.035039Z",
     "shell.execute_reply.started": "2021-09-20T17:27:22.983004Z"
    },
    "papermill": {
     "duration": 0.031768,
     "end_time": "2021-09-20T17:32:19.035755",
     "exception": false,
     "start_time": "2021-09-20T17:32:19.003987",
     "status": "completed"
    },
    "tags": []
   },
   "outputs": [],
   "source": [
    "train.loc[train.rolling_feature.isna(),'rolling_feature'] = train.loc[:10,\"rolling_feature\"].mean()\n",
    "test.loc[test.rolling_feature.isna(),'rolling_feature'] = test.loc[:10,\"rolling_feature\"].mean()"
   ]
  },
  {
   "cell_type": "code",
   "execution_count": 8,
   "id": "1f2d66a9",
   "metadata": {
    "execution": {
     "iopub.execute_input": "2021-09-20T17:32:19.070735Z",
     "iopub.status.busy": "2021-09-20T17:32:19.070033Z",
     "iopub.status.idle": "2021-09-20T17:32:19.335511Z",
     "shell.execute_reply": "2021-09-20T17:32:19.334821Z",
     "shell.execute_reply.started": "2021-09-20T17:27:24.294060Z"
    },
    "papermill": {
     "duration": 0.285525,
     "end_time": "2021-09-20T17:32:19.335660",
     "exception": false,
     "start_time": "2021-09-20T17:32:19.050135",
     "status": "completed"
    },
    "tags": []
   },
   "outputs": [],
   "source": [
    "train['year']=train['Date'].dt.year \n",
    "train['month']=train['Date'].dt.month \n",
    "train['day']=train['Date'].dt.day\n",
    "\n",
    "test['year']=test['Date'].dt.year \n",
    "test['month']=test['Date'].dt.month \n",
    "test['day']=test['Date'].dt.day"
   ]
  },
  {
   "cell_type": "code",
   "execution_count": 9,
   "id": "92c2c5b9",
   "metadata": {
    "execution": {
     "iopub.execute_input": "2021-09-20T17:32:19.370835Z",
     "iopub.status.busy": "2021-09-20T17:32:19.370026Z",
     "iopub.status.idle": "2021-09-20T17:32:20.509767Z",
     "shell.execute_reply": "2021-09-20T17:32:20.509077Z",
     "shell.execute_reply.started": "2021-09-20T17:27:44.894140Z"
    },
    "papermill": {
     "duration": 1.159889,
     "end_time": "2021-09-20T17:32:20.509932",
     "exception": false,
     "start_time": "2021-09-20T17:32:19.350043",
     "status": "completed"
    },
    "tags": []
   },
   "outputs": [],
   "source": [
    "from sklearn.model_selection import train_test_split\n",
    "\n",
    "\n",
    "X = train.loc[:,[\"Store\",\"Item\",\"month\",\"day\",\"year\",\"rolling_feature\"]]\n",
    "X_test = test.loc[:,[\"Store\",\"Item\",\"month\",\"day\",\"year\",\"rolling_feature\"]]\n",
    "y = train.Sales\n",
    "y_test = test.Sales\n",
    "\n",
    "X_train,X_valid,y_train,y_valid = train_test_split(X,y,test_size = 0.3, shuffle = False)"
   ]
  },
  {
   "cell_type": "code",
   "execution_count": 10,
   "id": "00e5e1da",
   "metadata": {
    "execution": {
     "iopub.execute_input": "2021-09-20T17:32:20.542229Z",
     "iopub.status.busy": "2021-09-20T17:32:20.541593Z",
     "iopub.status.idle": "2021-09-20T17:32:20.544064Z",
     "shell.execute_reply": "2021-09-20T17:32:20.544545Z"
    },
    "papermill": {
     "duration": 0.020859,
     "end_time": "2021-09-20T17:32:20.544708",
     "exception": false,
     "start_time": "2021-09-20T17:32:20.523849",
     "status": "completed"
    },
    "tags": []
   },
   "outputs": [],
   "source": [
    "# from lightgbm import LGBMRegressor\n",
    "\n",
    "# model = LGBMRegressor()\n",
    "# model.fit(X_train,y_train)"
   ]
  },
  {
   "cell_type": "code",
   "execution_count": 11,
   "id": "1f386ff1",
   "metadata": {
    "execution": {
     "iopub.execute_input": "2021-09-20T17:32:20.577769Z",
     "iopub.status.busy": "2021-09-20T17:32:20.577069Z",
     "iopub.status.idle": "2021-09-20T17:32:36.434859Z",
     "shell.execute_reply": "2021-09-20T17:32:36.434065Z",
     "shell.execute_reply.started": "2021-09-20T17:28:21.953752Z"
    },
    "papermill": {
     "duration": 15.876358,
     "end_time": "2021-09-20T17:32:36.435004",
     "exception": false,
     "start_time": "2021-09-20T17:32:20.558646",
     "status": "completed"
    },
    "tags": []
   },
   "outputs": [
    {
     "data": {
      "text/plain": [
       "XGBRegressor(base_score=0.5, booster='gbtree', colsample_bylevel=1,\n",
       "             colsample_bynode=1, colsample_bytree=1, gamma=0, gpu_id=-1,\n",
       "             importance_type='gain', interaction_constraints='',\n",
       "             learning_rate=0.300000012, max_delta_step=0, max_depth=6,\n",
       "             min_child_weight=1, missing=nan, monotone_constraints='()',\n",
       "             n_estimators=100, n_jobs=4, num_parallel_tree=1, random_state=0,\n",
       "             reg_alpha=0, reg_lambda=1, scale_pos_weight=1, subsample=1,\n",
       "             tree_method='exact', validate_parameters=1, verbosity=None)"
      ]
     },
     "execution_count": 11,
     "metadata": {},
     "output_type": "execute_result"
    }
   ],
   "source": [
    "from xgboost import XGBRegressor\n",
    "\n",
    "model = XGBRegressor()\n",
    "model.fit(X_train,y_train)"
   ]
  },
  {
   "cell_type": "code",
   "execution_count": 12,
   "id": "7315f77d",
   "metadata": {
    "execution": {
     "iopub.execute_input": "2021-09-20T17:32:36.471308Z",
     "iopub.status.busy": "2021-09-20T17:32:36.470661Z",
     "iopub.status.idle": "2021-09-20T17:32:36.773423Z",
     "shell.execute_reply": "2021-09-20T17:32:36.772620Z",
     "shell.execute_reply.started": "2021-09-20T17:28:39.589119Z"
    },
    "papermill": {
     "duration": 0.322355,
     "end_time": "2021-09-20T17:32:36.773681",
     "exception": false,
     "start_time": "2021-09-20T17:32:36.451326",
     "status": "completed"
    },
    "tags": []
   },
   "outputs": [
    {
     "data": {
      "text/plain": [
       "<AxesSubplot:title={'center':'Feature importance'}, xlabel='F score', ylabel='Features'>"
      ]
     },
     "execution_count": 12,
     "metadata": {},
     "output_type": "execute_result"
    },
    {
     "data": {
      "image/png": "[encoded data removed]",
      "text/plain": [
       "<Figure size 432x288 with 1 Axes>"
      ]
     },
     "metadata": {
      "needs_background": "light"
     },
     "output_type": "display_data"
    }
   ],
   "source": [
    "from xgboost import plot_importance\n",
    "\n",
    "plot_importance(model)"
   ]
  },
  {
   "cell_type": "code",
   "execution_count": 13,
   "id": "1c4a0f97",
   "metadata": {
    "execution": {
     "iopub.execute_input": "2021-09-20T17:32:36.811996Z",
     "iopub.status.busy": "2021-09-20T17:32:36.811271Z",
     "iopub.status.idle": "2021-09-20T17:32:37.057488Z",
     "shell.execute_reply": "2021-09-20T17:32:37.058197Z",
     "shell.execute_reply.started": "2021-09-20T17:28:51.997588Z"
    },
    "papermill": {
     "duration": 0.268787,
     "end_time": "2021-09-20T17:32:37.058403",
     "exception": false,
     "start_time": "2021-09-20T17:32:36.789616",
     "status": "completed"
    },
    "tags": []
   },
   "outputs": [
    {
     "name": "stdout",
     "output_type": "stream",
     "text": [
      "14.276835981239103\n"
     ]
    }
   ],
   "source": [
    "import numpy as np\n",
    "\n",
    "def smape(A, F):\n",
    "    return 100/len(A) * np.sum(2 * np.abs(F - A) / (np.abs(A) + np.abs(F)))\n",
    "\n",
    "\n",
    "print(smape(pd.Series(model.predict(X_valid),index=y_valid.index),y_valid))"
   ]
  },
  {
   "cell_type": "code",
   "execution_count": 14,
   "id": "c9471750",
   "metadata": {
    "execution": {
     "iopub.execute_input": "2021-09-20T17:32:37.099180Z",
     "iopub.status.busy": "2021-09-20T17:32:37.098202Z",
     "iopub.status.idle": "2021-09-20T17:32:37.463227Z",
     "shell.execute_reply": "2021-09-20T17:32:37.462685Z",
     "shell.execute_reply.started": "2021-09-20T17:30:22.090384Z"
    },
    "papermill": {
     "duration": 0.38793,
     "end_time": "2021-09-20T17:32:37.463371",
     "exception": false,
     "start_time": "2021-09-20T17:32:37.075441",
     "status": "completed"
    },
    "tags": []
   },
   "outputs": [],
   "source": [
    "sample_solution = pd.DataFrame(pd.Series(model.predict(X_test),index=y_test.index)).reset_index()\n",
    "sample_solution.columns = ['ID','Sales']\n",
    "sample_solution.to_csv(\"./sample_solution.csv\", index = False)"
   ]
  }
 ],
 "metadata": {
  "kernelspec": {
   "display_name": "Python 3",
   "language": "python",
   "name": "python3"
  },
  "language_info": {
   "codemirror_mode": {
    "name": "ipython",
    "version": 3
   },
   "file_extension": ".py",
   "mimetype": "text/x-python",
   "name": "python",
   "nbconvert_exporter": "python",
   "pygments_lexer": "ipython3",
   "version": "3.7.10"
  },
  "papermill": {
   "default_parameters": {},
   "duration": 30.725662,
   "end_time": "2021-09-20T17:32:38.774029",
   "environment_variables": {},
   "exception": null,
   "input_path": "__notebook__.ipynb",
   "output_path": "__notebook__.ipynb",
   "parameters": {},
   "start_time": "2021-09-20T17:32:08.048367",
   "version": "2.3.3"
  }
 },
 "nbformat": 4,
 "nbformat_minor": 5
}
