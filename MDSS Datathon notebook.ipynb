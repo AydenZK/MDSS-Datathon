{
 "cells": [
  {
   "cell_type": "code",
   "execution_count": 3,
   "id": "4fcfeb16",
   "metadata": {},
   "outputs": [],
   "source": [
    "import numpy as np\n",
    "import pandas as pd"
   ]
  },
  {
   "cell_type": "code",
   "execution_count": 4,
   "id": "01b00e29",
   "metadata": {},
   "outputs": [],
   "source": [
    "import matplotlib.pyplot as plt\n",
    "%matplotlib inline\n",
    "from matplotlib import rcParams\n",
    "rcParams['figure.figsize'] = 10, 6"
   ]
  },
  {
   "cell_type": "code",
   "execution_count": 57,
   "id": "95d2f1d1",
   "metadata": {},
   "outputs": [],
   "source": [
    "train = pd.read_csv(\"data/train_advanced.csv\")"
   ]
  },
  {
   "cell_type": "markdown",
   "id": "737b44b0",
   "metadata": {},
   "source": [
    "# Exploratory Data Analysis"
   ]
  },
  {
   "cell_type": "code",
   "execution_count": 58,
   "id": "82eeb922",
   "metadata": {
    "scrolled": false
   },
   "outputs": [
    {
     "data": {
      "text/html": [
       "<div>\n",
       "<style scoped>\n",
       "    .dataframe tbody tr th:only-of-type {\n",
       "        vertical-align: middle;\n",
       "    }\n",
       "\n",
       "    .dataframe tbody tr th {\n",
       "        vertical-align: top;\n",
       "    }\n",
       "\n",
       "    .dataframe thead th {\n",
       "        text-align: right;\n",
       "    }\n",
       "</style>\n",
       "<table border=\"1\" class=\"dataframe\">\n",
       "  <thead>\n",
       "    <tr style=\"text-align: right;\">\n",
       "      <th></th>\n",
       "      <th>Date</th>\n",
       "      <th>Store</th>\n",
       "      <th>Item</th>\n",
       "      <th>Sales</th>\n",
       "      <th>Average Rating</th>\n",
       "      <th>Location</th>\n",
       "      <th>Category</th>\n",
       "      <th>Branding</th>\n",
       "    </tr>\n",
       "  </thead>\n",
       "  <tbody>\n",
       "    <tr>\n",
       "      <th>0</th>\n",
       "      <td>1/1/2017</td>\n",
       "      <td>KMart</td>\n",
       "      <td>1</td>\n",
       "      <td>13</td>\n",
       "      <td>2.8</td>\n",
       "      <td>Wheelers Hill VIC 3170</td>\n",
       "      <td>Electronics</td>\n",
       "      <td>Sony</td>\n",
       "    </tr>\n",
       "    <tr>\n",
       "      <th>1</th>\n",
       "      <td>1/2/2017</td>\n",
       "      <td>KMart</td>\n",
       "      <td>1</td>\n",
       "      <td>11</td>\n",
       "      <td>1.4</td>\n",
       "      <td>Wheelers Hill VIC 3170</td>\n",
       "      <td>Electronics</td>\n",
       "      <td>Sony</td>\n",
       "    </tr>\n",
       "    <tr>\n",
       "      <th>2</th>\n",
       "      <td>1/3/2017</td>\n",
       "      <td>KMart</td>\n",
       "      <td>1</td>\n",
       "      <td>14</td>\n",
       "      <td>1.8</td>\n",
       "      <td>Wheelers Hill VIC 3170</td>\n",
       "      <td>Electronics</td>\n",
       "      <td>Sony</td>\n",
       "    </tr>\n",
       "    <tr>\n",
       "      <th>3</th>\n",
       "      <td>1/4/2017</td>\n",
       "      <td>KMart</td>\n",
       "      <td>1</td>\n",
       "      <td>13</td>\n",
       "      <td>1.3</td>\n",
       "      <td>Wheelers Hill VIC 3170</td>\n",
       "      <td>Electronics</td>\n",
       "      <td>Sony</td>\n",
       "    </tr>\n",
       "    <tr>\n",
       "      <th>4</th>\n",
       "      <td>1/5/2017</td>\n",
       "      <td>KMart</td>\n",
       "      <td>1</td>\n",
       "      <td>10</td>\n",
       "      <td>2.9</td>\n",
       "      <td>Wheelers Hill VIC 3170</td>\n",
       "      <td>Electronics</td>\n",
       "      <td>Sony</td>\n",
       "    </tr>\n",
       "  </tbody>\n",
       "</table>\n",
       "</div>"
      ],
      "text/plain": [
       "       Date  Store  Item  Sales  Average Rating                Location  \\\n",
       "0  1/1/2017  KMart     1     13             2.8  Wheelers Hill VIC 3170   \n",
       "1  1/2/2017  KMart     1     11             1.4  Wheelers Hill VIC 3170   \n",
       "2  1/3/2017  KMart     1     14             1.8  Wheelers Hill VIC 3170   \n",
       "3  1/4/2017  KMart     1     13             1.3  Wheelers Hill VIC 3170   \n",
       "4  1/5/2017  KMart     1     10             2.9  Wheelers Hill VIC 3170   \n",
       "\n",
       "      Category Branding  \n",
       "0  Electronics     Sony  \n",
       "1  Electronics     Sony  \n",
       "2  Electronics     Sony  \n",
       "3  Electronics     Sony  \n",
       "4  Electronics     Sony  "
      ]
     },
     "execution_count": 58,
     "metadata": {},
     "output_type": "execute_result"
    }
   ],
   "source": [
    "train.head()"
   ]
  },
  {
   "cell_type": "code",
   "execution_count": 59,
   "id": "d78b1f73",
   "metadata": {},
   "outputs": [
    {
     "name": "stdout",
     "output_type": "stream",
     "text": [
      "<class 'pandas.core.frame.DataFrame'>\n",
      "RangeIndex: 821000 entries, 0 to 820999\n",
      "Data columns (total 8 columns):\n",
      " #   Column          Non-Null Count   Dtype  \n",
      "---  ------          --------------   -----  \n",
      " 0   Date            821000 non-null  object \n",
      " 1   Store           821000 non-null  object \n",
      " 2   Item            821000 non-null  int64  \n",
      " 3   Sales           821000 non-null  int64  \n",
      " 4   Average Rating  821000 non-null  float64\n",
      " 5   Location        820260 non-null  object \n",
      " 6   Category        821000 non-null  object \n",
      " 7   Branding        821000 non-null  object \n",
      "dtypes: float64(1), int64(2), object(5)\n",
      "memory usage: 50.1+ MB\n"
     ]
    }
   ],
   "source": [
    "train.info()"
   ]
  },
  {
   "cell_type": "markdown",
   "id": "68990bcb",
   "metadata": {},
   "source": [
    "### Checking for null values"
   ]
  },
  {
   "cell_type": "code",
   "execution_count": 60,
   "id": "be98654a",
   "metadata": {},
   "outputs": [],
   "source": [
    "is_NaN = train.isnull()\n",
    "row_has_NaN = is_NaN.any(axis=1)\n",
    "rows_with_NaN = train[row_has_NaN]"
   ]
  },
  {
   "cell_type": "code",
   "execution_count": 61,
   "id": "0b0442ed",
   "metadata": {},
   "outputs": [
    {
     "data": {
      "text/html": [
       "<div>\n",
       "<style scoped>\n",
       "    .dataframe tbody tr th:only-of-type {\n",
       "        vertical-align: middle;\n",
       "    }\n",
       "\n",
       "    .dataframe tbody tr th {\n",
       "        vertical-align: top;\n",
       "    }\n",
       "\n",
       "    .dataframe thead th {\n",
       "        text-align: right;\n",
       "    }\n",
       "</style>\n",
       "<table border=\"1\" class=\"dataframe\">\n",
       "  <thead>\n",
       "    <tr style=\"text-align: right;\">\n",
       "      <th></th>\n",
       "      <th>Date</th>\n",
       "      <th>Store</th>\n",
       "      <th>Item</th>\n",
       "      <th>Sales</th>\n",
       "      <th>Average Rating</th>\n",
       "      <th>Location</th>\n",
       "      <th>Category</th>\n",
       "      <th>Branding</th>\n",
       "    </tr>\n",
       "  </thead>\n",
       "  <tbody>\n",
       "    <tr>\n",
       "      <th>820260</th>\n",
       "      <td>6/22/2019</td>\n",
       "      <td>SupaIGA</td>\n",
       "      <td>50</td>\n",
       "      <td>83</td>\n",
       "      <td>0.0</td>\n",
       "      <td>NaN</td>\n",
       "      <td>Home &amp; Kitchen</td>\n",
       "      <td>Westinghouse</td>\n",
       "    </tr>\n",
       "    <tr>\n",
       "      <th>820261</th>\n",
       "      <td>6/23/2019</td>\n",
       "      <td>SupaIGA</td>\n",
       "      <td>50</td>\n",
       "      <td>78</td>\n",
       "      <td>0.6</td>\n",
       "      <td>NaN</td>\n",
       "      <td>Home &amp; Kitchen</td>\n",
       "      <td>Westinghouse</td>\n",
       "    </tr>\n",
       "    <tr>\n",
       "      <th>820262</th>\n",
       "      <td>6/24/2019</td>\n",
       "      <td>SupaIGA</td>\n",
       "      <td>50</td>\n",
       "      <td>101</td>\n",
       "      <td>0.8</td>\n",
       "      <td>NaN</td>\n",
       "      <td>Home &amp; Kitchen</td>\n",
       "      <td>Westinghouse</td>\n",
       "    </tr>\n",
       "    <tr>\n",
       "      <th>820263</th>\n",
       "      <td>6/25/2019</td>\n",
       "      <td>SupaIGA</td>\n",
       "      <td>50</td>\n",
       "      <td>82</td>\n",
       "      <td>1.1</td>\n",
       "      <td>NaN</td>\n",
       "      <td>Home &amp; Kitchen</td>\n",
       "      <td>Westinghouse</td>\n",
       "    </tr>\n",
       "    <tr>\n",
       "      <th>820264</th>\n",
       "      <td>6/26/2019</td>\n",
       "      <td>SupaIGA</td>\n",
       "      <td>50</td>\n",
       "      <td>97</td>\n",
       "      <td>0.4</td>\n",
       "      <td>NaN</td>\n",
       "      <td>Home &amp; Kitchen</td>\n",
       "      <td>Westinghouse</td>\n",
       "    </tr>\n",
       "    <tr>\n",
       "      <th>...</th>\n",
       "      <td>...</td>\n",
       "      <td>...</td>\n",
       "      <td>...</td>\n",
       "      <td>...</td>\n",
       "      <td>...</td>\n",
       "      <td>...</td>\n",
       "      <td>...</td>\n",
       "      <td>...</td>\n",
       "    </tr>\n",
       "    <tr>\n",
       "      <th>820995</th>\n",
       "      <td>6/26/2021</td>\n",
       "      <td>SupaIGA</td>\n",
       "      <td>50</td>\n",
       "      <td>82</td>\n",
       "      <td>0.4</td>\n",
       "      <td>NaN</td>\n",
       "      <td>Home &amp; Kitchen</td>\n",
       "      <td>Westinghouse</td>\n",
       "    </tr>\n",
       "    <tr>\n",
       "      <th>820996</th>\n",
       "      <td>6/27/2021</td>\n",
       "      <td>SupaIGA</td>\n",
       "      <td>50</td>\n",
       "      <td>83</td>\n",
       "      <td>0.8</td>\n",
       "      <td>NaN</td>\n",
       "      <td>Home &amp; Kitchen</td>\n",
       "      <td>Westinghouse</td>\n",
       "    </tr>\n",
       "    <tr>\n",
       "      <th>820997</th>\n",
       "      <td>6/28/2021</td>\n",
       "      <td>SupaIGA</td>\n",
       "      <td>50</td>\n",
       "      <td>91</td>\n",
       "      <td>2.0</td>\n",
       "      <td>NaN</td>\n",
       "      <td>Home &amp; Kitchen</td>\n",
       "      <td>Westinghouse</td>\n",
       "    </tr>\n",
       "    <tr>\n",
       "      <th>820998</th>\n",
       "      <td>6/29/2021</td>\n",
       "      <td>SupaIGA</td>\n",
       "      <td>50</td>\n",
       "      <td>122</td>\n",
       "      <td>1.9</td>\n",
       "      <td>NaN</td>\n",
       "      <td>Home &amp; Kitchen</td>\n",
       "      <td>Westinghouse</td>\n",
       "    </tr>\n",
       "    <tr>\n",
       "      <th>820999</th>\n",
       "      <td>6/30/2021</td>\n",
       "      <td>SupaIGA</td>\n",
       "      <td>50</td>\n",
       "      <td>112</td>\n",
       "      <td>1.7</td>\n",
       "      <td>NaN</td>\n",
       "      <td>Home &amp; Kitchen</td>\n",
       "      <td>Westinghouse</td>\n",
       "    </tr>\n",
       "  </tbody>\n",
       "</table>\n",
       "<p>740 rows × 8 columns</p>\n",
       "</div>"
      ],
      "text/plain": [
       "             Date    Store  Item  Sales  Average Rating Location  \\\n",
       "820260  6/22/2019  SupaIGA    50     83             0.0      NaN   \n",
       "820261  6/23/2019  SupaIGA    50     78             0.6      NaN   \n",
       "820262  6/24/2019  SupaIGA    50    101             0.8      NaN   \n",
       "820263  6/25/2019  SupaIGA    50     82             1.1      NaN   \n",
       "820264  6/26/2019  SupaIGA    50     97             0.4      NaN   \n",
       "...           ...      ...   ...    ...             ...      ...   \n",
       "820995  6/26/2021  SupaIGA    50     82             0.4      NaN   \n",
       "820996  6/27/2021  SupaIGA    50     83             0.8      NaN   \n",
       "820997  6/28/2021  SupaIGA    50     91             2.0      NaN   \n",
       "820998  6/29/2021  SupaIGA    50    122             1.9      NaN   \n",
       "820999  6/30/2021  SupaIGA    50    112             1.7      NaN   \n",
       "\n",
       "              Category      Branding  \n",
       "820260  Home & Kitchen  Westinghouse  \n",
       "820261  Home & Kitchen  Westinghouse  \n",
       "820262  Home & Kitchen  Westinghouse  \n",
       "820263  Home & Kitchen  Westinghouse  \n",
       "820264  Home & Kitchen  Westinghouse  \n",
       "...                ...           ...  \n",
       "820995  Home & Kitchen  Westinghouse  \n",
       "820996  Home & Kitchen  Westinghouse  \n",
       "820997  Home & Kitchen  Westinghouse  \n",
       "820998  Home & Kitchen  Westinghouse  \n",
       "820999  Home & Kitchen  Westinghouse  \n",
       "\n",
       "[740 rows x 8 columns]"
      ]
     },
     "execution_count": 61,
     "metadata": {},
     "output_type": "execute_result"
    }
   ],
   "source": [
    "rows_with_NaN"
   ]
  },
  {
   "cell_type": "code",
   "execution_count": 62,
   "id": "47353419",
   "metadata": {},
   "outputs": [],
   "source": [
    "subset = train[820260:821000]"
   ]
  },
  {
   "cell_type": "code",
   "execution_count": 63,
   "id": "31e795bb",
   "metadata": {},
   "outputs": [
    {
     "data": {
      "text/plain": [
       "array([nan], dtype=object)"
      ]
     },
     "execution_count": 63,
     "metadata": {},
     "output_type": "execute_result"
    }
   ],
   "source": [
    "subset['Location'].unique()"
   ]
  },
  {
   "cell_type": "code",
   "execution_count": 64,
   "id": "c0a9bd92",
   "metadata": {},
   "outputs": [
    {
     "data": {
      "text/plain": [
       "array(['Wheelers Hill VIC 3170', 'Preston,\\xa0VIC,\\xa03072',\n",
       "       'South Melbourne,\\xa0VIC\\xa03205',\n",
       "       'Keysborough, VIC, 3173, Australia', 'Mulgrave\\xa0VIC\\xa03170',\n",
       "       'Dandenong, VIC, 3175, Australia',\n",
       "       'Springvale, VIC, 3171, Australia', 'Ringwood VIC 3134',\n",
       "       ' Epping VIC 3076', 'Mulgrave VIC 3170', nan], dtype=object)"
      ]
     },
     "execution_count": 64,
     "metadata": {},
     "output_type": "execute_result"
    }
   ],
   "source": [
    "train['Location'].unique()"
   ]
  }
 ],
 "metadata": {
  "kernelspec": {
   "display_name": "Python 3",
   "language": "python",
   "name": "python3"
  },
  "language_info": {
   "codemirror_mode": {
    "name": "ipython",
    "version": 3
   },
   "file_extension": ".py",
   "mimetype": "text/x-python",
   "name": "python",
   "nbconvert_exporter": "python",
   "pygments_lexer": "ipython3",
   "version": "3.8.8"
  }
 },
 "nbformat": 4,
 "nbformat_minor": 5
}
