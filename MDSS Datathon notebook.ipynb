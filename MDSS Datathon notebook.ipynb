{
 "cells": [
  {
   "cell_type": "code",
<<<<<<< HEAD
   "execution_count": 6,
=======
   "execution_count": 2,
   "id": "c0387ec9",
>>>>>>> f20dcd770ec4bfa639b1668228e0244c1b3d2fe8
   "metadata": {},
   "outputs": [],
   "source": [
    "import numpy as np\n",
    "import pandas as pd"
   ]
  },
  {
   "cell_type": "code",
<<<<<<< HEAD
   "execution_count": 47,
=======
   "execution_count": 3,
   "id": "247fa3a9",
>>>>>>> f20dcd770ec4bfa639b1668228e0244c1b3d2fe8
   "metadata": {},
   "outputs": [],
   "source": [
    "import matplotlib.pyplot as plt\n",
    "%matplotlib inline\n",
    "from matplotlib import rcParams\n",
    "rcParams['figure.figsize'] = 10, 6\n",
    "from sklearn import preprocessing\n",
    "import statsmodels.api as sm\n",
    "import itertools"
   ]
  },
  {
   "cell_type": "code",
<<<<<<< HEAD
   "execution_count": null,
   "metadata": {},
   "outputs": [],
   "source": []
  },
  {
   "cell_type": "code",
   "execution_count": 8,
=======
   "execution_count": 4,
   "id": "c82205d2",
>>>>>>> f20dcd770ec4bfa639b1668228e0244c1b3d2fe8
   "metadata": {},
   "outputs": [],
   "source": [
    "train = pd.read_csv(\"data/train_advanced.csv\")\n",
    "test = pd.read_csv(\"data/test_advanced.csv\")\n",
    "sample = pd.read_csv(\"data/sample_submission.csv\")"
   ]
  },
  {
   "cell_type": "code",
<<<<<<< HEAD
   "execution_count": 9,
=======
   "execution_count": 5,
   "id": "85947b8e",
>>>>>>> f20dcd770ec4bfa639b1668228e0244c1b3d2fe8
   "metadata": {},
   "outputs": [
    {
     "data": {
      "text/plain": [
       "92001"
      ]
     },
<<<<<<< HEAD
     "execution_count": 9,
=======
     "execution_count": 5,
>>>>>>> f20dcd770ec4bfa639b1668228e0244c1b3d2fe8
     "metadata": {},
     "output_type": "execute_result"
    }
   ],
   "source": [
    "len(sample)"
   ]
  },
  {
   "cell_type": "code",
<<<<<<< HEAD
   "execution_count": 10,
=======
   "execution_count": 6,
   "id": "796be34a",
>>>>>>> f20dcd770ec4bfa639b1668228e0244c1b3d2fe8
   "metadata": {},
   "outputs": [
    {
     "data": {
      "text/plain": [
       "92000"
      ]
     },
<<<<<<< HEAD
     "execution_count": 10,
=======
     "execution_count": 6,
>>>>>>> f20dcd770ec4bfa639b1668228e0244c1b3d2fe8
     "metadata": {},
     "output_type": "execute_result"
    }
   ],
   "source": [
    "len(test)"
   ]
  },
  {
   "cell_type": "code",
<<<<<<< HEAD
   "execution_count": 11,
=======
   "execution_count": 7,
   "id": "2778d54c",
>>>>>>> f20dcd770ec4bfa639b1668228e0244c1b3d2fe8
   "metadata": {},
   "outputs": [
    {
     "data": {
      "text/plain": [
       "821000"
      ]
     },
<<<<<<< HEAD
     "execution_count": 11,
=======
     "execution_count": 7,
>>>>>>> f20dcd770ec4bfa639b1668228e0244c1b3d2fe8
     "metadata": {},
     "output_type": "execute_result"
    }
   ],
   "source": [
    "len(train)"
   ]
  },
  {
   "cell_type": "code",
   "execution_count": null,
   "id": "eba735e5",
   "metadata": {},
   "outputs": [],
   "source": []
  },
  {
   "cell_type": "markdown",
   "id": "175b019b",
   "metadata": {},
   "source": [
    "# Wrangling"
   ]
  },
  {
   "cell_type": "code",
<<<<<<< HEAD
   "execution_count": 12,
=======
   "execution_count": 8,
   "id": "98c80947",
>>>>>>> f20dcd770ec4bfa639b1668228e0244c1b3d2fe8
   "metadata": {
    "scrolled": false
   },
   "outputs": [
    {
     "data": {
      "text/html": [
       "<div>\n",
       "<style scoped>\n",
       "    .dataframe tbody tr th:only-of-type {\n",
       "        vertical-align: middle;\n",
       "    }\n",
       "\n",
       "    .dataframe tbody tr th {\n",
       "        vertical-align: top;\n",
       "    }\n",
       "\n",
       "    .dataframe thead th {\n",
       "        text-align: right;\n",
       "    }\n",
       "</style>\n",
       "<table border=\"1\" class=\"dataframe\">\n",
       "  <thead>\n",
       "    <tr style=\"text-align: right;\">\n",
       "      <th></th>\n",
       "      <th>Date</th>\n",
       "      <th>Store</th>\n",
       "      <th>Item</th>\n",
       "      <th>Sales</th>\n",
       "      <th>Average Rating</th>\n",
       "      <th>Location</th>\n",
       "      <th>Category</th>\n",
       "      <th>Branding</th>\n",
       "    </tr>\n",
       "  </thead>\n",
       "  <tbody>\n",
       "    <tr>\n",
       "      <th>0</th>\n",
       "      <td>1/1/2017</td>\n",
       "      <td>KMart</td>\n",
       "      <td>1</td>\n",
       "      <td>13</td>\n",
       "      <td>2.8</td>\n",
       "      <td>Wheelers Hill VIC 3170</td>\n",
       "      <td>Electronics</td>\n",
       "      <td>Sony</td>\n",
       "    </tr>\n",
       "    <tr>\n",
       "      <th>1</th>\n",
       "      <td>1/2/2017</td>\n",
       "      <td>KMart</td>\n",
       "      <td>1</td>\n",
       "      <td>11</td>\n",
       "      <td>1.4</td>\n",
       "      <td>Wheelers Hill VIC 3170</td>\n",
       "      <td>Electronics</td>\n",
       "      <td>Sony</td>\n",
       "    </tr>\n",
       "    <tr>\n",
       "      <th>2</th>\n",
       "      <td>1/3/2017</td>\n",
       "      <td>KMart</td>\n",
       "      <td>1</td>\n",
       "      <td>14</td>\n",
       "      <td>1.8</td>\n",
       "      <td>Wheelers Hill VIC 3170</td>\n",
       "      <td>Electronics</td>\n",
       "      <td>Sony</td>\n",
       "    </tr>\n",
       "    <tr>\n",
       "      <th>3</th>\n",
       "      <td>1/4/2017</td>\n",
       "      <td>KMart</td>\n",
       "      <td>1</td>\n",
       "      <td>13</td>\n",
       "      <td>1.3</td>\n",
       "      <td>Wheelers Hill VIC 3170</td>\n",
       "      <td>Electronics</td>\n",
       "      <td>Sony</td>\n",
       "    </tr>\n",
       "    <tr>\n",
       "      <th>4</th>\n",
       "      <td>1/5/2017</td>\n",
       "      <td>KMart</td>\n",
       "      <td>1</td>\n",
       "      <td>10</td>\n",
       "      <td>2.9</td>\n",
       "      <td>Wheelers Hill VIC 3170</td>\n",
       "      <td>Electronics</td>\n",
       "      <td>Sony</td>\n",
       "    </tr>\n",
       "  </tbody>\n",
       "</table>\n",
       "</div>"
      ],
      "text/plain": [
       "       Date  Store  Item  Sales  Average Rating                Location  \\\n",
       "0  1/1/2017  KMart     1     13             2.8  Wheelers Hill VIC 3170   \n",
       "1  1/2/2017  KMart     1     11             1.4  Wheelers Hill VIC 3170   \n",
       "2  1/3/2017  KMart     1     14             1.8  Wheelers Hill VIC 3170   \n",
       "3  1/4/2017  KMart     1     13             1.3  Wheelers Hill VIC 3170   \n",
       "4  1/5/2017  KMart     1     10             2.9  Wheelers Hill VIC 3170   \n",
       "\n",
       "      Category Branding  \n",
       "0  Electronics     Sony  \n",
       "1  Electronics     Sony  \n",
       "2  Electronics     Sony  \n",
       "3  Electronics     Sony  \n",
       "4  Electronics     Sony  "
      ]
     },
<<<<<<< HEAD
     "execution_count": 12,
=======
     "execution_count": 8,
>>>>>>> f20dcd770ec4bfa639b1668228e0244c1b3d2fe8
     "metadata": {},
     "output_type": "execute_result"
    }
   ],
   "source": [
    "train.head()"
   ]
  },
  {
   "cell_type": "code",
<<<<<<< HEAD
   "execution_count": 13,
=======
   "execution_count": 9,
   "id": "1927463c",
>>>>>>> f20dcd770ec4bfa639b1668228e0244c1b3d2fe8
   "metadata": {},
   "outputs": [
    {
     "name": "stdout",
     "output_type": "stream",
     "text": [
      "<class 'pandas.core.frame.DataFrame'>\n",
      "RangeIndex: 821000 entries, 0 to 820999\n",
      "Data columns (total 8 columns):\n",
      " #   Column          Non-Null Count   Dtype  \n",
      "---  ------          --------------   -----  \n",
      " 0   Date            821000 non-null  object \n",
      " 1   Store           821000 non-null  object \n",
      " 2   Item            821000 non-null  int64  \n",
      " 3   Sales           821000 non-null  int64  \n",
      " 4   Average Rating  821000 non-null  float64\n",
      " 5   Location        820260 non-null  object \n",
      " 6   Category        821000 non-null  object \n",
      " 7   Branding        821000 non-null  object \n",
      "dtypes: float64(1), int64(2), object(5)\n",
      "memory usage: 50.1+ MB\n"
     ]
    }
   ],
   "source": [
    "train.info()"
   ]
  },
  {
   "cell_type": "code",
<<<<<<< HEAD
   "execution_count": 14,
=======
   "execution_count": 10,
   "id": "b0a45125",
>>>>>>> f20dcd770ec4bfa639b1668228e0244c1b3d2fe8
   "metadata": {},
   "outputs": [
    {
     "data": {
      "text/plain": [
       "array(['Wheelers Hill VIC 3170', 'Preston,\\xa0VIC,\\xa03072',\n",
       "       'South Melbourne,\\xa0VIC\\xa03205',\n",
       "       'Keysborough, VIC, 3173, Australia', 'Mulgrave\\xa0VIC\\xa03170',\n",
       "       'Dandenong, VIC, 3175, Australia',\n",
       "       'Springvale, VIC, 3171, Australia', 'Ringwood VIC 3134',\n",
       "       ' Epping VIC 3076', 'Mulgrave VIC 3170', nan], dtype=object)"
      ]
     },
<<<<<<< HEAD
     "execution_count": 14,
=======
     "execution_count": 10,
>>>>>>> f20dcd770ec4bfa639b1668228e0244c1b3d2fe8
     "metadata": {},
     "output_type": "execute_result"
    }
   ],
   "source": [
    "train['Location'].unique()"
   ]
  },
  {
   "cell_type": "code",
<<<<<<< HEAD
   "execution_count": 15,
=======
   "execution_count": 11,
   "id": "85cdd346",
>>>>>>> f20dcd770ec4bfa639b1668228e0244c1b3d2fe8
   "metadata": {},
   "outputs": [],
   "source": [
    "def changeLoc(x,y,CHANGE):\n",
    "    train[\"Location\"].replace(CHANGE,(str(x)+\", VIC, \"+str(y)+\", Australia\"), \n",
    "           inplace=True)\n",
    "changeLoc(\"Preston\",3072,\"Preston,\\xa0VIC,\\xa03072\")\n",
    "changeLoc(\"South Melbourne\",3205,\"South Melbourne,\\xa0VIC\\xa03205\")\n",
    "changeLoc(\"Mulgrave\",3170,\"Mulgrave\\xa0VIC\\xa03170\")\n",
    "changeLoc(\"Mulgrave\",3170,\"Mulgrave VIC 3170\")\n",
    "changeLoc(\"Epping\",3076,\" Epping VIC 3076\")\n",
    "changeLoc(\"Ringwood\",3134,\"Ringwood VIC 3134\")\n",
    "changeLoc(\"Wheelers Hill\",3170,\"Wheelers Hill VIC 3170\")\n",
    "changeLoc(\"Mulgrave\",3170,np.nan)"
   ]
  },
  {
   "cell_type": "code",
<<<<<<< HEAD
   "execution_count": 16,
=======
   "execution_count": 12,
   "id": "016cb1bd",
>>>>>>> f20dcd770ec4bfa639b1668228e0244c1b3d2fe8
   "metadata": {},
   "outputs": [
    {
     "data": {
      "text/plain": [
       "array(['Wheelers Hill, VIC, 3170, Australia',\n",
       "       'Preston, VIC, 3072, Australia',\n",
       "       'South Melbourne, VIC, 3205, Australia',\n",
       "       'Keysborough, VIC, 3173, Australia',\n",
       "       'Mulgrave, VIC, 3170, Australia',\n",
       "       'Dandenong, VIC, 3175, Australia',\n",
       "       'Springvale, VIC, 3171, Australia',\n",
       "       'Ringwood, VIC, 3134, Australia', 'Epping, VIC, 3076, Australia'],\n",
       "      dtype=object)"
      ]
     },
<<<<<<< HEAD
     "execution_count": 16,
=======
     "execution_count": 12,
>>>>>>> f20dcd770ec4bfa639b1668228e0244c1b3d2fe8
     "metadata": {},
     "output_type": "execute_result"
    }
   ],
   "source": [
    "train['Location'].unique()"
   ]
  },
  {
   "cell_type": "markdown",
   "id": "ffc45e3e",
   "metadata": {},
   "source": [
    "Date"
   ]
  },
  {
   "cell_type": "code",
<<<<<<< HEAD
   "execution_count": 17,
=======
   "execution_count": 13,
   "id": "b8a82b2f",
>>>>>>> f20dcd770ec4bfa639b1668228e0244c1b3d2fe8
   "metadata": {},
   "outputs": [
    {
     "data": {
      "text/plain": [
       "array(['2017-01-01T00:00:00.000000000', '2017-01-02T00:00:00.000000000',\n",
       "       '2017-01-03T00:00:00.000000000', ...,\n",
       "       '2021-06-28T00:00:00.000000000', '2021-06-29T00:00:00.000000000',\n",
       "       '2021-06-30T00:00:00.000000000'], dtype='datetime64[ns]')"
      ]
     },
<<<<<<< HEAD
     "execution_count": 17,
=======
     "execution_count": 13,
>>>>>>> f20dcd770ec4bfa639b1668228e0244c1b3d2fe8
     "metadata": {},
     "output_type": "execute_result"
    }
   ],
   "source": [
    "train.Date=pd.to_datetime(train.Date,format='%m/%d/%Y')\n",
    "train.Date.dtypes\n",
    "train.Date.unique()"
   ]
  },
  {
   "cell_type": "code",
<<<<<<< HEAD
   "execution_count": 18,
=======
   "execution_count": 14,
   "id": "d339fad6",
>>>>>>> f20dcd770ec4bfa639b1668228e0244c1b3d2fe8
   "metadata": {},
   "outputs": [],
   "source": [
    "train['year'] = pd.DatetimeIndex(train['Date']).year\n",
    "train['month'] = pd.DatetimeIndex(train['Date']).month\n",
    "train['day'] = pd.DatetimeIndex(train['Date']).day"
   ]
  },
  {
   "cell_type": "code",
<<<<<<< HEAD
   "execution_count": 19,
=======
   "execution_count": 15,
   "id": "8e0b36f4",
>>>>>>> f20dcd770ec4bfa639b1668228e0244c1b3d2fe8
   "metadata": {},
   "outputs": [
    {
     "data": {
      "text/plain": [
       "182500"
      ]
     },
<<<<<<< HEAD
     "execution_count": 19,
=======
     "execution_count": 15,
>>>>>>> f20dcd770ec4bfa639b1668228e0244c1b3d2fe8
     "metadata": {},
     "output_type": "execute_result"
    }
   ],
   "source": [
    "len(train[train[\"year\"]==2017])"
   ]
  },
  {
   "cell_type": "code",
<<<<<<< HEAD
   "execution_count": 20,
=======
   "execution_count": 16,
   "id": "4eb5e54c",
>>>>>>> f20dcd770ec4bfa639b1668228e0244c1b3d2fe8
   "metadata": {},
   "outputs": [
    {
     "data": {
      "text/html": [
       "<div>\n",
       "<style scoped>\n",
       "    .dataframe tbody tr th:only-of-type {\n",
       "        vertical-align: middle;\n",
       "    }\n",
       "\n",
       "    .dataframe tbody tr th {\n",
       "        vertical-align: top;\n",
       "    }\n",
       "\n",
       "    .dataframe thead th {\n",
       "        text-align: right;\n",
       "    }\n",
       "</style>\n",
       "<table border=\"1\" class=\"dataframe\">\n",
       "  <thead>\n",
       "    <tr style=\"text-align: right;\">\n",
       "      <th></th>\n",
       "      <th>Date</th>\n",
       "      <th>Store</th>\n",
       "      <th>Item</th>\n",
       "      <th>Sales</th>\n",
       "      <th>Average Rating</th>\n",
       "      <th>Location</th>\n",
       "      <th>Category</th>\n",
       "      <th>Branding</th>\n",
       "      <th>year</th>\n",
       "      <th>month</th>\n",
       "      <th>day</th>\n",
       "    </tr>\n",
       "  </thead>\n",
       "  <tbody>\n",
       "    <tr>\n",
       "      <th>0</th>\n",
       "      <td>2017-01-01</td>\n",
       "      <td>KMart</td>\n",
       "      <td>1</td>\n",
       "      <td>13</td>\n",
       "      <td>2.8</td>\n",
       "      <td>Wheelers Hill, VIC, 3170, Australia</td>\n",
       "      <td>Electronics</td>\n",
       "      <td>Sony</td>\n",
       "      <td>2017</td>\n",
       "      <td>1</td>\n",
       "      <td>1</td>\n",
       "    </tr>\n",
       "    <tr>\n",
       "      <th>1</th>\n",
       "      <td>2017-01-02</td>\n",
       "      <td>KMart</td>\n",
       "      <td>1</td>\n",
       "      <td>11</td>\n",
       "      <td>1.4</td>\n",
       "      <td>Wheelers Hill, VIC, 3170, Australia</td>\n",
       "      <td>Electronics</td>\n",
       "      <td>Sony</td>\n",
       "      <td>2017</td>\n",
       "      <td>1</td>\n",
       "      <td>2</td>\n",
       "    </tr>\n",
       "    <tr>\n",
       "      <th>2</th>\n",
       "      <td>2017-01-03</td>\n",
       "      <td>KMart</td>\n",
       "      <td>1</td>\n",
       "      <td>14</td>\n",
       "      <td>1.8</td>\n",
       "      <td>Wheelers Hill, VIC, 3170, Australia</td>\n",
       "      <td>Electronics</td>\n",
       "      <td>Sony</td>\n",
       "      <td>2017</td>\n",
       "      <td>1</td>\n",
       "      <td>3</td>\n",
       "    </tr>\n",
       "    <tr>\n",
       "      <th>3</th>\n",
       "      <td>2017-01-04</td>\n",
       "      <td>KMart</td>\n",
       "      <td>1</td>\n",
       "      <td>13</td>\n",
       "      <td>1.3</td>\n",
       "      <td>Wheelers Hill, VIC, 3170, Australia</td>\n",
       "      <td>Electronics</td>\n",
       "      <td>Sony</td>\n",
       "      <td>2017</td>\n",
       "      <td>1</td>\n",
       "      <td>4</td>\n",
       "    </tr>\n",
       "    <tr>\n",
       "      <th>4</th>\n",
       "      <td>2017-01-05</td>\n",
       "      <td>KMart</td>\n",
       "      <td>1</td>\n",
       "      <td>10</td>\n",
       "      <td>2.9</td>\n",
       "      <td>Wheelers Hill, VIC, 3170, Australia</td>\n",
       "      <td>Electronics</td>\n",
       "      <td>Sony</td>\n",
       "      <td>2017</td>\n",
       "      <td>1</td>\n",
       "      <td>5</td>\n",
       "    </tr>\n",
       "  </tbody>\n",
       "</table>\n",
       "</div>"
      ],
      "text/plain": [
       "        Date  Store  Item  Sales  Average Rating  \\\n",
       "0 2017-01-01  KMart     1     13             2.8   \n",
       "1 2017-01-02  KMart     1     11             1.4   \n",
       "2 2017-01-03  KMart     1     14             1.8   \n",
       "3 2017-01-04  KMart     1     13             1.3   \n",
       "4 2017-01-05  KMart     1     10             2.9   \n",
       "\n",
       "                              Location     Category Branding  year  month  day  \n",
       "0  Wheelers Hill, VIC, 3170, Australia  Electronics     Sony  2017      1    1  \n",
       "1  Wheelers Hill, VIC, 3170, Australia  Electronics     Sony  2017      1    2  \n",
       "2  Wheelers Hill, VIC, 3170, Australia  Electronics     Sony  2017      1    3  \n",
       "3  Wheelers Hill, VIC, 3170, Australia  Electronics     Sony  2017      1    4  \n",
       "4  Wheelers Hill, VIC, 3170, Australia  Electronics     Sony  2017      1    5  "
      ]
     },
<<<<<<< HEAD
     "execution_count": 20,
=======
     "execution_count": 16,
>>>>>>> f20dcd770ec4bfa639b1668228e0244c1b3d2fe8
     "metadata": {},
     "output_type": "execute_result"
    }
   ],
   "source": [
    "train.head()"
   ]
  },
  {
   "cell_type": "code",
<<<<<<< HEAD
   "execution_count": 21,
=======
   "execution_count": 17,
   "id": "d0857057",
>>>>>>> f20dcd770ec4bfa639b1668228e0244c1b3d2fe8
   "metadata": {},
   "outputs": [],
   "source": [
    "train_dummy=pd.get_dummies(train.Category,prefix=\"Category\")\n",
    "train=pd.concat([train,train_dummy],axis=1)\n",
    "train=train.drop(columns=[\"Category\"])"
   ]
  },
  {
   "cell_type": "code",
<<<<<<< HEAD
   "execution_count": 22,
=======
   "execution_count": 18,
   "id": "e860000b",
>>>>>>> f20dcd770ec4bfa639b1668228e0244c1b3d2fe8
   "metadata": {},
   "outputs": [],
   "source": [
    "train_bdummy=pd.get_dummies(train.Branding,prefix=\"Branding\")\n",
    "train=pd.concat([train,train_bdummy],axis=1)\n",
    "train=train.drop(columns=[\"Branding\"])"
   ]
  },
  {
   "cell_type": "code",
<<<<<<< HEAD
   "execution_count": 23,
=======
   "execution_count": 19,
   "id": "fcb49015",
>>>>>>> f20dcd770ec4bfa639b1668228e0244c1b3d2fe8
   "metadata": {},
   "outputs": [],
   "source": [
    "train_storedummy=pd.get_dummies(train.Store,prefix=\"Store\")\n",
    "train=pd.concat([train,train_storedummy],axis=1)\n",
    "train=train.drop(columns=[\"Store\"])"
   ]
  },
  {
   "cell_type": "code",
<<<<<<< HEAD
   "execution_count": 24,
=======
   "execution_count": 20,
   "id": "62557b9d",
>>>>>>> f20dcd770ec4bfa639b1668228e0244c1b3d2fe8
   "metadata": {},
   "outputs": [],
   "source": [
    "train_locationdummy=pd.get_dummies(train.Location,prefix=\"Store\")\n",
    "train=pd.concat([train,train_locationdummy],axis=1)\n",
    "train=train.drop(columns=[\"Location\"])"
   ]
  },
  {
   "cell_type": "code",
<<<<<<< HEAD
   "execution_count": 25,
   "metadata": {},
=======
   "execution_count": 21,
   "id": "7357f2da",
   "metadata": {
    "scrolled": true
   },
>>>>>>> f20dcd770ec4bfa639b1668228e0244c1b3d2fe8
   "outputs": [
    {
     "data": {
      "text/html": [
       "<div>\n",
       "<style scoped>\n",
       "    .dataframe tbody tr th:only-of-type {\n",
       "        vertical-align: middle;\n",
       "    }\n",
       "\n",
       "    .dataframe tbody tr th {\n",
       "        vertical-align: top;\n",
       "    }\n",
       "\n",
       "    .dataframe thead th {\n",
       "        text-align: right;\n",
       "    }\n",
       "</style>\n",
       "<table border=\"1\" class=\"dataframe\">\n",
       "  <thead>\n",
       "    <tr style=\"text-align: right;\">\n",
       "      <th></th>\n",
       "      <th>Date</th>\n",
       "      <th>Item</th>\n",
       "      <th>Sales</th>\n",
       "      <th>Average Rating</th>\n",
       "      <th>year</th>\n",
       "      <th>month</th>\n",
       "      <th>day</th>\n",
       "      <th>Category_Clothing &amp; Accessories</th>\n",
       "      <th>Category_Cosmetics</th>\n",
       "      <th>Category_Electronics</th>\n",
       "      <th>...</th>\n",
       "      <th>Store_Woolies</th>\n",
       "      <th>Store_Dandenong, VIC, 3175, Australia</th>\n",
       "      <th>Store_Epping, VIC, 3076, Australia</th>\n",
       "      <th>Store_Keysborough, VIC, 3173, Australia</th>\n",
       "      <th>Store_Mulgrave, VIC, 3170, Australia</th>\n",
       "      <th>Store_Preston, VIC, 3072, Australia</th>\n",
       "      <th>Store_Ringwood, VIC, 3134, Australia</th>\n",
       "      <th>Store_South Melbourne, VIC, 3205, Australia</th>\n",
       "      <th>Store_Springvale, VIC, 3171, Australia</th>\n",
       "      <th>Store_Wheelers Hill, VIC, 3170, Australia</th>\n",
       "    </tr>\n",
       "  </thead>\n",
       "  <tbody>\n",
       "    <tr>\n",
       "      <th>0</th>\n",
       "      <td>2017-01-01</td>\n",
       "      <td>1</td>\n",
       "      <td>13</td>\n",
       "      <td>2.8</td>\n",
       "      <td>2017</td>\n",
       "      <td>1</td>\n",
       "      <td>1</td>\n",
       "      <td>0</td>\n",
       "      <td>0</td>\n",
       "      <td>1</td>\n",
       "      <td>...</td>\n",
       "      <td>0</td>\n",
       "      <td>0</td>\n",
       "      <td>0</td>\n",
       "      <td>0</td>\n",
       "      <td>0</td>\n",
       "      <td>0</td>\n",
       "      <td>0</td>\n",
       "      <td>0</td>\n",
       "      <td>0</td>\n",
       "      <td>1</td>\n",
       "    </tr>\n",
       "    <tr>\n",
       "      <th>1</th>\n",
       "      <td>2017-01-02</td>\n",
       "      <td>1</td>\n",
       "      <td>11</td>\n",
       "      <td>1.4</td>\n",
       "      <td>2017</td>\n",
       "      <td>1</td>\n",
       "      <td>2</td>\n",
       "      <td>0</td>\n",
       "      <td>0</td>\n",
       "      <td>1</td>\n",
       "      <td>...</td>\n",
       "      <td>0</td>\n",
       "      <td>0</td>\n",
       "      <td>0</td>\n",
       "      <td>0</td>\n",
       "      <td>0</td>\n",
       "      <td>0</td>\n",
       "      <td>0</td>\n",
       "      <td>0</td>\n",
       "      <td>0</td>\n",
       "      <td>1</td>\n",
       "    </tr>\n",
       "    <tr>\n",
       "      <th>2</th>\n",
       "      <td>2017-01-03</td>\n",
       "      <td>1</td>\n",
       "      <td>14</td>\n",
       "      <td>1.8</td>\n",
       "      <td>2017</td>\n",
       "      <td>1</td>\n",
       "      <td>3</td>\n",
       "      <td>0</td>\n",
       "      <td>0</td>\n",
       "      <td>1</td>\n",
       "      <td>...</td>\n",
       "      <td>0</td>\n",
       "      <td>0</td>\n",
       "      <td>0</td>\n",
       "      <td>0</td>\n",
       "      <td>0</td>\n",
       "      <td>0</td>\n",
       "      <td>0</td>\n",
       "      <td>0</td>\n",
       "      <td>0</td>\n",
       "      <td>1</td>\n",
       "    </tr>\n",
       "    <tr>\n",
       "      <th>3</th>\n",
       "      <td>2017-01-04</td>\n",
       "      <td>1</td>\n",
       "      <td>13</td>\n",
       "      <td>1.3</td>\n",
       "      <td>2017</td>\n",
       "      <td>1</td>\n",
       "      <td>4</td>\n",
       "      <td>0</td>\n",
       "      <td>0</td>\n",
       "      <td>1</td>\n",
       "      <td>...</td>\n",
       "      <td>0</td>\n",
       "      <td>0</td>\n",
       "      <td>0</td>\n",
       "      <td>0</td>\n",
       "      <td>0</td>\n",
       "      <td>0</td>\n",
       "      <td>0</td>\n",
       "      <td>0</td>\n",
       "      <td>0</td>\n",
       "      <td>1</td>\n",
       "    </tr>\n",
       "    <tr>\n",
       "      <th>4</th>\n",
       "      <td>2017-01-05</td>\n",
       "      <td>1</td>\n",
       "      <td>10</td>\n",
       "      <td>2.9</td>\n",
       "      <td>2017</td>\n",
       "      <td>1</td>\n",
       "      <td>5</td>\n",
       "      <td>0</td>\n",
       "      <td>0</td>\n",
       "      <td>1</td>\n",
       "      <td>...</td>\n",
       "      <td>0</td>\n",
       "      <td>0</td>\n",
       "      <td>0</td>\n",
       "      <td>0</td>\n",
       "      <td>0</td>\n",
       "      <td>0</td>\n",
       "      <td>0</td>\n",
       "      <td>0</td>\n",
       "      <td>0</td>\n",
       "      <td>1</td>\n",
       "    </tr>\n",
       "  </tbody>\n",
       "</table>\n",
       "<p>5 rows × 58 columns</p>\n",
       "</div>"
      ],
      "text/plain": [
       "        Date  Item  Sales  Average Rating  year  month  day  \\\n",
       "0 2017-01-01     1     13             2.8  2017      1    1   \n",
       "1 2017-01-02     1     11             1.4  2017      1    2   \n",
       "2 2017-01-03     1     14             1.8  2017      1    3   \n",
       "3 2017-01-04     1     13             1.3  2017      1    4   \n",
       "4 2017-01-05     1     10             2.9  2017      1    5   \n",
       "\n",
       "   Category_Clothing & Accessories  Category_Cosmetics  Category_Electronics  \\\n",
       "0                                0                   0                     1   \n",
       "1                                0                   0                     1   \n",
       "2                                0                   0                     1   \n",
       "3                                0                   0                     1   \n",
       "4                                0                   0                     1   \n",
       "\n",
       "   ...  Store_Woolies  Store_Dandenong, VIC, 3175, Australia  \\\n",
       "0  ...              0                                      0   \n",
       "1  ...              0                                      0   \n",
       "2  ...              0                                      0   \n",
       "3  ...              0                                      0   \n",
       "4  ...              0                                      0   \n",
       "\n",
       "   Store_Epping, VIC, 3076, Australia  \\\n",
       "0                                   0   \n",
       "1                                   0   \n",
       "2                                   0   \n",
       "3                                   0   \n",
       "4                                   0   \n",
       "\n",
       "   Store_Keysborough, VIC, 3173, Australia  \\\n",
       "0                                        0   \n",
       "1                                        0   \n",
       "2                                        0   \n",
       "3                                        0   \n",
       "4                                        0   \n",
       "\n",
       "   Store_Mulgrave, VIC, 3170, Australia  Store_Preston, VIC, 3072, Australia  \\\n",
       "0                                     0                                    0   \n",
       "1                                     0                                    0   \n",
       "2                                     0                                    0   \n",
       "3                                     0                                    0   \n",
       "4                                     0                                    0   \n",
       "\n",
       "   Store_Ringwood, VIC, 3134, Australia  \\\n",
       "0                                     0   \n",
       "1                                     0   \n",
       "2                                     0   \n",
       "3                                     0   \n",
       "4                                     0   \n",
       "\n",
       "   Store_South Melbourne, VIC, 3205, Australia  \\\n",
       "0                                            0   \n",
       "1                                            0   \n",
       "2                                            0   \n",
       "3                                            0   \n",
       "4                                            0   \n",
       "\n",
       "   Store_Springvale, VIC, 3171, Australia  \\\n",
       "0                                       0   \n",
       "1                                       0   \n",
       "2                                       0   \n",
       "3                                       0   \n",
       "4                                       0   \n",
       "\n",
       "   Store_Wheelers Hill, VIC, 3170, Australia  \n",
       "0                                          1  \n",
       "1                                          1  \n",
       "2                                          1  \n",
       "3                                          1  \n",
       "4                                          1  \n",
       "\n",
       "[5 rows x 58 columns]"
      ]
     },
<<<<<<< HEAD
     "execution_count": 25,
=======
     "execution_count": 21,
>>>>>>> f20dcd770ec4bfa639b1668228e0244c1b3d2fe8
     "metadata": {},
     "output_type": "execute_result"
    }
   ],
   "source": [
    "train.head()"
   ]
  },
  {
   "cell_type": "markdown",
   "id": "1caa145d",
   "metadata": {},
   "source": [
    "# Exploratory Data Analysis"
   ]
  },
  {
   "cell_type": "code",
   "execution_count": 23,
   "id": "87d6b953",
   "metadata": {},
   "outputs": [],
   "source": [
    "train = train.set_index([\"Date\"])"
   ]
  },
  {
   "cell_type": "code",
   "execution_count": 25,
   "id": "54560071",
   "metadata": {},
   "outputs": [
    {
     "data": {
      "text/plain": [
       "<AxesSubplot:xlabel='Date'>"
      ]
     },
     "execution_count": 25,
     "metadata": {},
     "output_type": "execute_result"
    },
    {
     "data": {
      "image/png": "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\n",
      "text/plain": [
       "<Figure size 720x432 with 1 Axes>"
      ]
     },
     "metadata": {
      "needs_background": "light"
     },
     "output_type": "display_data"
    }
   ],
   "source": [
    "import seaborn as sns\n",
    "\n",
    "train.Sales.resample('MS').mean().plot()"
   ]
  },
  {
   "cell_type": "markdown",
   "id": "2bf100e3",
   "metadata": {},
   "source": [
    "## Determine rolling statistics"
   ]
  },
  {
   "cell_type": "code",
   "execution_count": 27,
   "id": "f2250664",
   "metadata": {},
   "outputs": [
    {
     "data": {
      "text/plain": [
       "Date\n",
       "2017-01-01           NaN\n",
       "2017-01-02           NaN\n",
       "2017-01-03           NaN\n",
       "2017-01-04           NaN\n",
       "2017-01-05           NaN\n",
       "                 ...    \n",
       "2021-06-26    103.833333\n",
       "2021-06-27    102.000000\n",
       "2021-06-28     99.500000\n",
       "2021-06-29     99.583333\n",
       "2021-06-30     96.416667\n",
       "Name: Sales, Length: 821000, dtype: float64"
      ]
     },
     "execution_count": 27,
     "metadata": {},
     "output_type": "execute_result"
    }
   ],
   "source": [
    "rolling_mean = train[\"Sales\"].rolling(window=12).mean()\n",
    "rolling_mean"
   ]
  },
  {
   "cell_type": "code",
   "execution_count": 29,
   "id": "a537b014",
   "metadata": {},
   "outputs": [
    {
     "data": {
      "text/plain": [
       "Date\n",
       "2017-01-01          NaN\n",
       "2017-01-02          NaN\n",
       "2017-01-03          NaN\n",
       "2017-01-04          NaN\n",
       "2017-01-05          NaN\n",
       "                ...    \n",
       "2021-06-26    22.710964\n",
       "2021-06-27    23.483069\n",
       "2021-06-28    22.865218\n",
       "2021-06-29    22.952355\n",
       "2021-06-30    17.286139\n",
       "Name: Sales, Length: 821000, dtype: float64"
      ]
     },
     "execution_count": 29,
     "metadata": {},
     "output_type": "execute_result"
    }
   ],
   "source": [
    "rolling_std = train[\"Sales\"].rolling(window=12).std()\n",
    "rolling_std"
   ]
  },
  {
   "cell_type": "code",
   "execution_count": null,
   "id": "c16ce764",
   "metadata": {},
   "outputs": [],
   "source": [
    "from statsmodels.tsa.stattools import adfuller\n",
    "from numpy import log\n",
    "\n",
    "result = adfuller()\n",
    "print('ADF Statistic: %f' % result[0])\n",
    "print('p-value: %f' % result[1])"
   ]
  },
  {
   "cell_type": "code",
   "execution_count": 26,
   "metadata": {
    "scrolled": true
   },
   "outputs": [
    {
     "data": {
      "text/plain": [
       "array([ 1,  2,  3,  4,  5,  6,  7,  8,  9, 10, 11, 12, 13, 14, 15, 16, 17,\n",
       "       18, 19, 20, 21, 22, 23, 24, 25, 26, 27, 28, 29, 30, 31, 32, 33, 34,\n",
       "       35, 36, 37, 38, 39, 40, 41, 42, 43, 44, 45, 46, 47, 48, 49, 50],\n",
       "      dtype=int64)"
      ]
     },
     "execution_count": 26,
     "metadata": {},
     "output_type": "execute_result"
    }
   ],
   "source": [
    "test.Item.unique()"
   ]
  },
  {
   "cell_type": "code",
   "execution_count": 27,
   "metadata": {},
   "outputs": [],
   "source": [
    "train=train.set_index([\"Date\"])"
   ]
  },
  {
   "cell_type": "code",
   "execution_count": 28,
   "metadata": {},
   "outputs": [
    {
     "data": {
      "text/plain": [
       "<matplotlib.axes._subplots.AxesSubplot at 0x139d5c9dd90>"
      ]
     },
     "execution_count": 28,
     "metadata": {},
     "output_type": "execute_result"
    },
    {
     "data": {
      "image/png": "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\n",
      "text/plain": [
       "<Figure size 720x432 with 1 Axes>"
      ]
     },
     "metadata": {
      "needs_background": "light"
     },
     "output_type": "display_data"
    }
   ],
   "source": [
    "import seaborn as sns\n",
    "y=train.Sales.resample('MS').mean()\n",
    "train.Sales.resample('MS').mean().plot() # MS implies Month Starting"
   ]
  },
  {
   "cell_type": "code",
   "execution_count": 29,
   "metadata": {},
   "outputs": [
    {
     "data": {
      "text/plain": [
       "Date\n",
       "2017-01-01    29.348645\n",
       "2017-02-01    32.815500\n",
       "2017-03-01    39.831097\n",
       "2017-04-01    45.484933\n",
       "2017-05-01    49.241419\n",
       "2017-06-01    53.039800\n",
       "2017-07-01    55.220774\n",
       "2017-08-01    49.468452\n",
       "2017-09-01    45.993800\n",
       "2017-10-01    42.360452\n",
       "2017-11-01    46.176200\n",
       "2017-12-01    32.684323\n",
       "Freq: MS, Name: Sales, dtype: float64"
      ]
     },
     "execution_count": 29,
     "metadata": {},
     "output_type": "execute_result"
    }
   ],
   "source": [
    "y[\"2017\"]"
   ]
  },
  {
   "cell_type": "code",
   "execution_count": 31,
   "metadata": {
    "scrolled": true
   },
   "outputs": [
    {
     "data": {
      "image/png": "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\n",
      "text/plain": [
       "<Figure size 1080x432 with 1 Axes>"
      ]
     },
     "metadata": {
      "needs_background": "light"
     },
     "output_type": "display_data"
    }
   ],
   "source": [
    "y.plot(figsize=(15,6))\n",
    "plt.show()"
   ]
  },
  {
   "cell_type": "code",
   "execution_count": 32,
   "metadata": {},
   "outputs": [],
   "source": [
    "from pylab import rcParams\n",
    "rcParams[\"figure.figsize\"]=18,8"
   ]
  },
  {
   "cell_type": "code",
   "execution_count": 40,
   "metadata": {},
   "outputs": [
    {
     "data": {
      "image/png": "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\n",
      "text/plain": [
       "<Figure size 720x432 with 4 Axes>"
      ]
     },
     "metadata": {
      "needs_background": "light"
     },
     "output_type": "display_data"
    }
   ],
   "source": [
    "decomposition=sm.tsa.seasonal_decompose(y,model=\"additive\")\n",
    "fig=decomposition.plot()\n",
    "plt.show()"
   ]
  },
  {
   "cell_type": "code",
   "execution_count": 48,
   "metadata": {},
   "outputs": [],
   "source": [
    "p = d = q = range(0, 2)\n",
    "pdq = list(itertools.product(p, d, q))\n",
    "seasonal_pdq = [(x[0], x[1], x[2], 12) for x in list(itertools.product(p, d, q))]"
   ]
  },
  {
   "cell_type": "code",
   "execution_count": 49,
   "metadata": {},
   "outputs": [
    {
     "name": "stdout",
     "output_type": "stream",
     "text": [
      "ARIMA(0, 0, 0)x(0, 0, 0, 12)12 - AIC:572.4961269356305\n"
     ]
    },
    {
     "name": "stderr",
     "output_type": "stream",
     "text": [
      "C:\\ProgramData\\Anaconda3\\lib\\site-packages\\statsmodels\\base\\model.py:567: ConvergenceWarning: Maximum Likelihood optimization failed to converge. Check mle_retvals\n",
      "  warn(\"Maximum Likelihood optimization failed to converge. \"\n"
     ]
    },
    {
     "name": "stdout",
     "output_type": "stream",
     "text": [
      "ARIMA(0, 0, 0)x(0, 0, 1, 12)12 - AIC:448.7759765775293\n",
      "ARIMA(0, 0, 0)x(0, 1, 0, 12)12 - AIC:242.15509366826987\n"
     ]
    },
    {
     "name": "stderr",
     "output_type": "stream",
     "text": [
      "C:\\ProgramData\\Anaconda3\\lib\\site-packages\\statsmodels\\base\\model.py:567: ConvergenceWarning: Maximum Likelihood optimization failed to converge. Check mle_retvals\n",
      "  warn(\"Maximum Likelihood optimization failed to converge. \"\n"
     ]
    },
    {
     "name": "stdout",
     "output_type": "stream",
     "text": [
      "ARIMA(0, 0, 0)x(0, 1, 1, 12)12 - AIC:781.4227587472128\n",
      "ARIMA(0, 0, 0)x(1, 0, 0, 12)12 - AIC:188.116587329041\n",
      "ARIMA(0, 0, 0)x(1, 0, 1, 12)12 - AIC:171.41995437361618\n",
      "ARIMA(0, 0, 0)x(1, 1, 0, 12)12 - AIC:138.25478080444844\n",
      "ARIMA(0, 0, 0)x(1, 1, 1, 12)12 - AIC:124.22585688982883\n",
      "ARIMA(0, 0, 1)x(0, 0, 0, 12)12 - AIC:505.4810824838371\n"
     ]
    },
    {
     "name": "stderr",
     "output_type": "stream",
     "text": [
      "C:\\ProgramData\\Anaconda3\\lib\\site-packages\\statsmodels\\base\\model.py:567: ConvergenceWarning: Maximum Likelihood optimization failed to converge. Check mle_retvals\n",
      "  warn(\"Maximum Likelihood optimization failed to converge. \"\n"
     ]
    },
    {
     "name": "stdout",
     "output_type": "stream",
     "text": [
      "ARIMA(0, 0, 1)x(0, 0, 1, 12)12 - AIC:412.90960915773167\n",
      "ARIMA(0, 0, 1)x(0, 1, 0, 12)12 - AIC:192.50482168262306\n"
     ]
    },
    {
     "name": "stderr",
     "output_type": "stream",
     "text": [
      "C:\\ProgramData\\Anaconda3\\lib\\site-packages\\statsmodels\\base\\model.py:567: ConvergenceWarning: Maximum Likelihood optimization failed to converge. Check mle_retvals\n",
      "  warn(\"Maximum Likelihood optimization failed to converge. \"\n"
     ]
    },
    {
     "name": "stdout",
     "output_type": "stream",
     "text": [
      "ARIMA(0, 0, 1)x(0, 1, 1, 12)12 - AIC:1175.3112138438137\n"
     ]
    },
    {
     "name": "stderr",
     "output_type": "stream",
     "text": [
      "C:\\ProgramData\\Anaconda3\\lib\\site-packages\\statsmodels\\base\\model.py:567: ConvergenceWarning: Maximum Likelihood optimization failed to converge. Check mle_retvals\n",
      "  warn(\"Maximum Likelihood optimization failed to converge. \"\n"
     ]
    },
    {
     "name": "stdout",
     "output_type": "stream",
     "text": [
      "ARIMA(0, 0, 1)x(1, 0, 0, 12)12 - AIC:190.65937950587167\n"
     ]
    },
    {
     "name": "stderr",
     "output_type": "stream",
     "text": [
      "C:\\ProgramData\\Anaconda3\\lib\\site-packages\\statsmodels\\base\\model.py:567: ConvergenceWarning: Maximum Likelihood optimization failed to converge. Check mle_retvals\n",
      "  warn(\"Maximum Likelihood optimization failed to converge. \"\n"
     ]
    },
    {
     "name": "stdout",
     "output_type": "stream",
     "text": [
      "ARIMA(0, 0, 1)x(1, 0, 1, 12)12 - AIC:148.82747954193007\n",
      "ARIMA(0, 0, 1)x(1, 1, 0, 12)12 - AIC:113.57568358198309\n",
      "ARIMA(0, 0, 1)x(1, 1, 1, 12)12 - AIC:101.091839341052\n",
      "ARIMA(0, 1, 0)x(0, 0, 0, 12)12 - AIC:347.23734257364634\n",
      "ARIMA(0, 1, 0)x(0, 0, 1, 12)12 - AIC:245.49523468866826\n",
      "ARIMA(0, 1, 0)x(0, 1, 0, 12)12 - AIC:126.83411435751998\n"
     ]
    },
    {
     "name": "stderr",
     "output_type": "stream",
     "text": [
      "C:\\ProgramData\\Anaconda3\\lib\\site-packages\\statsmodels\\base\\model.py:567: ConvergenceWarning: Maximum Likelihood optimization failed to converge. Check mle_retvals\n",
      "  warn(\"Maximum Likelihood optimization failed to converge. \"\n"
     ]
    },
    {
     "name": "stdout",
     "output_type": "stream",
     "text": [
      "ARIMA(0, 1, 0)x(0, 1, 1, 12)12 - AIC:1327.4858978012753\n",
      "ARIMA(0, 1, 0)x(1, 0, 0, 12)12 - AIC:123.3081253936823\n",
      "ARIMA(0, 1, 0)x(1, 0, 1, 12)12 - AIC:122.02613356772113\n",
      "ARIMA(0, 1, 0)x(1, 1, 0, 12)12 - AIC:87.68659119156746\n",
      "ARIMA(0, 1, 0)x(1, 1, 1, 12)12 - AIC:86.67721230960719\n",
      "ARIMA(0, 1, 1)x(0, 0, 0, 12)12 - AIC:340.2673154574675\n",
      "ARIMA(0, 1, 1)x(0, 0, 1, 12)12 - AIC:239.32652279822324\n",
      "ARIMA(0, 1, 1)x(0, 1, 0, 12)12 - AIC:126.31458514382177\n"
     ]
    },
    {
     "name": "stderr",
     "output_type": "stream",
     "text": [
      "C:\\ProgramData\\Anaconda3\\lib\\site-packages\\statsmodels\\base\\model.py:567: ConvergenceWarning: Maximum Likelihood optimization failed to converge. Check mle_retvals\n",
      "  warn(\"Maximum Likelihood optimization failed to converge. \"\n"
     ]
    },
    {
     "name": "stdout",
     "output_type": "stream",
     "text": [
      "ARIMA(0, 1, 1)x(0, 1, 1, 12)12 - AIC:728.7485387434868\n",
      "ARIMA(0, 1, 1)x(1, 0, 0, 12)12 - AIC:124.09501952452223\n",
      "ARIMA(0, 1, 1)x(1, 0, 1, 12)12 - AIC:119.70911559780289\n",
      "ARIMA(0, 1, 1)x(1, 1, 0, 12)12 - AIC:86.32810642349621\n",
      "ARIMA(0, 1, 1)x(1, 1, 1, 12)12 - AIC:81.2917089224536\n",
      "ARIMA(1, 0, 0)x(0, 0, 0, 12)12 - AIC:355.0057944926135\n",
      "ARIMA(1, 0, 0)x(0, 0, 1, 12)12 - AIC:279.44553977809556\n",
      "ARIMA(1, 0, 0)x(0, 1, 0, 12)12 - AIC:130.05263160187187\n"
     ]
    },
    {
     "name": "stderr",
     "output_type": "stream",
     "text": [
      "C:\\ProgramData\\Anaconda3\\lib\\site-packages\\statsmodels\\base\\model.py:567: ConvergenceWarning: Maximum Likelihood optimization failed to converge. Check mle_retvals\n",
      "  warn(\"Maximum Likelihood optimization failed to converge. \"\n"
     ]
    },
    {
     "name": "stdout",
     "output_type": "stream",
     "text": [
      "ARIMA(1, 0, 0)x(0, 1, 1, 12)12 - AIC:793.4719418353682\n",
      "ARIMA(1, 0, 0)x(1, 0, 0, 12)12 - AIC:122.7521182834831\n"
     ]
    },
    {
     "name": "stderr",
     "output_type": "stream",
     "text": [
      "C:\\ProgramData\\Anaconda3\\lib\\site-packages\\statsmodels\\base\\model.py:567: ConvergenceWarning: Maximum Likelihood optimization failed to converge. Check mle_retvals\n",
      "  warn(\"Maximum Likelihood optimization failed to converge. \"\n"
     ]
    },
    {
     "name": "stdout",
     "output_type": "stream",
     "text": [
      "ARIMA(1, 0, 0)x(1, 0, 1, 12)12 - AIC:125.07794362466848\n",
      "ARIMA(1, 0, 0)x(1, 1, 0, 12)12 - AIC:89.18451967203268\n",
      "ARIMA(1, 0, 0)x(1, 1, 1, 12)12 - AIC:90.22659225948529\n",
      "ARIMA(1, 0, 1)x(0, 0, 0, 12)12 - AIC:348.9745027162051\n",
      "ARIMA(1, 0, 1)x(0, 0, 1, 12)12 - AIC:273.55235983678415\n",
      "ARIMA(1, 0, 1)x(0, 1, 0, 12)12 - AIC:129.67429725145666\n"
     ]
    },
    {
     "name": "stderr",
     "output_type": "stream",
     "text": [
      "C:\\ProgramData\\Anaconda3\\lib\\site-packages\\statsmodels\\base\\model.py:567: ConvergenceWarning: Maximum Likelihood optimization failed to converge. Check mle_retvals\n",
      "  warn(\"Maximum Likelihood optimization failed to converge. \"\n"
     ]
    },
    {
     "name": "stdout",
     "output_type": "stream",
     "text": [
      "ARIMA(1, 0, 1)x(0, 1, 1, 12)12 - AIC:1193.0143658721438\n",
      "ARIMA(1, 0, 1)x(1, 0, 0, 12)12 - AIC:124.20514541540582\n"
     ]
    },
    {
     "name": "stderr",
     "output_type": "stream",
     "text": [
      "C:\\ProgramData\\Anaconda3\\lib\\site-packages\\statsmodels\\base\\model.py:567: ConvergenceWarning: Maximum Likelihood optimization failed to converge. Check mle_retvals\n",
      "  warn(\"Maximum Likelihood optimization failed to converge. \"\n"
     ]
    },
    {
     "name": "stdout",
     "output_type": "stream",
     "text": [
      "ARIMA(1, 0, 1)x(1, 0, 1, 12)12 - AIC:124.64323867743693\n",
      "ARIMA(1, 0, 1)x(1, 1, 0, 12)12 - AIC:88.1927530047292\n",
      "ARIMA(1, 0, 1)x(1, 1, 1, 12)12 - AIC:85.22258941968133\n",
      "ARIMA(1, 1, 0)x(0, 0, 0, 12)12 - AIC:346.11898925259953\n",
      "ARIMA(1, 1, 0)x(0, 0, 1, 12)12 - AIC:245.10702061628643\n",
      "ARIMA(1, 1, 0)x(0, 1, 0, 12)12 - AIC:128.76829258591687\n"
     ]
    },
    {
     "name": "stderr",
     "output_type": "stream",
     "text": [
      "C:\\ProgramData\\Anaconda3\\lib\\site-packages\\statsmodels\\base\\model.py:567: ConvergenceWarning: Maximum Likelihood optimization failed to converge. Check mle_retvals\n",
      "  warn(\"Maximum Likelihood optimization failed to converge. \"\n"
     ]
    },
    {
     "name": "stdout",
     "output_type": "stream",
     "text": [
      "ARIMA(1, 1, 0)x(0, 1, 1, 12)12 - AIC:1304.6702269839857\n",
      "ARIMA(1, 1, 0)x(1, 0, 0, 12)12 - AIC:122.21479104137217\n",
      "ARIMA(1, 1, 0)x(1, 0, 1, 12)12 - AIC:121.48313961495745\n",
      "ARIMA(1, 1, 0)x(1, 1, 0, 12)12 - AIC:84.42447560183518\n",
      "ARIMA(1, 1, 0)x(1, 1, 1, 12)12 - AIC:86.23844645310051\n",
      "ARIMA(1, 1, 1)x(0, 0, 0, 12)12 - AIC:341.39965780845523\n",
      "ARIMA(1, 1, 1)x(0, 0, 1, 12)12 - AIC:241.18596674538338\n",
      "ARIMA(1, 1, 1)x(0, 1, 0, 12)12 - AIC:127.64234782866619\n"
     ]
    },
    {
     "name": "stderr",
     "output_type": "stream",
     "text": [
      "C:\\ProgramData\\Anaconda3\\lib\\site-packages\\statsmodels\\base\\model.py:567: ConvergenceWarning: Maximum Likelihood optimization failed to converge. Check mle_retvals\n",
      "  warn(\"Maximum Likelihood optimization failed to converge. \"\n"
     ]
    },
    {
     "name": "stdout",
     "output_type": "stream",
     "text": [
      "ARIMA(1, 1, 1)x(0, 1, 1, 12)12 - AIC:621.2898280839103\n",
      "ARIMA(1, 1, 1)x(1, 0, 0, 12)12 - AIC:124.15028911378195\n",
      "ARIMA(1, 1, 1)x(1, 0, 1, 12)12 - AIC:121.4659690750221\n",
      "ARIMA(1, 1, 1)x(1, 1, 0, 12)12 - AIC:90.03751261565463\n",
      "ARIMA(1, 1, 1)x(1, 1, 1, 12)12 - AIC:88.21307126259373\n"
     ]
    }
   ],
   "source": [
    "for param in pdq:\n",
    "    for param_seasonal in seasonal_pdq:\n",
    "        try:\n",
    "            mod = sm.tsa.statespace.SARIMAX(y,order=param,seasonal_order=param_seasonal,enforce_stationarity=False,enforce_invertibility=False)\n",
    "            results = mod.fit()\n",
    "            print('ARIMA{}x{}12 - AIC:{}'.format(param, param_seasonal, results.aic))\n",
    "        except:\n",
    "            continue"
   ]
  },
  {
   "cell_type": "code",
   "execution_count": 50,
   "metadata": {},
   "outputs": [
    {
     "name": "stdout",
     "output_type": "stream",
     "text": [
      "==============================================================================\n",
      "                 coef    std err          z      P>|z|      [0.025      0.975]\n",
      "------------------------------------------------------------------------------\n",
      "ar.L1         -0.7990      0.254     -3.147      0.002      -1.297      -0.301\n",
      "ma.L1          1.0000   6166.023      0.000      1.000   -1.21e+04    1.21e+04\n",
      "ar.S.L12       0.0999      0.148      0.677      0.498      -0.189       0.389\n",
      "sigma2         0.9765   6021.120      0.000      1.000   -1.18e+04    1.18e+04\n",
      "==============================================================================\n"
     ]
    }
   ],
   "source": [
    "mod = sm.tsa.statespace.SARIMAX(y,\n",
    "                                order=(1, 1, 1),\n",
    "                                seasonal_order=(1, 1, 0, 12),\n",
    "                                enforce_stationarity=False,\n",
    "                                enforce_invertibility=False)\n",
    "results = mod.fit()\n",
    "print(results.summary().tables[1])"
   ]
  },
  {
   "cell_type": "code",
   "execution_count": 51,
   "metadata": {},
   "outputs": [
    {
     "data": {
      "image/png": "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\n",
      "text/plain": [
       "<Figure size 1152x576 with 4 Axes>"
      ]
     },
     "metadata": {
      "needs_background": "light"
     },
     "output_type": "display_data"
    }
   ],
   "source": [
    "results.plot_diagnostics(figsize=(16, 8))\n",
    "plt.show()"
   ]
  },
  {
   "cell_type": "code",
   "execution_count": 56,
   "metadata": {},
   "outputs": [
    {
     "data": {
      "image/png": "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\n",
      "text/plain": [
       "<Figure size 1008x504 with 1 Axes>"
      ]
     },
     "metadata": {
      "needs_background": "light"
     },
     "output_type": "display_data"
    }
   ],
   "source": [
    "pred = results.get_prediction(start=pd.to_datetime('2020-01-01'), dynamic=False)\n",
    "pred_ci = pred.conf_int()\n",
    "ax = y['2017':].plot(label='observed')\n",
    "pred.predicted_mean.plot(ax=ax, label='One-step ahead Forecast', alpha=.7, figsize=(14, 7))\n",
    "ax.fill_between(pred_ci.index,\n",
    "                pred_ci.iloc[:, 0],\n",
    "                pred_ci.iloc[:, 1], color='k', alpha=.2)\n",
    "ax.set_xlabel('Date')\n",
    "ax.set_ylabel('Sales')\n",
    "plt.legend()\n",
    "plt.show()"
   ]
  },
  {
   "cell_type": "code",
   "execution_count": 60,
   "metadata": {},
   "outputs": [
    {
     "data": {
      "text/plain": [
       "array(['Wheelers Hill VIC 3170', 'Preston,\\xa0VIC,\\xa03072',\n",
       "       'South Melbourne,\\xa0VIC\\xa03205',\n",
       "       'Keysborough, VIC, 3173, Australia', 'Mulgrave\\xa0VIC\\xa03170',\n",
       "       'Dandenong, VIC, 3175, Australia',\n",
       "       'Springvale, VIC, 3171, Australia', 'Ringwood VIC 3134',\n",
       "       ' Epping VIC 3076', 'Mulgrave VIC 3170', nan], dtype=object)"
      ]
     },
     "execution_count": 60,
     "metadata": {},
     "output_type": "execute_result"
    }
   ],
   "source": [
    "test.head()"
   ]
  },
  {
   "cell_type": "code",
   "execution_count": 64,
   "metadata": {
    "scrolled": true
   },
   "outputs": [
    {
     "data": {
      "text/plain": [
       "array(['2021-07-01T00:00:00.000000000', '2021-07-02T00:00:00.000000000',\n",
       "       '2021-07-03T00:00:00.000000000', '2021-07-04T00:00:00.000000000',\n",
       "       '2021-07-05T00:00:00.000000000', '2021-07-06T00:00:00.000000000',\n",
       "       '2021-07-07T00:00:00.000000000', '2021-07-08T00:00:00.000000000',\n",
       "       '2021-07-09T00:00:00.000000000', '2021-07-10T00:00:00.000000000',\n",
       "       '2021-07-11T00:00:00.000000000', '2021-07-12T00:00:00.000000000',\n",
       "       '2021-07-13T00:00:00.000000000', '2021-07-14T00:00:00.000000000',\n",
       "       '2021-07-15T00:00:00.000000000', '2021-07-16T00:00:00.000000000',\n",
       "       '2021-07-17T00:00:00.000000000', '2021-07-18T00:00:00.000000000',\n",
       "       '2021-07-19T00:00:00.000000000', '2021-07-20T00:00:00.000000000',\n",
       "       '2021-07-21T00:00:00.000000000', '2021-07-22T00:00:00.000000000',\n",
       "       '2021-07-23T00:00:00.000000000', '2021-07-24T00:00:00.000000000',\n",
       "       '2021-07-25T00:00:00.000000000', '2021-07-26T00:00:00.000000000',\n",
       "       '2021-07-27T00:00:00.000000000', '2021-07-28T00:00:00.000000000',\n",
       "       '2021-07-29T00:00:00.000000000', '2021-07-30T00:00:00.000000000',\n",
       "       '2021-07-31T00:00:00.000000000', '2021-08-01T00:00:00.000000000',\n",
       "       '2021-08-02T00:00:00.000000000', '2021-08-03T00:00:00.000000000',\n",
       "       '2021-08-04T00:00:00.000000000', '2021-08-05T00:00:00.000000000',\n",
       "       '2021-08-06T00:00:00.000000000', '2021-08-07T00:00:00.000000000',\n",
       "       '2021-08-08T00:00:00.000000000', '2021-08-09T00:00:00.000000000',\n",
       "       '2021-08-10T00:00:00.000000000', '2021-08-11T00:00:00.000000000',\n",
       "       '2021-08-12T00:00:00.000000000', '2021-08-13T00:00:00.000000000',\n",
       "       '2021-08-14T00:00:00.000000000', '2021-08-15T00:00:00.000000000',\n",
       "       '2021-08-16T00:00:00.000000000', '2021-08-17T00:00:00.000000000',\n",
       "       '2021-08-18T00:00:00.000000000', '2021-08-19T00:00:00.000000000',\n",
       "       '2021-08-20T00:00:00.000000000', '2021-08-21T00:00:00.000000000',\n",
       "       '2021-08-22T00:00:00.000000000', '2021-08-23T00:00:00.000000000',\n",
       "       '2021-08-24T00:00:00.000000000', '2021-08-25T00:00:00.000000000',\n",
       "       '2021-08-26T00:00:00.000000000', '2021-08-27T00:00:00.000000000',\n",
       "       '2021-08-28T00:00:00.000000000', '2021-08-29T00:00:00.000000000',\n",
       "       '2021-08-30T00:00:00.000000000', '2021-08-31T00:00:00.000000000',\n",
       "       '2021-09-01T00:00:00.000000000', '2021-09-02T00:00:00.000000000',\n",
       "       '2021-09-03T00:00:00.000000000', '2021-09-04T00:00:00.000000000',\n",
       "       '2021-09-05T00:00:00.000000000', '2021-09-06T00:00:00.000000000',\n",
       "       '2021-09-07T00:00:00.000000000', '2021-09-08T00:00:00.000000000',\n",
       "       '2021-09-09T00:00:00.000000000', '2021-09-10T00:00:00.000000000',\n",
       "       '2021-09-11T00:00:00.000000000', '2021-09-12T00:00:00.000000000',\n",
       "       '2021-09-13T00:00:00.000000000', '2021-09-14T00:00:00.000000000',\n",
       "       '2021-09-15T00:00:00.000000000', '2021-09-16T00:00:00.000000000',\n",
       "       '2021-09-17T00:00:00.000000000', '2021-09-18T00:00:00.000000000',\n",
       "       '2021-09-19T00:00:00.000000000', '2021-09-20T00:00:00.000000000',\n",
       "       '2021-09-21T00:00:00.000000000', '2021-09-22T00:00:00.000000000',\n",
       "       '2021-09-23T00:00:00.000000000', '2021-09-24T00:00:00.000000000',\n",
       "       '2021-09-25T00:00:00.000000000', '2021-09-26T00:00:00.000000000',\n",
       "       '2021-09-27T00:00:00.000000000', '2021-09-28T00:00:00.000000000',\n",
       "       '2021-09-29T00:00:00.000000000', '2021-09-30T00:00:00.000000000',\n",
       "       '2021-10-01T00:00:00.000000000', '2021-10-02T00:00:00.000000000',\n",
       "       '2021-10-03T00:00:00.000000000', '2021-10-04T00:00:00.000000000',\n",
       "       '2021-10-05T00:00:00.000000000', '2021-10-06T00:00:00.000000000',\n",
       "       '2021-10-07T00:00:00.000000000', '2021-10-08T00:00:00.000000000',\n",
       "       '2021-10-09T00:00:00.000000000', '2021-10-10T00:00:00.000000000',\n",
       "       '2021-10-11T00:00:00.000000000', '2021-10-12T00:00:00.000000000',\n",
       "       '2021-10-13T00:00:00.000000000', '2021-10-14T00:00:00.000000000',\n",
       "       '2021-10-15T00:00:00.000000000', '2021-10-16T00:00:00.000000000',\n",
       "       '2021-10-17T00:00:00.000000000', '2021-10-18T00:00:00.000000000',\n",
       "       '2021-10-19T00:00:00.000000000', '2021-10-20T00:00:00.000000000',\n",
       "       '2021-10-21T00:00:00.000000000', '2021-10-22T00:00:00.000000000',\n",
       "       '2021-10-23T00:00:00.000000000', '2021-10-24T00:00:00.000000000',\n",
       "       '2021-10-25T00:00:00.000000000', '2021-10-26T00:00:00.000000000',\n",
       "       '2021-10-27T00:00:00.000000000', '2021-10-28T00:00:00.000000000',\n",
       "       '2021-10-29T00:00:00.000000000', '2021-10-30T00:00:00.000000000',\n",
       "       '2021-10-31T00:00:00.000000000', '2021-11-01T00:00:00.000000000',\n",
       "       '2021-11-02T00:00:00.000000000', '2021-11-03T00:00:00.000000000',\n",
       "       '2021-11-04T00:00:00.000000000', '2021-11-05T00:00:00.000000000',\n",
       "       '2021-11-06T00:00:00.000000000', '2021-11-07T00:00:00.000000000',\n",
       "       '2021-11-08T00:00:00.000000000', '2021-11-09T00:00:00.000000000',\n",
       "       '2021-11-10T00:00:00.000000000', '2021-11-11T00:00:00.000000000',\n",
       "       '2021-11-12T00:00:00.000000000', '2021-11-13T00:00:00.000000000',\n",
       "       '2021-11-14T00:00:00.000000000', '2021-11-15T00:00:00.000000000',\n",
       "       '2021-11-16T00:00:00.000000000', '2021-11-17T00:00:00.000000000',\n",
       "       '2021-11-18T00:00:00.000000000', '2021-11-19T00:00:00.000000000',\n",
       "       '2021-11-20T00:00:00.000000000', '2021-11-21T00:00:00.000000000',\n",
       "       '2021-11-22T00:00:00.000000000', '2021-11-23T00:00:00.000000000',\n",
       "       '2021-11-24T00:00:00.000000000', '2021-11-25T00:00:00.000000000',\n",
       "       '2021-11-26T00:00:00.000000000', '2021-11-27T00:00:00.000000000',\n",
       "       '2021-11-28T00:00:00.000000000', '2021-11-29T00:00:00.000000000',\n",
       "       '2021-11-30T00:00:00.000000000', '2021-12-01T00:00:00.000000000',\n",
       "       '2021-12-02T00:00:00.000000000', '2021-12-03T00:00:00.000000000',\n",
       "       '2021-12-04T00:00:00.000000000', '2021-12-05T00:00:00.000000000',\n",
       "       '2021-12-06T00:00:00.000000000', '2021-12-07T00:00:00.000000000',\n",
       "       '2021-12-08T00:00:00.000000000', '2021-12-09T00:00:00.000000000',\n",
       "       '2021-12-10T00:00:00.000000000', '2021-12-11T00:00:00.000000000',\n",
       "       '2021-12-12T00:00:00.000000000', '2021-12-13T00:00:00.000000000',\n",
       "       '2021-12-14T00:00:00.000000000', '2021-12-15T00:00:00.000000000',\n",
       "       '2021-12-16T00:00:00.000000000', '2021-12-17T00:00:00.000000000',\n",
       "       '2021-12-18T00:00:00.000000000', '2021-12-19T00:00:00.000000000',\n",
       "       '2021-12-20T00:00:00.000000000', '2021-12-21T00:00:00.000000000',\n",
       "       '2021-12-22T00:00:00.000000000', '2021-12-23T00:00:00.000000000',\n",
       "       '2021-12-24T00:00:00.000000000', '2021-12-25T00:00:00.000000000',\n",
       "       '2021-12-26T00:00:00.000000000', '2021-12-27T00:00:00.000000000',\n",
       "       '2021-12-28T00:00:00.000000000', '2021-12-29T00:00:00.000000000',\n",
       "       '2021-12-30T00:00:00.000000000', '2021-12-31T00:00:00.000000000'],\n",
       "      dtype='datetime64[ns]')"
      ]
     },
     "execution_count": 64,
     "metadata": {},
     "output_type": "execute_result"
    }
   ],
   "source": [
    "test.Date=pd.to_datetime(test.Date,format='%m/%d/%Y')\n",
    "test.Date.dtypes\n",
    "test.Date.unique()"
   ]
  },
  {
   "cell_type": "code",
   "execution_count": null,
   "metadata": {},
   "outputs": [],
   "source": []
  },
  {
   "cell_type": "code",
   "execution_count": null,
   "metadata": {},
   "outputs": [],
   "source": []
  },
  {
   "cell_type": "code",
   "execution_count": null,
   "metadata": {},
   "outputs": [],
   "source": []
  },
  {
   "cell_type": "code",
   "execution_count": 66,
   "metadata": {},
   "outputs": [
    {
     "ename": "TypeError",
     "evalue": "Cannot convert input [0       2021-07-01\n1       2021-07-02\n2       2021-07-03\n3       2021-07-04\n4       2021-07-05\n           ...    \n91995   2021-12-27\n91996   2021-12-28\n91997   2021-12-29\n91998   2021-12-30\n91999   2021-12-31\nName: Date, Length: 92000, dtype: datetime64[ns]] of type <class 'pandas.core.series.Series'> to Timestamp",
     "output_type": "error",
     "traceback": [
      "\u001b[1;31m---------------------------------------------------------------------------\u001b[0m",
      "\u001b[1;31mTypeError\u001b[0m                                 Traceback (most recent call last)",
      "\u001b[1;32m<ipython-input-66-42099a65680a>\u001b[0m in \u001b[0;36m<module>\u001b[1;34m\u001b[0m\n\u001b[1;32m----> 1\u001b[1;33m \u001b[0mpred\u001b[0m \u001b[1;33m=\u001b[0m \u001b[0mresults\u001b[0m\u001b[1;33m.\u001b[0m\u001b[0mget_prediction\u001b[0m\u001b[1;33m(\u001b[0m\u001b[0mtest\u001b[0m\u001b[1;33m.\u001b[0m\u001b[0mDate\u001b[0m\u001b[1;33m,\u001b[0m \u001b[0mdynamic\u001b[0m\u001b[1;33m=\u001b[0m\u001b[1;32mFalse\u001b[0m\u001b[1;33m)\u001b[0m\u001b[1;33m\u001b[0m\u001b[1;33m\u001b[0m\u001b[0m\n\u001b[0m\u001b[0;32m      2\u001b[0m \u001b[1;31m# pred_ci = pred.conf_int()\u001b[0m\u001b[1;33m\u001b[0m\u001b[1;33m\u001b[0m\u001b[1;33m\u001b[0m\u001b[0m\n\u001b[0;32m      3\u001b[0m \u001b[1;31m# ax = y['2017':].plot(label='observed')\u001b[0m\u001b[1;33m\u001b[0m\u001b[1;33m\u001b[0m\u001b[1;33m\u001b[0m\u001b[0m\n\u001b[0;32m      4\u001b[0m \u001b[1;31m# pred.predicted_mean.plot(ax=ax, label='One-step ahead Forecast', alpha=.7, figsize=(14, 7))\u001b[0m\u001b[1;33m\u001b[0m\u001b[1;33m\u001b[0m\u001b[1;33m\u001b[0m\u001b[0m\n\u001b[0;32m      5\u001b[0m \u001b[1;31m# ax.fill_between(pred_ci.index,\u001b[0m\u001b[1;33m\u001b[0m\u001b[1;33m\u001b[0m\u001b[1;33m\u001b[0m\u001b[0m\n",
      "\u001b[1;32mC:\\ProgramData\\Anaconda3\\lib\\site-packages\\statsmodels\\tsa\\statespace\\mlemodel.py\u001b[0m in \u001b[0;36mget_prediction\u001b[1;34m(self, start, end, dynamic, index, exog, extend_model, extend_kwargs, **kwargs)\u001b[0m\n\u001b[0;32m   3217\u001b[0m         \u001b[1;31m# Handle start, end, dynamic\u001b[0m\u001b[1;33m\u001b[0m\u001b[1;33m\u001b[0m\u001b[1;33m\u001b[0m\u001b[0m\n\u001b[0;32m   3218\u001b[0m         start, end, out_of_sample, prediction_index = (\n\u001b[1;32m-> 3219\u001b[1;33m             self.model._get_prediction_index(start, end, index))\n\u001b[0m\u001b[0;32m   3220\u001b[0m \u001b[1;33m\u001b[0m\u001b[0m\n\u001b[0;32m   3221\u001b[0m         \u001b[1;31m# Handle `dynamic`\u001b[0m\u001b[1;33m\u001b[0m\u001b[1;33m\u001b[0m\u001b[1;33m\u001b[0m\u001b[0m\n",
      "\u001b[1;32mC:\\ProgramData\\Anaconda3\\lib\\site-packages\\statsmodels\\tsa\\base\\tsa_model.py\u001b[0m in \u001b[0;36m_get_prediction_index\u001b[1;34m(self, start, end, index, silent)\u001b[0m\n\u001b[0;32m    526\u001b[0m         \u001b[1;31m# indexes.\u001b[0m\u001b[1;33m\u001b[0m\u001b[1;33m\u001b[0m\u001b[1;33m\u001b[0m\u001b[0m\n\u001b[0;32m    527\u001b[0m         \u001b[1;32mtry\u001b[0m\u001b[1;33m:\u001b[0m\u001b[1;33m\u001b[0m\u001b[1;33m\u001b[0m\u001b[0m\n\u001b[1;32m--> 528\u001b[1;33m             \u001b[0mstart\u001b[0m\u001b[1;33m,\u001b[0m \u001b[0mstart_index\u001b[0m\u001b[1;33m,\u001b[0m \u001b[0mstart_oos\u001b[0m \u001b[1;33m=\u001b[0m \u001b[0mself\u001b[0m\u001b[1;33m.\u001b[0m\u001b[0m_get_index_label_loc\u001b[0m\u001b[1;33m(\u001b[0m\u001b[0mstart\u001b[0m\u001b[1;33m)\u001b[0m\u001b[1;33m\u001b[0m\u001b[1;33m\u001b[0m\u001b[0m\n\u001b[0m\u001b[0;32m    529\u001b[0m         \u001b[1;32mexcept\u001b[0m \u001b[0mKeyError\u001b[0m\u001b[1;33m:\u001b[0m\u001b[1;33m\u001b[0m\u001b[1;33m\u001b[0m\u001b[0m\n\u001b[0;32m    530\u001b[0m             raise KeyError('The `start` argument could not be matched to a'\n",
      "\u001b[1;32mC:\\ProgramData\\Anaconda3\\lib\\site-packages\\statsmodels\\tsa\\base\\tsa_model.py\u001b[0m in \u001b[0;36m_get_index_label_loc\u001b[1;34m(self, key, base_index)\u001b[0m\n\u001b[0;32m    427\u001b[0m         \u001b[1;32mtry\u001b[0m\u001b[1;33m:\u001b[0m\u001b[1;33m\u001b[0m\u001b[1;33m\u001b[0m\u001b[0m\n\u001b[0;32m    428\u001b[0m             loc, index, index_was_expanded = (\n\u001b[1;32m--> 429\u001b[1;33m                 self._get_index_loc(key, base_index))\n\u001b[0m\u001b[0;32m    430\u001b[0m         \u001b[1;32mexcept\u001b[0m \u001b[0mKeyError\u001b[0m \u001b[1;32mas\u001b[0m \u001b[0me\u001b[0m\u001b[1;33m:\u001b[0m\u001b[1;33m\u001b[0m\u001b[1;33m\u001b[0m\u001b[0m\n\u001b[0;32m    431\u001b[0m             \u001b[1;32mtry\u001b[0m\u001b[1;33m:\u001b[0m\u001b[1;33m\u001b[0m\u001b[1;33m\u001b[0m\u001b[0m\n",
      "\u001b[1;32mC:\\ProgramData\\Anaconda3\\lib\\site-packages\\statsmodels\\tsa\\base\\tsa_model.py\u001b[0m in \u001b[0;36m_get_index_loc\u001b[1;34m(self, key, base_index)\u001b[0m\n\u001b[0;32m    340\u001b[0m                     \u001b[0mdate_key\u001b[0m \u001b[1;33m=\u001b[0m \u001b[0mPeriod\u001b[0m\u001b[1;33m(\u001b[0m\u001b[0mkey\u001b[0m\u001b[1;33m,\u001b[0m \u001b[0mfreq\u001b[0m\u001b[1;33m=\u001b[0m\u001b[0mbase_index\u001b[0m\u001b[1;33m.\u001b[0m\u001b[0mfreq\u001b[0m\u001b[1;33m)\u001b[0m\u001b[1;33m\u001b[0m\u001b[1;33m\u001b[0m\u001b[0m\n\u001b[0;32m    341\u001b[0m                 \u001b[1;32melse\u001b[0m\u001b[1;33m:\u001b[0m\u001b[1;33m\u001b[0m\u001b[1;33m\u001b[0m\u001b[0m\n\u001b[1;32m--> 342\u001b[1;33m                     \u001b[0mdate_key\u001b[0m \u001b[1;33m=\u001b[0m \u001b[0mTimestamp\u001b[0m\u001b[1;33m(\u001b[0m\u001b[0mkey\u001b[0m\u001b[1;33m,\u001b[0m \u001b[0mfreq\u001b[0m\u001b[1;33m=\u001b[0m\u001b[0mbase_index\u001b[0m\u001b[1;33m.\u001b[0m\u001b[0mfreq\u001b[0m\u001b[1;33m)\u001b[0m\u001b[1;33m\u001b[0m\u001b[1;33m\u001b[0m\u001b[0m\n\u001b[0m\u001b[0;32m    343\u001b[0m \u001b[1;33m\u001b[0m\u001b[0m\n\u001b[0;32m    344\u001b[0m                 \u001b[1;31m# Out-of-sample\u001b[0m\u001b[1;33m\u001b[0m\u001b[1;33m\u001b[0m\u001b[1;33m\u001b[0m\u001b[0m\n",
      "\u001b[1;32mpandas\\_libs\\tslibs\\timestamps.pyx\u001b[0m in \u001b[0;36mpandas._libs.tslibs.timestamps.Timestamp.__new__\u001b[1;34m()\u001b[0m\n",
      "\u001b[1;32mpandas\\_libs\\tslibs\\conversion.pyx\u001b[0m in \u001b[0;36mpandas._libs.tslibs.conversion.convert_to_tsobject\u001b[1;34m()\u001b[0m\n",
      "\u001b[1;31mTypeError\u001b[0m: Cannot convert input [0       2021-07-01\n1       2021-07-02\n2       2021-07-03\n3       2021-07-04\n4       2021-07-05\n           ...    \n91995   2021-12-27\n91996   2021-12-28\n91997   2021-12-29\n91998   2021-12-30\n91999   2021-12-31\nName: Date, Length: 92000, dtype: datetime64[ns]] of type <class 'pandas.core.series.Series'> to Timestamp"
     ]
    }
   ],
   "source": [
    "pred = results.get_prediction(test.Date, dynamic=False)\n",
    "# pred_ci = pred.conf_int()\n",
    "# ax = y['2017':].plot(label='observed')\n",
    "# pred.predicted_mean.plot(ax=ax, label='One-step ahead Forecast', alpha=.7, figsize=(14, 7))\n",
    "# ax.fill_between(pred_ci.index,\n",
    "#                 pred_ci.iloc[:, 0],\n",
    "#                 pred_ci.iloc[:, 1], color='k', alpha=.2)\n",
    "# ax.set_xlabel('Date')\n",
    "# ax.set_ylabel('Sales')\n",
    "# plt.legend()\n",
    "# plt.show()"
   ]
  },
  {
   "cell_type": "code",
   "execution_count": null,
   "id": "b13e8610",
   "metadata": {},
   "outputs": [],
   "source": []
  }
 ],
 "metadata": {
  "kernelspec": {
   "display_name": "Python 3",
   "language": "python",
   "name": "python3"
  },
  "language_info": {
   "codemirror_mode": {
    "name": "ipython",
    "version": 3
   },
   "file_extension": ".py",
   "mimetype": "text/x-python",
   "name": "python",
   "nbconvert_exporter": "python",
   "pygments_lexer": "ipython3",
   "version": "3.8.8"
  }
 },
 "nbformat": 4,
 "nbformat_minor": 5
}
