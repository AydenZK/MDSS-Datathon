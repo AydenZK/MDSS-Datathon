{
 "cells": [
  {
   "cell_type": "code",
   "execution_count": 33,
   "source": [
    "import numpy as np\r\n",
    "import pandas as pd"
   ],
   "outputs": [],
   "metadata": {}
  },
  {
   "cell_type": "code",
   "execution_count": 34,
   "source": [
    "import matplotlib.pyplot as plt\r\n",
    "%matplotlib inline\r\n",
    "from matplotlib import rcParams\r\n",
    "rcParams['figure.figsize'] = 10, 6\r\n",
    "from sklearn import preprocessing"
   ],
   "outputs": [],
   "metadata": {}
  },
  {
   "cell_type": "code",
   "execution_count": 35,
   "source": [
    "train = pd.read_csv(\"data/train_advanced.csv\")\r\n",
    "test = pd.read_csv(\"data/test_advanced.csv\")\r\n",
    "sample = pd.read_csv(\"data/sample_submission.csv\")"
   ],
   "outputs": [],
   "metadata": {}
  },
  {
   "cell_type": "markdown",
   "source": [
    "# Exploratory Data Analysis"
   ],
   "metadata": {}
  },
  {
   "cell_type": "code",
   "execution_count": 38,
   "source": [
    "train = train.drop(columns=['Location', 'Category', 'Branding'])"
   ],
   "outputs": [],
   "metadata": {}
  },
  {
   "cell_type": "code",
   "execution_count": 39,
   "source": [
    "train.head()"
   ],
   "outputs": [
    {
     "output_type": "execute_result",
     "data": {
      "text/html": [
       "<div>\n",
       "<style scoped>\n",
       "    .dataframe tbody tr th:only-of-type {\n",
       "        vertical-align: middle;\n",
       "    }\n",
       "\n",
       "    .dataframe tbody tr th {\n",
       "        vertical-align: top;\n",
       "    }\n",
       "\n",
       "    .dataframe thead th {\n",
       "        text-align: right;\n",
       "    }\n",
       "</style>\n",
       "<table border=\"1\" class=\"dataframe\">\n",
       "  <thead>\n",
       "    <tr style=\"text-align: right;\">\n",
       "      <th></th>\n",
       "      <th>Date</th>\n",
       "      <th>Store</th>\n",
       "      <th>Item</th>\n",
       "      <th>Sales</th>\n",
       "      <th>Average Rating</th>\n",
       "    </tr>\n",
       "  </thead>\n",
       "  <tbody>\n",
       "    <tr>\n",
       "      <th>0</th>\n",
       "      <td>1/1/2017</td>\n",
       "      <td>KMart</td>\n",
       "      <td>1</td>\n",
       "      <td>13</td>\n",
       "      <td>2.8</td>\n",
       "    </tr>\n",
       "    <tr>\n",
       "      <th>1</th>\n",
       "      <td>1/2/2017</td>\n",
       "      <td>KMart</td>\n",
       "      <td>1</td>\n",
       "      <td>11</td>\n",
       "      <td>1.4</td>\n",
       "    </tr>\n",
       "    <tr>\n",
       "      <th>2</th>\n",
       "      <td>1/3/2017</td>\n",
       "      <td>KMart</td>\n",
       "      <td>1</td>\n",
       "      <td>14</td>\n",
       "      <td>1.8</td>\n",
       "    </tr>\n",
       "    <tr>\n",
       "      <th>3</th>\n",
       "      <td>1/4/2017</td>\n",
       "      <td>KMart</td>\n",
       "      <td>1</td>\n",
       "      <td>13</td>\n",
       "      <td>1.3</td>\n",
       "    </tr>\n",
       "    <tr>\n",
       "      <th>4</th>\n",
       "      <td>1/5/2017</td>\n",
       "      <td>KMart</td>\n",
       "      <td>1</td>\n",
       "      <td>10</td>\n",
       "      <td>2.9</td>\n",
       "    </tr>\n",
       "  </tbody>\n",
       "</table>\n",
       "</div>"
      ],
      "text/plain": [
       "       Date  Store  Item  Sales  Average Rating\n",
       "0  1/1/2017  KMart     1     13             2.8\n",
       "1  1/2/2017  KMart     1     11             1.4\n",
       "2  1/3/2017  KMart     1     14             1.8\n",
       "3  1/4/2017  KMart     1     13             1.3\n",
       "4  1/5/2017  KMart     1     10             2.9"
      ]
     },
     "metadata": {},
     "execution_count": 39
    }
   ],
   "metadata": {
    "scrolled": false
   }
  },
  {
   "cell_type": "code",
   "execution_count": 40,
   "source": [
    "train.info()"
   ],
   "outputs": [
    {
     "output_type": "stream",
     "name": "stdout",
     "text": [
      "<class 'pandas.core.frame.DataFrame'>\n",
      "RangeIndex: 821000 entries, 0 to 820999\n",
      "Data columns (total 5 columns):\n",
      " #   Column          Non-Null Count   Dtype  \n",
      "---  ------          --------------   -----  \n",
      " 0   Date            821000 non-null  object \n",
      " 1   Store           821000 non-null  object \n",
      " 2   Item            821000 non-null  int64  \n",
      " 3   Sales           821000 non-null  int64  \n",
      " 4   Average Rating  821000 non-null  float64\n",
      "dtypes: float64(1), int64(2), object(2)\n",
      "memory usage: 31.3+ MB\n"
     ]
    }
   ],
   "metadata": {}
  },
  {
   "cell_type": "markdown",
   "source": [
    "## Date"
   ],
   "metadata": {}
  },
  {
   "cell_type": "code",
   "execution_count": 41,
   "source": [
    "train.Date=pd.to_datetime(train.Date,format='%m/%d/%Y')\r\n",
    "train.Date.dtypes\r\n",
    "train.Date.unique()"
   ],
   "outputs": [
    {
     "output_type": "execute_result",
     "data": {
      "text/plain": [
       "array(['2017-01-01T00:00:00.000000000', '2017-01-02T00:00:00.000000000',\n",
       "       '2017-01-03T00:00:00.000000000', ...,\n",
       "       '2021-06-28T00:00:00.000000000', '2021-06-29T00:00:00.000000000',\n",
       "       '2021-06-30T00:00:00.000000000'], dtype='datetime64[ns]')"
      ]
     },
     "metadata": {},
     "execution_count": 41
    }
   ],
   "metadata": {}
  },
  {
   "cell_type": "code",
   "execution_count": 42,
   "source": [
    "train['year'] = pd.DatetimeIndex(train['Date']).year\r\n",
    "train['month'] = pd.DatetimeIndex(train['Date']).month\r\n",
    "train['day'] = pd.DatetimeIndex(train['Date']).day"
   ],
   "outputs": [],
   "metadata": {}
  },
  {
   "cell_type": "code",
   "execution_count": 43,
   "source": [
    "len(train[train[\"year\"]==2017])"
   ],
   "outputs": [
    {
     "output_type": "execute_result",
     "data": {
      "text/plain": [
       "182500"
      ]
     },
     "metadata": {},
     "execution_count": 43
    }
   ],
   "metadata": {}
  },
  {
   "cell_type": "code",
   "execution_count": 44,
   "source": [
    "train.head()"
   ],
   "outputs": [
    {
     "output_type": "execute_result",
     "data": {
      "text/html": [
       "<div>\n",
       "<style scoped>\n",
       "    .dataframe tbody tr th:only-of-type {\n",
       "        vertical-align: middle;\n",
       "    }\n",
       "\n",
       "    .dataframe tbody tr th {\n",
       "        vertical-align: top;\n",
       "    }\n",
       "\n",
       "    .dataframe thead th {\n",
       "        text-align: right;\n",
       "    }\n",
       "</style>\n",
       "<table border=\"1\" class=\"dataframe\">\n",
       "  <thead>\n",
       "    <tr style=\"text-align: right;\">\n",
       "      <th></th>\n",
       "      <th>Date</th>\n",
       "      <th>Store</th>\n",
       "      <th>Item</th>\n",
       "      <th>Sales</th>\n",
       "      <th>Average Rating</th>\n",
       "      <th>year</th>\n",
       "      <th>month</th>\n",
       "      <th>day</th>\n",
       "    </tr>\n",
       "  </thead>\n",
       "  <tbody>\n",
       "    <tr>\n",
       "      <th>0</th>\n",
       "      <td>2017-01-01</td>\n",
       "      <td>KMart</td>\n",
       "      <td>1</td>\n",
       "      <td>13</td>\n",
       "      <td>2.8</td>\n",
       "      <td>2017</td>\n",
       "      <td>1</td>\n",
       "      <td>1</td>\n",
       "    </tr>\n",
       "    <tr>\n",
       "      <th>1</th>\n",
       "      <td>2017-01-02</td>\n",
       "      <td>KMart</td>\n",
       "      <td>1</td>\n",
       "      <td>11</td>\n",
       "      <td>1.4</td>\n",
       "      <td>2017</td>\n",
       "      <td>1</td>\n",
       "      <td>2</td>\n",
       "    </tr>\n",
       "    <tr>\n",
       "      <th>2</th>\n",
       "      <td>2017-01-03</td>\n",
       "      <td>KMart</td>\n",
       "      <td>1</td>\n",
       "      <td>14</td>\n",
       "      <td>1.8</td>\n",
       "      <td>2017</td>\n",
       "      <td>1</td>\n",
       "      <td>3</td>\n",
       "    </tr>\n",
       "    <tr>\n",
       "      <th>3</th>\n",
       "      <td>2017-01-04</td>\n",
       "      <td>KMart</td>\n",
       "      <td>1</td>\n",
       "      <td>13</td>\n",
       "      <td>1.3</td>\n",
       "      <td>2017</td>\n",
       "      <td>1</td>\n",
       "      <td>4</td>\n",
       "    </tr>\n",
       "    <tr>\n",
       "      <th>4</th>\n",
       "      <td>2017-01-05</td>\n",
       "      <td>KMart</td>\n",
       "      <td>1</td>\n",
       "      <td>10</td>\n",
       "      <td>2.9</td>\n",
       "      <td>2017</td>\n",
       "      <td>1</td>\n",
       "      <td>5</td>\n",
       "    </tr>\n",
       "  </tbody>\n",
       "</table>\n",
       "</div>"
      ],
      "text/plain": [
       "        Date  Store  Item  Sales  Average Rating  year  month  day\n",
       "0 2017-01-01  KMart     1     13             2.8  2017      1    1\n",
       "1 2017-01-02  KMart     1     11             1.4  2017      1    2\n",
       "2 2017-01-03  KMart     1     14             1.8  2017      1    3\n",
       "3 2017-01-04  KMart     1     13             1.3  2017      1    4\n",
       "4 2017-01-05  KMart     1     10             2.9  2017      1    5"
      ]
     },
     "metadata": {},
     "execution_count": 44
    }
   ],
   "metadata": {}
  },
  {
   "cell_type": "code",
   "execution_count": 47,
   "source": [
    "train.Store.unique()"
   ],
   "outputs": [
    {
     "output_type": "execute_result",
     "data": {
      "text/plain": [
       "array(['KMart', 'Target', 'Coles', 'Woolies', 'BigW', 'Aldi',\n",
       "       'Asian SuperMart', 'Big Savers', 'Costco', 'SupaIGA'], dtype=object)"
      ]
     },
     "metadata": {},
     "execution_count": 47
    }
   ],
   "metadata": {}
  },
  {
   "cell_type": "code",
   "execution_count": 18,
   "source": [
    "# one hot encoding for store\r\n",
    "train_storedummy=pd.get_dummies(train.Store,prefix=\"Store\")\r\n",
    "train=pd.concat([train,train_storedummy],axis=1)\r\n",
    "train=train.drop(columns=[\"Store\"])"
   ],
   "outputs": [],
   "metadata": {}
  },
  {
   "cell_type": "code",
   "execution_count": 56,
   "source": [
    "train = train.set_index([\"Date\"])\r\n",
    "train"
   ],
   "outputs": [
    {
     "output_type": "execute_result",
     "data": {
      "text/html": [
       "<div>\n",
       "<style scoped>\n",
       "    .dataframe tbody tr th:only-of-type {\n",
       "        vertical-align: middle;\n",
       "    }\n",
       "\n",
       "    .dataframe tbody tr th {\n",
       "        vertical-align: top;\n",
       "    }\n",
       "\n",
       "    .dataframe thead th {\n",
       "        text-align: right;\n",
       "    }\n",
       "</style>\n",
       "<table border=\"1\" class=\"dataframe\">\n",
       "  <thead>\n",
       "    <tr style=\"text-align: right;\">\n",
       "      <th></th>\n",
       "      <th>Store</th>\n",
       "      <th>Item</th>\n",
       "      <th>Sales</th>\n",
       "      <th>Average Rating</th>\n",
       "      <th>year</th>\n",
       "      <th>month</th>\n",
       "      <th>day</th>\n",
       "    </tr>\n",
       "    <tr>\n",
       "      <th>Date</th>\n",
       "      <th></th>\n",
       "      <th></th>\n",
       "      <th></th>\n",
       "      <th></th>\n",
       "      <th></th>\n",
       "      <th></th>\n",
       "      <th></th>\n",
       "    </tr>\n",
       "  </thead>\n",
       "  <tbody>\n",
       "    <tr>\n",
       "      <th>2017-01-01</th>\n",
       "      <td>KMart</td>\n",
       "      <td>1</td>\n",
       "      <td>13</td>\n",
       "      <td>2.8</td>\n",
       "      <td>2017</td>\n",
       "      <td>1</td>\n",
       "      <td>1</td>\n",
       "    </tr>\n",
       "    <tr>\n",
       "      <th>2017-01-02</th>\n",
       "      <td>KMart</td>\n",
       "      <td>1</td>\n",
       "      <td>11</td>\n",
       "      <td>1.4</td>\n",
       "      <td>2017</td>\n",
       "      <td>1</td>\n",
       "      <td>2</td>\n",
       "    </tr>\n",
       "    <tr>\n",
       "      <th>2017-01-03</th>\n",
       "      <td>KMart</td>\n",
       "      <td>1</td>\n",
       "      <td>14</td>\n",
       "      <td>1.8</td>\n",
       "      <td>2017</td>\n",
       "      <td>1</td>\n",
       "      <td>3</td>\n",
       "    </tr>\n",
       "    <tr>\n",
       "      <th>2017-01-04</th>\n",
       "      <td>KMart</td>\n",
       "      <td>1</td>\n",
       "      <td>13</td>\n",
       "      <td>1.3</td>\n",
       "      <td>2017</td>\n",
       "      <td>1</td>\n",
       "      <td>4</td>\n",
       "    </tr>\n",
       "    <tr>\n",
       "      <th>2017-01-05</th>\n",
       "      <td>KMart</td>\n",
       "      <td>1</td>\n",
       "      <td>10</td>\n",
       "      <td>2.9</td>\n",
       "      <td>2017</td>\n",
       "      <td>1</td>\n",
       "      <td>5</td>\n",
       "    </tr>\n",
       "    <tr>\n",
       "      <th>...</th>\n",
       "      <td>...</td>\n",
       "      <td>...</td>\n",
       "      <td>...</td>\n",
       "      <td>...</td>\n",
       "      <td>...</td>\n",
       "      <td>...</td>\n",
       "      <td>...</td>\n",
       "    </tr>\n",
       "    <tr>\n",
       "      <th>2021-06-26</th>\n",
       "      <td>SupaIGA</td>\n",
       "      <td>50</td>\n",
       "      <td>82</td>\n",
       "      <td>0.4</td>\n",
       "      <td>2021</td>\n",
       "      <td>6</td>\n",
       "      <td>26</td>\n",
       "    </tr>\n",
       "    <tr>\n",
       "      <th>2021-06-27</th>\n",
       "      <td>SupaIGA</td>\n",
       "      <td>50</td>\n",
       "      <td>83</td>\n",
       "      <td>0.8</td>\n",
       "      <td>2021</td>\n",
       "      <td>6</td>\n",
       "      <td>27</td>\n",
       "    </tr>\n",
       "    <tr>\n",
       "      <th>2021-06-28</th>\n",
       "      <td>SupaIGA</td>\n",
       "      <td>50</td>\n",
       "      <td>91</td>\n",
       "      <td>2.0</td>\n",
       "      <td>2021</td>\n",
       "      <td>6</td>\n",
       "      <td>28</td>\n",
       "    </tr>\n",
       "    <tr>\n",
       "      <th>2021-06-29</th>\n",
       "      <td>SupaIGA</td>\n",
       "      <td>50</td>\n",
       "      <td>122</td>\n",
       "      <td>1.9</td>\n",
       "      <td>2021</td>\n",
       "      <td>6</td>\n",
       "      <td>29</td>\n",
       "    </tr>\n",
       "    <tr>\n",
       "      <th>2021-06-30</th>\n",
       "      <td>SupaIGA</td>\n",
       "      <td>50</td>\n",
       "      <td>112</td>\n",
       "      <td>1.7</td>\n",
       "      <td>2021</td>\n",
       "      <td>6</td>\n",
       "      <td>30</td>\n",
       "    </tr>\n",
       "  </tbody>\n",
       "</table>\n",
       "<p>821000 rows × 7 columns</p>\n",
       "</div>"
      ],
      "text/plain": [
       "              Store  Item  Sales  Average Rating  year  month  day\n",
       "Date                                                              \n",
       "2017-01-01    KMart     1     13             2.8  2017      1    1\n",
       "2017-01-02    KMart     1     11             1.4  2017      1    2\n",
       "2017-01-03    KMart     1     14             1.8  2017      1    3\n",
       "2017-01-04    KMart     1     13             1.3  2017      1    4\n",
       "2017-01-05    KMart     1     10             2.9  2017      1    5\n",
       "...             ...   ...    ...             ...   ...    ...  ...\n",
       "2021-06-26  SupaIGA    50     82             0.4  2021      6   26\n",
       "2021-06-27  SupaIGA    50     83             0.8  2021      6   27\n",
       "2021-06-28  SupaIGA    50     91             2.0  2021      6   28\n",
       "2021-06-29  SupaIGA    50    122             1.9  2021      6   29\n",
       "2021-06-30  SupaIGA    50    112             1.7  2021      6   30\n",
       "\n",
       "[821000 rows x 7 columns]"
      ]
     },
     "metadata": {},
     "execution_count": 56
    }
   ],
   "metadata": {}
  },
  {
   "cell_type": "code",
   "execution_count": 57,
   "source": [
    "grouped_items = train.groupby(train.Item)\r\n",
    "\r\n",
    "items = range(1, 51)\r\n",
    "\r\n",
    "dataframes = {}\r\n",
    "\r\n",
    "for item in items:\r\n",
    "    dataframes[item] = grouped_items.get_group(item)\r\n",
    "\r\n",
    "dfs = {}\r\n",
    "\r\n",
    "for item in items:\r\n",
    "    \r\n",
    "    df = dataframes[item]\r\n",
    "    \r\n",
    "    grouped_location = df.groupby(df.Store)\r\n",
    "    \r\n",
    "    dfs[item] = {}\r\n",
    "    for store in train.Store.unique():\r\n",
    "        dfs[item][store] = grouped_location.get_group(store)\r\n",
    "\r\n",
    "      \r\n",
    "dfs[2][\"Coles\"]"
   ],
   "outputs": [
    {
     "output_type": "execute_result",
     "data": {
      "text/html": [
       "<div>\n",
       "<style scoped>\n",
       "    .dataframe tbody tr th:only-of-type {\n",
       "        vertical-align: middle;\n",
       "    }\n",
       "\n",
       "    .dataframe tbody tr th {\n",
       "        vertical-align: top;\n",
       "    }\n",
       "\n",
       "    .dataframe thead th {\n",
       "        text-align: right;\n",
       "    }\n",
       "</style>\n",
       "<table border=\"1\" class=\"dataframe\">\n",
       "  <thead>\n",
       "    <tr style=\"text-align: right;\">\n",
       "      <th></th>\n",
       "      <th>Store</th>\n",
       "      <th>Item</th>\n",
       "      <th>Sales</th>\n",
       "      <th>Average Rating</th>\n",
       "      <th>year</th>\n",
       "      <th>month</th>\n",
       "      <th>day</th>\n",
       "    </tr>\n",
       "    <tr>\n",
       "      <th>Date</th>\n",
       "      <th></th>\n",
       "      <th></th>\n",
       "      <th></th>\n",
       "      <th></th>\n",
       "      <th></th>\n",
       "      <th></th>\n",
       "      <th></th>\n",
       "    </tr>\n",
       "  </thead>\n",
       "  <tbody>\n",
       "    <tr>\n",
       "      <th>2017-01-01</th>\n",
       "      <td>Coles</td>\n",
       "      <td>2</td>\n",
       "      <td>43</td>\n",
       "      <td>3.1</td>\n",
       "      <td>2017</td>\n",
       "      <td>1</td>\n",
       "      <td>1</td>\n",
       "    </tr>\n",
       "    <tr>\n",
       "      <th>2017-01-02</th>\n",
       "      <td>Coles</td>\n",
       "      <td>2</td>\n",
       "      <td>27</td>\n",
       "      <td>3.1</td>\n",
       "      <td>2017</td>\n",
       "      <td>1</td>\n",
       "      <td>2</td>\n",
       "    </tr>\n",
       "    <tr>\n",
       "      <th>2017-01-03</th>\n",
       "      <td>Coles</td>\n",
       "      <td>2</td>\n",
       "      <td>38</td>\n",
       "      <td>3.1</td>\n",
       "      <td>2017</td>\n",
       "      <td>1</td>\n",
       "      <td>3</td>\n",
       "    </tr>\n",
       "    <tr>\n",
       "      <th>2017-01-04</th>\n",
       "      <td>Coles</td>\n",
       "      <td>2</td>\n",
       "      <td>35</td>\n",
       "      <td>3.1</td>\n",
       "      <td>2017</td>\n",
       "      <td>1</td>\n",
       "      <td>4</td>\n",
       "    </tr>\n",
       "    <tr>\n",
       "      <th>2017-01-05</th>\n",
       "      <td>Coles</td>\n",
       "      <td>2</td>\n",
       "      <td>47</td>\n",
       "      <td>3.1</td>\n",
       "      <td>2017</td>\n",
       "      <td>1</td>\n",
       "      <td>5</td>\n",
       "    </tr>\n",
       "    <tr>\n",
       "      <th>...</th>\n",
       "      <td>...</td>\n",
       "      <td>...</td>\n",
       "      <td>...</td>\n",
       "      <td>...</td>\n",
       "      <td>...</td>\n",
       "      <td>...</td>\n",
       "      <td>...</td>\n",
       "    </tr>\n",
       "    <tr>\n",
       "      <th>2021-06-26</th>\n",
       "      <td>Coles</td>\n",
       "      <td>2</td>\n",
       "      <td>79</td>\n",
       "      <td>3.1</td>\n",
       "      <td>2021</td>\n",
       "      <td>6</td>\n",
       "      <td>26</td>\n",
       "    </tr>\n",
       "    <tr>\n",
       "      <th>2021-06-27</th>\n",
       "      <td>Coles</td>\n",
       "      <td>2</td>\n",
       "      <td>80</td>\n",
       "      <td>3.1</td>\n",
       "      <td>2021</td>\n",
       "      <td>6</td>\n",
       "      <td>27</td>\n",
       "    </tr>\n",
       "    <tr>\n",
       "      <th>2021-06-28</th>\n",
       "      <td>Coles</td>\n",
       "      <td>2</td>\n",
       "      <td>90</td>\n",
       "      <td>3.1</td>\n",
       "      <td>2021</td>\n",
       "      <td>6</td>\n",
       "      <td>28</td>\n",
       "    </tr>\n",
       "    <tr>\n",
       "      <th>2021-06-29</th>\n",
       "      <td>Coles</td>\n",
       "      <td>2</td>\n",
       "      <td>102</td>\n",
       "      <td>3.1</td>\n",
       "      <td>2021</td>\n",
       "      <td>6</td>\n",
       "      <td>29</td>\n",
       "    </tr>\n",
       "    <tr>\n",
       "      <th>2021-06-30</th>\n",
       "      <td>Coles</td>\n",
       "      <td>2</td>\n",
       "      <td>99</td>\n",
       "      <td>3.1</td>\n",
       "      <td>2021</td>\n",
       "      <td>6</td>\n",
       "      <td>30</td>\n",
       "    </tr>\n",
       "  </tbody>\n",
       "</table>\n",
       "<p>1642 rows × 7 columns</p>\n",
       "</div>"
      ],
      "text/plain": [
       "            Store  Item  Sales  Average Rating  year  month  day\n",
       "Date                                                            \n",
       "2017-01-01  Coles     2     43             3.1  2017      1    1\n",
       "2017-01-02  Coles     2     27             3.1  2017      1    2\n",
       "2017-01-03  Coles     2     38             3.1  2017      1    3\n",
       "2017-01-04  Coles     2     35             3.1  2017      1    4\n",
       "2017-01-05  Coles     2     47             3.1  2017      1    5\n",
       "...           ...   ...    ...             ...   ...    ...  ...\n",
       "2021-06-26  Coles     2     79             3.1  2021      6   26\n",
       "2021-06-27  Coles     2     80             3.1  2021      6   27\n",
       "2021-06-28  Coles     2     90             3.1  2021      6   28\n",
       "2021-06-29  Coles     2    102             3.1  2021      6   29\n",
       "2021-06-30  Coles     2     99             3.1  2021      6   30\n",
       "\n",
       "[1642 rows x 7 columns]"
      ]
     },
     "metadata": {},
     "execution_count": 57
    }
   ],
   "metadata": {}
  },
  {
   "cell_type": "code",
   "execution_count": 63,
   "source": [
    "\r\n",
    "import seaborn as sns\r\n",
    "\r\n",
    "dfs[16][\"Aldi\"].Sales.resample('MS').mean().plot() # MS implies Month Starting\r\n",
    "\r\n",
    "ty = dfs[16][\"Aldi\"].Sales.resample('MS').mean()\r\n"
   ],
   "outputs": [
    {
     "output_type": "display_data",
     "data": {
      "image/png": "[encoded data removed]",
      "text/plain": [
       "<Figure size 720x432 with 1 Axes>"
      ]
     },
     "metadata": {
      "needs_background": "light"
     }
    }
   ],
   "metadata": {}
  },
  {
   "cell_type": "markdown",
   "source": [
    "# ARIMA"
   ],
   "metadata": {}
  },
  {
   "cell_type": "code",
   "execution_count": 104,
   "source": [
    "# Param optimisation\r\n",
    "\r\n",
    "import statsmodels.api as sm\r\n",
    "import itertools\r\n",
    "import math\r\n",
    "\r\n",
    "ty = dfs[1][\"Coles\"].Sales.resample('MS').mean()\r\n",
    "\r\n",
    "# p = d = q = range(0, 2)\r\n",
    "# pdq = list(itertools.product(p, d, q))\r\n",
    "# seasonal_pdq = [(x[0], x[1], x[2], 12) for x in list(itertools.product(p, d, q))]\r\n",
    "\r\n",
    "# lowest = {\"order\": (0,0,0), \"param_seasonal\": (0,0,0,12), \"AIC\": math.inf}\r\n",
    "# for order in pdq:\r\n",
    "#     for param_seasonal in seasonal_pdq:\r\n",
    "#         try:\r\n",
    "#             mod = sm.tsa.statespace.SARIMAX(ty,order=order,seasonal_order=param_seasonal,enforce_stationarity=False,enforce_invertibility=False)\r\n",
    "#             results = mod.fit()\r\n",
    "#             if results.aic < lowest[\"AIC\"]:\r\n",
    "#                 lowest[\"order\"] = order\r\n",
    "#                 lowest[\"param_seasonal\"] = param_seasonal\r\n",
    "#                 lowest[\"AIC\"] = results.aic\r\n",
    "#         except:\r\n",
    "#             continue\r\n",
    "\r\n",
    "# print(lowest)\r\n",
    "\r\n",
    "# mod = sm.tsa.statespace.SARIMAX(ty,\r\n",
    "#                                 order=lowest[\"order\"],\r\n",
    "#                                 seasonal_order=lowest[\"param_seasonal\"],\r\n",
    "#                                 enforce_stationarity=False,\r\n",
    "#                                 enforce_invertibility=False)\r\n",
    "\r\n",
    "mod = sm.tsa.statespace.SARIMAX(ty,\r\n",
    "                                order=(0,1,1),\r\n",
    "                                seasonal_order=(1, 1, 1, 12),\r\n",
    "                                enforce_stationarity=False,\r\n",
    "                                enforce_invertibility=False)\r\n",
    "results = mod.fit()"
   ],
   "outputs": [],
   "metadata": {}
  },
  {
   "cell_type": "code",
   "execution_count": 105,
   "source": [
    "mod = sm.tsa.statespace.SARIMAX(ty,\r\n",
    "                                order=lowest[\"order\"],\r\n",
    "                                seasonal_order=lowest[\"param_seasonal\"],\r\n",
    "                                enforce_stationarity=False,\r\n",
    "                                enforce_invertibility=False)\r\n",
    "results = mod.fit()\r\n",
    "# print(results.summary().tables[1])"
   ],
   "outputs": [],
   "metadata": {}
  },
  {
   "cell_type": "code",
   "execution_count": 67,
   "source": [
    "# results.plot_diagnostics(figsize=(16, 8))\r\n",
    "# plt.show()"
   ],
   "outputs": [
    {
     "output_type": "display_data",
     "data": {
      "image/png": "[encoded data removed]",
      "text/plain": [
       "<Figure size 1152x576 with 4 Axes>"
      ]
     },
     "metadata": {
      "needs_background": "light"
     }
    }
   ],
   "metadata": {}
  },
  {
   "cell_type": "code",
   "execution_count": 76,
   "source": [
    "# test.Date=pd.to_datetime(test.Date,format='%m/%d/%Y')"
   ],
   "outputs": [],
   "metadata": {}
  },
  {
   "cell_type": "code",
   "execution_count": 106,
   "source": [
    "test_y = test.groupby(test.Item).get_group(1).groupby(test.Store).get_group(\"Coles\").Date\r\n",
    "list(test_y)[0]\r\n",
    "list(test_y)[-1]"
   ],
   "outputs": [
    {
     "output_type": "execute_result",
     "data": {
      "text/plain": [
       "Timestamp('2021-12-31 00:00:00')"
      ]
     },
     "metadata": {},
     "execution_count": 106
    }
   ],
   "metadata": {}
  },
  {
   "cell_type": "code",
   "execution_count": 107,
   "source": [
    "pred = results.get_prediction(start=list(test_y)[0], end=list(test_y)[-1])\r\n",
    "# pred = results.get_prediction(test.groupby(test.Item).get_group(16).groupby(test.Store).get_group(\"Aldi\").Date, dynamic=False)\r\n",
    "pred.predicted_mean"
   ],
   "outputs": [
    {
     "output_type": "execute_result",
     "data": {
      "text/plain": [
       "2021-07-01    36.248312\n",
       "2021-08-01    32.730598\n",
       "2021-09-01    30.532939\n",
       "2021-10-01    28.187573\n",
       "2021-11-01    29.939002\n",
       "2021-12-01    22.976544\n",
       "2022-01-01    21.794667\n",
       "Freq: MS, Name: predicted_mean, dtype: float64"
      ]
     },
     "metadata": {},
     "execution_count": 107
    }
   ],
   "metadata": {}
  },
  {
   "cell_type": "code",
   "execution_count": 98,
   "source": [
    "pred.conf_int()"
   ],
   "outputs": [
    {
     "output_type": "execute_result",
     "data": {
      "text/html": [
       "<div>\n",
       "<style scoped>\n",
       "    .dataframe tbody tr th:only-of-type {\n",
       "        vertical-align: middle;\n",
       "    }\n",
       "\n",
       "    .dataframe tbody tr th {\n",
       "        vertical-align: top;\n",
       "    }\n",
       "\n",
       "    .dataframe thead th {\n",
       "        text-align: right;\n",
       "    }\n",
       "</style>\n",
       "<table border=\"1\" class=\"dataframe\">\n",
       "  <thead>\n",
       "    <tr style=\"text-align: right;\">\n",
       "      <th></th>\n",
       "      <th>lower Sales</th>\n",
       "      <th>upper Sales</th>\n",
       "    </tr>\n",
       "  </thead>\n",
       "  <tbody>\n",
       "    <tr>\n",
       "      <th>2021-07-01</th>\n",
       "      <td>27.186006</td>\n",
       "      <td>30.054715</td>\n",
       "    </tr>\n",
       "    <tr>\n",
       "      <th>2021-08-01</th>\n",
       "      <td>23.658247</td>\n",
       "      <td>26.526957</td>\n",
       "    </tr>\n",
       "    <tr>\n",
       "      <th>2021-09-01</th>\n",
       "      <td>21.837794</td>\n",
       "      <td>24.706504</td>\n",
       "    </tr>\n",
       "    <tr>\n",
       "      <th>2021-10-01</th>\n",
       "      <td>20.250357</td>\n",
       "      <td>23.119066</td>\n",
       "    </tr>\n",
       "    <tr>\n",
       "      <th>2021-11-01</th>\n",
       "      <td>21.509032</td>\n",
       "      <td>24.377741</td>\n",
       "    </tr>\n",
       "    <tr>\n",
       "      <th>2021-12-01</th>\n",
       "      <td>16.031603</td>\n",
       "      <td>18.900312</td>\n",
       "    </tr>\n",
       "    <tr>\n",
       "      <th>2022-01-01</th>\n",
       "      <td>15.837876</td>\n",
       "      <td>18.710139</td>\n",
       "    </tr>\n",
       "  </tbody>\n",
       "</table>\n",
       "</div>"
      ],
      "text/plain": [
       "            lower Sales  upper Sales\n",
       "2021-07-01    27.186006    30.054715\n",
       "2021-08-01    23.658247    26.526957\n",
       "2021-09-01    21.837794    24.706504\n",
       "2021-10-01    20.250357    23.119066\n",
       "2021-11-01    21.509032    24.377741\n",
       "2021-12-01    16.031603    18.900312\n",
       "2022-01-01    15.837876    18.710139"
      ]
     },
     "metadata": {},
     "execution_count": 98
    }
   ],
   "metadata": {}
  },
  {
   "cell_type": "code",
   "execution_count": null,
   "source": [],
   "outputs": [],
   "metadata": {}
  }
 ],
 "metadata": {
  "kernelspec": {
   "name": "python3",
   "display_name": "Python 3.8.5 64-bit"
  },
  "language_info": {
   "codemirror_mode": {
    "name": "ipython",
    "version": 3
   },
   "file_extension": ".py",
   "mimetype": "text/x-python",
   "name": "python",
   "nbconvert_exporter": "python",
   "pygments_lexer": "ipython3",
   "version": "3.8.5"
  },
  "interpreter": {
   "hash": "11985149111458dfeecbde132917ce1777c8ec46976e6c8b18a85387df8e52b7"
  }
 },
 "nbformat": 4,
 "nbformat_minor": 5
}