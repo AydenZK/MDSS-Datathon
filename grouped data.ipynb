{
 "cells": [
  {
   "cell_type": "code",
   "execution_count": 1,
   "id": "c0387ec9",
   "metadata": {},
   "outputs": [],
   "source": [
    "import numpy as np\n",
    "import pandas as pd"
   ]
  },
  {
   "cell_type": "code",
   "execution_count": 2,
   "id": "247fa3a9",
   "metadata": {},
   "outputs": [],
   "source": [
    "import matplotlib.pyplot as plt\n",
    "%matplotlib inline\n",
    "from matplotlib import rcParams\n",
    "rcParams['figure.figsize'] = 10, 6\n",
    "from sklearn import preprocessing"
   ]
  },
  {
   "cell_type": "code",
   "execution_count": 3,
   "id": "c82205d2",
   "metadata": {},
   "outputs": [],
   "source": [
    "train = pd.read_csv(\"data/train_advanced.csv\")\n",
    "test = pd.read_csv(\"data/test_advanced.csv\")\n",
    "sample = pd.read_csv(\"data/sample_submission.csv\")"
   ]
  },
  {
   "cell_type": "markdown",
   "id": "175b019b",
   "metadata": {},
   "source": [
    "# Wrangling"
   ]
  },
  {
   "cell_type": "code",
   "execution_count": 4,
   "id": "b0a45125",
   "metadata": {},
   "outputs": [
    {
     "data": {
      "text/plain": [
       "array(['Wheelers Hill VIC 3170', 'Preston,\\xa0VIC,\\xa03072',\n",
       "       'South Melbourne,\\xa0VIC\\xa03205',\n",
       "       'Keysborough, VIC, 3173, Australia', 'Mulgrave\\xa0VIC\\xa03170',\n",
       "       'Dandenong, VIC, 3175, Australia',\n",
       "       'Springvale, VIC, 3171, Australia', 'Ringwood VIC 3134',\n",
       "       ' Epping VIC 3076', 'Mulgrave VIC 3170', nan], dtype=object)"
      ]
     },
     "execution_count": 4,
     "metadata": {},
     "output_type": "execute_result"
    }
   ],
   "source": [
    "train['Location'].unique()"
   ]
  },
  {
   "cell_type": "code",
   "execution_count": 5,
   "id": "85cdd346",
   "metadata": {},
   "outputs": [],
   "source": [
    "def changeLoc(x,y,CHANGE):\n",
    "    train[\"Location\"].replace(CHANGE,(str(x)+\", VIC, \"+str(y)+\", Australia\"), \n",
    "           inplace=True)\n",
    "changeLoc(\"Preston\",3072,\"Preston,\\xa0VIC,\\xa03072\")\n",
    "changeLoc(\"South Melbourne\",3205,\"South Melbourne,\\xa0VIC\\xa03205\")\n",
    "changeLoc(\"Mulgrave\",3170,\"Mulgrave\\xa0VIC\\xa03170\")\n",
    "changeLoc(\"Mulgrave\",3170,\"Mulgrave VIC 3170\")\n",
    "changeLoc(\"Epping\",3076,\" Epping VIC 3076\")\n",
    "changeLoc(\"Ringwood\",3134,\"Ringwood VIC 3134\")\n",
    "changeLoc(\"Wheelers Hill\",3170,\"Wheelers Hill VIC 3170\")\n",
    "changeLoc(\"Mulgrave\",3170,np.nan)"
   ]
  },
  {
   "cell_type": "code",
   "execution_count": 6,
   "id": "016cb1bd",
   "metadata": {},
   "outputs": [
    {
     "data": {
      "text/plain": [
       "array(['Wheelers Hill, VIC, 3170, Australia',\n",
       "       'Preston, VIC, 3072, Australia',\n",
       "       'South Melbourne, VIC, 3205, Australia',\n",
       "       'Keysborough, VIC, 3173, Australia',\n",
       "       'Mulgrave, VIC, 3170, Australia',\n",
       "       'Dandenong, VIC, 3175, Australia',\n",
       "       'Springvale, VIC, 3171, Australia',\n",
       "       'Ringwood, VIC, 3134, Australia', 'Epping, VIC, 3076, Australia'],\n",
       "      dtype=object)"
      ]
     },
     "execution_count": 6,
     "metadata": {},
     "output_type": "execute_result"
    }
   ],
   "source": [
    "train['Location'].unique()"
   ]
  },
  {
   "cell_type": "code",
   "execution_count": 7,
   "id": "b8a82b2f",
   "metadata": {},
   "outputs": [
    {
     "data": {
      "text/plain": [
       "array(['2017-01-01T00:00:00.000000000', '2017-01-02T00:00:00.000000000',\n",
       "       '2017-01-03T00:00:00.000000000', ...,\n",
       "       '2021-06-28T00:00:00.000000000', '2021-06-29T00:00:00.000000000',\n",
       "       '2021-06-30T00:00:00.000000000'], dtype='datetime64[ns]')"
      ]
     },
     "execution_count": 7,
     "metadata": {},
     "output_type": "execute_result"
    }
   ],
   "source": [
    "train.Date=pd.to_datetime(train.Date,format='%m/%d/%Y')\n",
    "train.Date.dtypes\n",
    "train.Date.unique()"
   ]
  },
  {
   "cell_type": "code",
   "execution_count": 8,
   "id": "d339fad6",
   "metadata": {},
   "outputs": [],
   "source": [
    "train['year'] = pd.DatetimeIndex(train['Date']).year\n",
    "train['month'] = pd.DatetimeIndex(train['Date']).month\n",
    "train['day'] = pd.DatetimeIndex(train['Date']).day"
   ]
  },
  {
   "cell_type": "code",
   "execution_count": null,
   "id": "b13e8610",
   "metadata": {},
   "outputs": [],
   "source": []
  }
 ],
 "metadata": {
  "kernelspec": {
   "display_name": "Python 3",
   "language": "python",
   "name": "python3"
  },
  "language_info": {
   "codemirror_mode": {
    "name": "ipython",
    "version": 3
   },
   "file_extension": ".py",
   "mimetype": "text/x-python",
   "name": "python",
   "nbconvert_exporter": "python",
   "pygments_lexer": "ipython3",
   "version": "3.8.8"
  }
 },
 "nbformat": 4,
 "nbformat_minor": 5
}
