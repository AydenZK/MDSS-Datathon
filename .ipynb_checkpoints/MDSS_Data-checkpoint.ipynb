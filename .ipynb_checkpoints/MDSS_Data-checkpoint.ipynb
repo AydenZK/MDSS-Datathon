{
 "cells": [
  {
   "cell_type": "code",
   "execution_count": 48,
   "metadata": {},
   "outputs": [],
   "source": [
    "import numpy as np\n",
    "import pandas as pd"
   ]
  },
  {
   "cell_type": "code",
   "execution_count": 74,
   "metadata": {},
   "outputs": [],
   "source": [
    "import matplotlib.pyplot as plt\n",
    "%matplotlib inline\n",
    "from matplotlib import rcParams\n",
    "rcParams['figure.figsize'] = 10, 6\n",
    "from sklearn import preprocessing\n",
    "import statsmodels.api as sm\n",
    "import itertools"
   ]
  },
  {
   "cell_type": "code",
   "execution_count": 50,
   "metadata": {},
   "outputs": [],
   "source": [
    "train = pd.read_csv(\"train_advanced.csv\")\n",
    "test = pd.read_csv(\"test_advanced.csv\")\n",
    "sample = pd.read_csv(\"sample_submission.csv\")"
   ]
  },
  {
   "cell_type": "code",
   "execution_count": 51,
   "metadata": {},
   "outputs": [
    {
     "data": {
      "text/plain": [
       "92001"
      ]
     },
     "execution_count": 51,
     "metadata": {},
     "output_type": "execute_result"
    }
   ],
   "source": [
    "len(sample)"
   ]
  },
  {
   "cell_type": "code",
   "execution_count": 52,
   "metadata": {},
   "outputs": [
    {
     "data": {
      "text/plain": [
       "92000"
      ]
     },
     "execution_count": 52,
     "metadata": {},
     "output_type": "execute_result"
    }
   ],
   "source": [
    "len(test)"
   ]
  },
  {
   "cell_type": "code",
   "execution_count": 53,
   "metadata": {},
   "outputs": [
    {
     "data": {
      "text/plain": [
       "821000"
      ]
     },
     "execution_count": 53,
     "metadata": {},
     "output_type": "execute_result"
    }
   ],
   "source": [
    "len(train)"
   ]
  },
  {
   "cell_type": "code",
   "execution_count": null,
   "metadata": {},
   "outputs": [],
   "source": []
  },
  {
   "cell_type": "markdown",
   "metadata": {},
   "source": [
    "# Exploratory Data Analysis"
   ]
  },
  {
   "cell_type": "code",
   "execution_count": 54,
   "metadata": {
    "scrolled": false
   },
   "outputs": [
    {
     "data": {
      "text/html": [
       "<div>\n",
       "<style scoped>\n",
       "    .dataframe tbody tr th:only-of-type {\n",
       "        vertical-align: middle;\n",
       "    }\n",
       "\n",
       "    .dataframe tbody tr th {\n",
       "        vertical-align: top;\n",
       "    }\n",
       "\n",
       "    .dataframe thead th {\n",
       "        text-align: right;\n",
       "    }\n",
       "</style>\n",
       "<table border=\"1\" class=\"dataframe\">\n",
       "  <thead>\n",
       "    <tr style=\"text-align: right;\">\n",
       "      <th></th>\n",
       "      <th>Date</th>\n",
       "      <th>Store</th>\n",
       "      <th>Item</th>\n",
       "      <th>Sales</th>\n",
       "      <th>Average Rating</th>\n",
       "      <th>Location</th>\n",
       "      <th>Category</th>\n",
       "      <th>Branding</th>\n",
       "    </tr>\n",
       "  </thead>\n",
       "  <tbody>\n",
       "    <tr>\n",
       "      <th>0</th>\n",
       "      <td>1/1/2017</td>\n",
       "      <td>KMart</td>\n",
       "      <td>1</td>\n",
       "      <td>13</td>\n",
       "      <td>2.8</td>\n",
       "      <td>Wheelers Hill VIC 3170</td>\n",
       "      <td>Electronics</td>\n",
       "      <td>Sony</td>\n",
       "    </tr>\n",
       "    <tr>\n",
       "      <th>1</th>\n",
       "      <td>1/2/2017</td>\n",
       "      <td>KMart</td>\n",
       "      <td>1</td>\n",
       "      <td>11</td>\n",
       "      <td>1.4</td>\n",
       "      <td>Wheelers Hill VIC 3170</td>\n",
       "      <td>Electronics</td>\n",
       "      <td>Sony</td>\n",
       "    </tr>\n",
       "    <tr>\n",
       "      <th>2</th>\n",
       "      <td>1/3/2017</td>\n",
       "      <td>KMart</td>\n",
       "      <td>1</td>\n",
       "      <td>14</td>\n",
       "      <td>1.8</td>\n",
       "      <td>Wheelers Hill VIC 3170</td>\n",
       "      <td>Electronics</td>\n",
       "      <td>Sony</td>\n",
       "    </tr>\n",
       "    <tr>\n",
       "      <th>3</th>\n",
       "      <td>1/4/2017</td>\n",
       "      <td>KMart</td>\n",
       "      <td>1</td>\n",
       "      <td>13</td>\n",
       "      <td>1.3</td>\n",
       "      <td>Wheelers Hill VIC 3170</td>\n",
       "      <td>Electronics</td>\n",
       "      <td>Sony</td>\n",
       "    </tr>\n",
       "    <tr>\n",
       "      <th>4</th>\n",
       "      <td>1/5/2017</td>\n",
       "      <td>KMart</td>\n",
       "      <td>1</td>\n",
       "      <td>10</td>\n",
       "      <td>2.9</td>\n",
       "      <td>Wheelers Hill VIC 3170</td>\n",
       "      <td>Electronics</td>\n",
       "      <td>Sony</td>\n",
       "    </tr>\n",
       "  </tbody>\n",
       "</table>\n",
       "</div>"
      ],
      "text/plain": [
       "       Date  Store  Item  Sales  Average Rating                Location  \\\n",
       "0  1/1/2017  KMart     1     13             2.8  Wheelers Hill VIC 3170   \n",
       "1  1/2/2017  KMart     1     11             1.4  Wheelers Hill VIC 3170   \n",
       "2  1/3/2017  KMart     1     14             1.8  Wheelers Hill VIC 3170   \n",
       "3  1/4/2017  KMart     1     13             1.3  Wheelers Hill VIC 3170   \n",
       "4  1/5/2017  KMart     1     10             2.9  Wheelers Hill VIC 3170   \n",
       "\n",
       "      Category Branding  \n",
       "0  Electronics     Sony  \n",
       "1  Electronics     Sony  \n",
       "2  Electronics     Sony  \n",
       "3  Electronics     Sony  \n",
       "4  Electronics     Sony  "
      ]
     },
     "execution_count": 54,
     "metadata": {},
     "output_type": "execute_result"
    }
   ],
   "source": [
    "train.head()"
   ]
  },
  {
   "cell_type": "code",
   "execution_count": 55,
   "metadata": {},
   "outputs": [
    {
     "name": "stdout",
     "output_type": "stream",
     "text": [
      "<class 'pandas.core.frame.DataFrame'>\n",
      "RangeIndex: 821000 entries, 0 to 820999\n",
      "Data columns (total 8 columns):\n",
      " #   Column          Non-Null Count   Dtype  \n",
      "---  ------          --------------   -----  \n",
      " 0   Date            821000 non-null  object \n",
      " 1   Store           821000 non-null  object \n",
      " 2   Item            821000 non-null  int64  \n",
      " 3   Sales           821000 non-null  int64  \n",
      " 4   Average Rating  821000 non-null  float64\n",
      " 5   Location        820260 non-null  object \n",
      " 6   Category        821000 non-null  object \n",
      " 7   Branding        821000 non-null  object \n",
      "dtypes: float64(1), int64(2), object(5)\n",
      "memory usage: 50.1+ MB\n"
     ]
    }
   ],
   "source": [
    "train.info()"
   ]
  },
  {
   "cell_type": "code",
   "execution_count": 56,
   "metadata": {},
   "outputs": [
    {
     "data": {
      "text/plain": [
       "array(['Wheelers Hill VIC 3170', 'Preston,\\xa0VIC,\\xa03072',\n",
       "       'South Melbourne,\\xa0VIC\\xa03205',\n",
       "       'Keysborough, VIC, 3173, Australia', 'Mulgrave\\xa0VIC\\xa03170',\n",
       "       'Dandenong, VIC, 3175, Australia',\n",
       "       'Springvale, VIC, 3171, Australia', 'Ringwood VIC 3134',\n",
       "       ' Epping VIC 3076', 'Mulgrave VIC 3170', nan], dtype=object)"
      ]
     },
     "execution_count": 56,
     "metadata": {},
     "output_type": "execute_result"
    }
   ],
   "source": [
    "train['Location'].unique()"
   ]
  },
  {
   "cell_type": "code",
   "execution_count": 57,
   "metadata": {},
   "outputs": [],
   "source": [
    "def changeLoc(x,y,CHANGE):\n",
    "    train[\"Location\"].replace(CHANGE,(str(x)+\", VIC, \"+str(y)+\", Australia\"), \n",
    "           inplace=True)\n",
    "changeLoc(\"Preston\",3072,\"Preston,\\xa0VIC,\\xa03072\")\n",
    "changeLoc(\"South Melbourne\",3205,\"South Melbourne,\\xa0VIC\\xa03205\")\n",
    "changeLoc(\"Mulgrave\",3170,\"Mulgrave\\xa0VIC\\xa03170\")\n",
    "changeLoc(\"Mulgrave\",3170,\"Mulgrave VIC 3170\")\n",
    "changeLoc(\"Epping\",3076,\" Epping VIC 3076\")\n",
    "changeLoc(\"Ringwood\",3134,\"Ringwood VIC 3134\")\n",
    "changeLoc(\"Wheelers Hill\",3170,\"Wheelers Hill VIC 3170\")\n",
    "changeLoc(\"Mulgrave\",3170,np.nan)"
   ]
  },
  {
   "cell_type": "code",
   "execution_count": 58,
   "metadata": {},
   "outputs": [
    {
     "data": {
      "text/plain": [
       "array(['Wheelers Hill, VIC, 3170, Australia',\n",
       "       'Preston, VIC, 3072, Australia',\n",
       "       'South Melbourne, VIC, 3205, Australia',\n",
       "       'Keysborough, VIC, 3173, Australia',\n",
       "       'Mulgrave, VIC, 3170, Australia',\n",
       "       'Dandenong, VIC, 3175, Australia',\n",
       "       'Springvale, VIC, 3171, Australia',\n",
       "       'Ringwood, VIC, 3134, Australia', 'Epping, VIC, 3076, Australia'],\n",
       "      dtype=object)"
      ]
     },
     "execution_count": 58,
     "metadata": {},
     "output_type": "execute_result"
    }
   ],
   "source": [
    "train['Location'].unique()"
   ]
  },
  {
   "cell_type": "markdown",
   "metadata": {},
   "source": [
    "Date"
   ]
  },
  {
   "cell_type": "code",
   "execution_count": 59,
   "metadata": {},
   "outputs": [
    {
     "data": {
      "text/plain": [
       "array(['2017-01-01T00:00:00.000000000', '2017-01-02T00:00:00.000000000',\n",
       "       '2017-01-03T00:00:00.000000000', ...,\n",
       "       '2021-06-28T00:00:00.000000000', '2021-06-29T00:00:00.000000000',\n",
       "       '2021-06-30T00:00:00.000000000'], dtype='datetime64[ns]')"
      ]
     },
     "execution_count": 59,
     "metadata": {},
     "output_type": "execute_result"
    }
   ],
   "source": [
    "train.Date=pd.to_datetime(train.Date,format='%m/%d/%Y')\n",
    "train.Date.dtypes\n",
    "train.Date.unique()"
   ]
  },
  {
   "cell_type": "code",
   "execution_count": 60,
   "metadata": {},
   "outputs": [],
   "source": [
    "train['year'] = pd.DatetimeIndex(train['Date']).year\n",
    "train['month'] = pd.DatetimeIndex(train['Date']).month\n",
    "train['day'] = pd.DatetimeIndex(train['Date']).day"
   ]
  },
  {
   "cell_type": "code",
   "execution_count": 61,
   "metadata": {},
   "outputs": [
    {
     "data": {
      "text/plain": [
       "182500"
      ]
     },
     "execution_count": 61,
     "metadata": {},
     "output_type": "execute_result"
    }
   ],
   "source": [
    "len(train[train[\"year\"]==2017])"
   ]
  },
  {
   "cell_type": "code",
   "execution_count": 62,
   "metadata": {},
   "outputs": [
    {
     "data": {
      "text/html": [
       "<div>\n",
       "<style scoped>\n",
       "    .dataframe tbody tr th:only-of-type {\n",
       "        vertical-align: middle;\n",
       "    }\n",
       "\n",
       "    .dataframe tbody tr th {\n",
       "        vertical-align: top;\n",
       "    }\n",
       "\n",
       "    .dataframe thead th {\n",
       "        text-align: right;\n",
       "    }\n",
       "</style>\n",
       "<table border=\"1\" class=\"dataframe\">\n",
       "  <thead>\n",
       "    <tr style=\"text-align: right;\">\n",
       "      <th></th>\n",
       "      <th>Date</th>\n",
       "      <th>Store</th>\n",
       "      <th>Item</th>\n",
       "      <th>Sales</th>\n",
       "      <th>Average Rating</th>\n",
       "      <th>Location</th>\n",
       "      <th>Category</th>\n",
       "      <th>Branding</th>\n",
       "      <th>year</th>\n",
       "      <th>month</th>\n",
       "      <th>day</th>\n",
       "    </tr>\n",
       "  </thead>\n",
       "  <tbody>\n",
       "    <tr>\n",
       "      <th>0</th>\n",
       "      <td>2017-01-01</td>\n",
       "      <td>KMart</td>\n",
       "      <td>1</td>\n",
       "      <td>13</td>\n",
       "      <td>2.8</td>\n",
       "      <td>Wheelers Hill, VIC, 3170, Australia</td>\n",
       "      <td>Electronics</td>\n",
       "      <td>Sony</td>\n",
       "      <td>2017</td>\n",
       "      <td>1</td>\n",
       "      <td>1</td>\n",
       "    </tr>\n",
       "    <tr>\n",
       "      <th>1</th>\n",
       "      <td>2017-01-02</td>\n",
       "      <td>KMart</td>\n",
       "      <td>1</td>\n",
       "      <td>11</td>\n",
       "      <td>1.4</td>\n",
       "      <td>Wheelers Hill, VIC, 3170, Australia</td>\n",
       "      <td>Electronics</td>\n",
       "      <td>Sony</td>\n",
       "      <td>2017</td>\n",
       "      <td>1</td>\n",
       "      <td>2</td>\n",
       "    </tr>\n",
       "    <tr>\n",
       "      <th>2</th>\n",
       "      <td>2017-01-03</td>\n",
       "      <td>KMart</td>\n",
       "      <td>1</td>\n",
       "      <td>14</td>\n",
       "      <td>1.8</td>\n",
       "      <td>Wheelers Hill, VIC, 3170, Australia</td>\n",
       "      <td>Electronics</td>\n",
       "      <td>Sony</td>\n",
       "      <td>2017</td>\n",
       "      <td>1</td>\n",
       "      <td>3</td>\n",
       "    </tr>\n",
       "    <tr>\n",
       "      <th>3</th>\n",
       "      <td>2017-01-04</td>\n",
       "      <td>KMart</td>\n",
       "      <td>1</td>\n",
       "      <td>13</td>\n",
       "      <td>1.3</td>\n",
       "      <td>Wheelers Hill, VIC, 3170, Australia</td>\n",
       "      <td>Electronics</td>\n",
       "      <td>Sony</td>\n",
       "      <td>2017</td>\n",
       "      <td>1</td>\n",
       "      <td>4</td>\n",
       "    </tr>\n",
       "    <tr>\n",
       "      <th>4</th>\n",
       "      <td>2017-01-05</td>\n",
       "      <td>KMart</td>\n",
       "      <td>1</td>\n",
       "      <td>10</td>\n",
       "      <td>2.9</td>\n",
       "      <td>Wheelers Hill, VIC, 3170, Australia</td>\n",
       "      <td>Electronics</td>\n",
       "      <td>Sony</td>\n",
       "      <td>2017</td>\n",
       "      <td>1</td>\n",
       "      <td>5</td>\n",
       "    </tr>\n",
       "  </tbody>\n",
       "</table>\n",
       "</div>"
      ],
      "text/plain": [
       "        Date  Store  Item  Sales  Average Rating  \\\n",
       "0 2017-01-01  KMart     1     13             2.8   \n",
       "1 2017-01-02  KMart     1     11             1.4   \n",
       "2 2017-01-03  KMart     1     14             1.8   \n",
       "3 2017-01-04  KMart     1     13             1.3   \n",
       "4 2017-01-05  KMart     1     10             2.9   \n",
       "\n",
       "                              Location     Category Branding  year  month  day  \n",
       "0  Wheelers Hill, VIC, 3170, Australia  Electronics     Sony  2017      1    1  \n",
       "1  Wheelers Hill, VIC, 3170, Australia  Electronics     Sony  2017      1    2  \n",
       "2  Wheelers Hill, VIC, 3170, Australia  Electronics     Sony  2017      1    3  \n",
       "3  Wheelers Hill, VIC, 3170, Australia  Electronics     Sony  2017      1    4  \n",
       "4  Wheelers Hill, VIC, 3170, Australia  Electronics     Sony  2017      1    5  "
      ]
     },
     "execution_count": 62,
     "metadata": {},
     "output_type": "execute_result"
    }
   ],
   "source": [
    "train.head()"
   ]
  },
  {
   "cell_type": "code",
   "execution_count": 63,
   "metadata": {},
   "outputs": [],
   "source": [
    "train_dummy=pd.get_dummies(train.Category,prefix=\"Category\")\n",
    "train=pd.concat([train,train_dummy],axis=1)\n",
    "train=train.drop(columns=[\"Category\"])"
   ]
  },
  {
   "cell_type": "code",
   "execution_count": 64,
   "metadata": {},
   "outputs": [],
   "source": [
    "train_bdummy=pd.get_dummies(train.Branding,prefix=\"Branding\")\n",
    "train=pd.concat([train,train_bdummy],axis=1)\n",
    "train=train.drop(columns=[\"Branding\"])"
   ]
  },
  {
   "cell_type": "code",
   "execution_count": 65,
   "metadata": {},
   "outputs": [],
   "source": [
    "train_storedummy=pd.get_dummies(train.Store,prefix=\"Store\")\n",
    "train=pd.concat([train,train_storedummy],axis=1)\n",
    "train=train.drop(columns=[\"Store\"])"
   ]
  },
  {
   "cell_type": "code",
   "execution_count": 66,
   "metadata": {},
   "outputs": [],
   "source": [
    "train_locationdummy=pd.get_dummies(train.Location,prefix=\"Store\")\n",
    "train=pd.concat([train,train_locationdummy],axis=1)\n",
    "train=train.drop(columns=[\"Location\"])"
   ]
  },
  {
   "cell_type": "code",
   "execution_count": null,
   "metadata": {},
   "outputs": [],
   "source": []
  },
  {
   "cell_type": "code",
   "execution_count": 46,
   "metadata": {},
   "outputs": [
    {
     "data": {
      "text/html": [
       "<div>\n",
       "<style scoped>\n",
       "    .dataframe tbody tr th:only-of-type {\n",
       "        vertical-align: middle;\n",
       "    }\n",
       "\n",
       "    .dataframe tbody tr th {\n",
       "        vertical-align: top;\n",
       "    }\n",
       "\n",
       "    .dataframe thead th {\n",
       "        text-align: right;\n",
       "    }\n",
       "</style>\n",
       "<table border=\"1\" class=\"dataframe\">\n",
       "  <thead>\n",
       "    <tr style=\"text-align: right;\">\n",
       "      <th></th>\n",
       "      <th>Date</th>\n",
       "      <th>Item</th>\n",
       "      <th>Sales</th>\n",
       "      <th>Average Rating</th>\n",
       "      <th>year</th>\n",
       "      <th>month</th>\n",
       "      <th>day</th>\n",
       "      <th>Category_Clothing &amp; Accessories</th>\n",
       "      <th>Category_Cosmetics</th>\n",
       "      <th>Category_Electronics</th>\n",
       "      <th>...</th>\n",
       "      <th>Store_Woolies</th>\n",
       "      <th>Store_Dandenong, VIC, 3175, Australia</th>\n",
       "      <th>Store_Epping, VIC, 3076, Australia</th>\n",
       "      <th>Store_Keysborough, VIC, 3173, Australia</th>\n",
       "      <th>Store_Mulgrave, VIC, 3170, Australia</th>\n",
       "      <th>Store_Preston, VIC, 3072, Australia</th>\n",
       "      <th>Store_Ringwood, VIC, 3134, Australia</th>\n",
       "      <th>Store_South Melbourne, VIC, 3205, Australia</th>\n",
       "      <th>Store_Springvale, VIC, 3171, Australia</th>\n",
       "      <th>Store_Wheelers Hill, VIC, 3170, Australia</th>\n",
       "    </tr>\n",
       "  </thead>\n",
       "  <tbody>\n",
       "    <tr>\n",
       "      <th>0</th>\n",
       "      <td>2017-01-01</td>\n",
       "      <td>1</td>\n",
       "      <td>13</td>\n",
       "      <td>2.8</td>\n",
       "      <td>2017</td>\n",
       "      <td>1</td>\n",
       "      <td>1</td>\n",
       "      <td>0</td>\n",
       "      <td>0</td>\n",
       "      <td>1</td>\n",
       "      <td>...</td>\n",
       "      <td>0</td>\n",
       "      <td>0</td>\n",
       "      <td>0</td>\n",
       "      <td>0</td>\n",
       "      <td>0</td>\n",
       "      <td>0</td>\n",
       "      <td>0</td>\n",
       "      <td>0</td>\n",
       "      <td>0</td>\n",
       "      <td>1</td>\n",
       "    </tr>\n",
       "    <tr>\n",
       "      <th>1</th>\n",
       "      <td>2017-01-02</td>\n",
       "      <td>1</td>\n",
       "      <td>11</td>\n",
       "      <td>1.4</td>\n",
       "      <td>2017</td>\n",
       "      <td>1</td>\n",
       "      <td>2</td>\n",
       "      <td>0</td>\n",
       "      <td>0</td>\n",
       "      <td>1</td>\n",
       "      <td>...</td>\n",
       "      <td>0</td>\n",
       "      <td>0</td>\n",
       "      <td>0</td>\n",
       "      <td>0</td>\n",
       "      <td>0</td>\n",
       "      <td>0</td>\n",
       "      <td>0</td>\n",
       "      <td>0</td>\n",
       "      <td>0</td>\n",
       "      <td>1</td>\n",
       "    </tr>\n",
       "    <tr>\n",
       "      <th>2</th>\n",
       "      <td>2017-01-03</td>\n",
       "      <td>1</td>\n",
       "      <td>14</td>\n",
       "      <td>1.8</td>\n",
       "      <td>2017</td>\n",
       "      <td>1</td>\n",
       "      <td>3</td>\n",
       "      <td>0</td>\n",
       "      <td>0</td>\n",
       "      <td>1</td>\n",
       "      <td>...</td>\n",
       "      <td>0</td>\n",
       "      <td>0</td>\n",
       "      <td>0</td>\n",
       "      <td>0</td>\n",
       "      <td>0</td>\n",
       "      <td>0</td>\n",
       "      <td>0</td>\n",
       "      <td>0</td>\n",
       "      <td>0</td>\n",
       "      <td>1</td>\n",
       "    </tr>\n",
       "    <tr>\n",
       "      <th>3</th>\n",
       "      <td>2017-01-04</td>\n",
       "      <td>1</td>\n",
       "      <td>13</td>\n",
       "      <td>1.3</td>\n",
       "      <td>2017</td>\n",
       "      <td>1</td>\n",
       "      <td>4</td>\n",
       "      <td>0</td>\n",
       "      <td>0</td>\n",
       "      <td>1</td>\n",
       "      <td>...</td>\n",
       "      <td>0</td>\n",
       "      <td>0</td>\n",
       "      <td>0</td>\n",
       "      <td>0</td>\n",
       "      <td>0</td>\n",
       "      <td>0</td>\n",
       "      <td>0</td>\n",
       "      <td>0</td>\n",
       "      <td>0</td>\n",
       "      <td>1</td>\n",
       "    </tr>\n",
       "    <tr>\n",
       "      <th>4</th>\n",
       "      <td>2017-01-05</td>\n",
       "      <td>1</td>\n",
       "      <td>10</td>\n",
       "      <td>2.9</td>\n",
       "      <td>2017</td>\n",
       "      <td>1</td>\n",
       "      <td>5</td>\n",
       "      <td>0</td>\n",
       "      <td>0</td>\n",
       "      <td>1</td>\n",
       "      <td>...</td>\n",
       "      <td>0</td>\n",
       "      <td>0</td>\n",
       "      <td>0</td>\n",
       "      <td>0</td>\n",
       "      <td>0</td>\n",
       "      <td>0</td>\n",
       "      <td>0</td>\n",
       "      <td>0</td>\n",
       "      <td>0</td>\n",
       "      <td>1</td>\n",
       "    </tr>\n",
       "  </tbody>\n",
       "</table>\n",
       "<p>5 rows × 58 columns</p>\n",
       "</div>"
      ],
      "text/plain": [
       "        Date  Item  Sales  Average Rating  year  month  day  \\\n",
       "0 2017-01-01     1     13             2.8  2017      1    1   \n",
       "1 2017-01-02     1     11             1.4  2017      1    2   \n",
       "2 2017-01-03     1     14             1.8  2017      1    3   \n",
       "3 2017-01-04     1     13             1.3  2017      1    4   \n",
       "4 2017-01-05     1     10             2.9  2017      1    5   \n",
       "\n",
       "   Category_Clothing & Accessories  Category_Cosmetics  Category_Electronics  \\\n",
       "0                                0                   0                     1   \n",
       "1                                0                   0                     1   \n",
       "2                                0                   0                     1   \n",
       "3                                0                   0                     1   \n",
       "4                                0                   0                     1   \n",
       "\n",
       "   ...  Store_Woolies  Store_Dandenong, VIC, 3175, Australia  \\\n",
       "0  ...              0                                      0   \n",
       "1  ...              0                                      0   \n",
       "2  ...              0                                      0   \n",
       "3  ...              0                                      0   \n",
       "4  ...              0                                      0   \n",
       "\n",
       "   Store_Epping, VIC, 3076, Australia  \\\n",
       "0                                   0   \n",
       "1                                   0   \n",
       "2                                   0   \n",
       "3                                   0   \n",
       "4                                   0   \n",
       "\n",
       "   Store_Keysborough, VIC, 3173, Australia  \\\n",
       "0                                        0   \n",
       "1                                        0   \n",
       "2                                        0   \n",
       "3                                        0   \n",
       "4                                        0   \n",
       "\n",
       "   Store_Mulgrave, VIC, 3170, Australia  Store_Preston, VIC, 3072, Australia  \\\n",
       "0                                     0                                    0   \n",
       "1                                     0                                    0   \n",
       "2                                     0                                    0   \n",
       "3                                     0                                    0   \n",
       "4                                     0                                    0   \n",
       "\n",
       "   Store_Ringwood, VIC, 3134, Australia  \\\n",
       "0                                     0   \n",
       "1                                     0   \n",
       "2                                     0   \n",
       "3                                     0   \n",
       "4                                     0   \n",
       "\n",
       "   Store_South Melbourne, VIC, 3205, Australia  \\\n",
       "0                                            0   \n",
       "1                                            0   \n",
       "2                                            0   \n",
       "3                                            0   \n",
       "4                                            0   \n",
       "\n",
       "   Store_Springvale, VIC, 3171, Australia  \\\n",
       "0                                       0   \n",
       "1                                       0   \n",
       "2                                       0   \n",
       "3                                       0   \n",
       "4                                       0   \n",
       "\n",
       "   Store_Wheelers Hill, VIC, 3170, Australia  \n",
       "0                                          1  \n",
       "1                                          1  \n",
       "2                                          1  \n",
       "3                                          1  \n",
       "4                                          1  \n",
       "\n",
       "[5 rows x 58 columns]"
      ]
     },
     "execution_count": 46,
     "metadata": {},
     "output_type": "execute_result"
    }
   ],
   "source": [
    "train.head()"
   ]
  },
  {
   "cell_type": "code",
   "execution_count": 70,
   "metadata": {},
   "outputs": [],
   "source": [
    "train=train.set_index([\"Date\"])"
   ]
  },
  {
   "cell_type": "code",
   "execution_count": 71,
   "metadata": {},
   "outputs": [
    {
     "data": {
      "text/plain": [
       "<matplotlib.axes._subplots.AxesSubplot at 0x25b4b7b3bb0>"
      ]
     },
     "execution_count": 71,
     "metadata": {},
     "output_type": "execute_result"
    },
    {
     "data": {
      "image/png": "[encoded data removed]",
      "text/plain": [
       "<Figure size 720x432 with 1 Axes>"
      ]
     },
     "metadata": {
      "needs_background": "light"
     },
     "output_type": "display_data"
    }
   ],
   "source": [
    "import seaborn as sns\n",
    "\n",
    "train.Sales.resample('MS').mean().plot() # MS implies Month Starting"
   ]
  },
  {
   "cell_type": "code",
   "execution_count": 72,
   "metadata": {},
   "outputs": [
    {
     "data": {
      "text/plain": [
       "<matplotlib.axes._subplots.AxesSubplot at 0x25b4b8227f0>"
      ]
     },
     "execution_count": 72,
     "metadata": {},
     "output_type": "execute_result"
    },
    {
     "data": {
      "image/png": "[encoded data removed]",
      "text/plain": [
       "<Figure size 720x432 with 1 Axes>"
      ]
     },
     "metadata": {
      "needs_background": "light"
     },
     "output_type": "display_data"
    }
   ],
   "source": [
    "import seaborn as sns\n",
    "y=train.Sales.resample('MS').mean()\n",
    "train.Sales.resample('MS').mean().plot() # MS implies Month Starting"
   ]
  },
  {
   "cell_type": "code",
   "execution_count": 75,
   "metadata": {},
   "outputs": [
    {
     "data": {
      "image/png": "[encoded data removed]",
      "text/plain": [
       "<Figure size 720x432 with 4 Axes>"
      ]
     },
     "metadata": {
      "needs_background": "light"
     },
     "output_type": "display_data"
    }
   ],
   "source": [
    "decomposition=sm.tsa.seasonal_decompose(y,model=\"additive\")\n",
    "fig=decomposition.plot()\n",
    "plt.show()"
   ]
  },
  {
   "cell_type": "code",
   "execution_count": 76,
   "metadata": {},
   "outputs": [],
   "source": [
    "p = d = q = range(0, 2)\n",
    "pdq = list(itertools.product(p, d, q))\n",
    "seasonal_pdq = [(x[0], x[1], x[2], 12) for x in list(itertools.product(p, d, q))]"
   ]
  },
  {
   "cell_type": "code",
   "execution_count": 77,
   "metadata": {},
   "outputs": [
    {
     "name": "stdout",
     "output_type": "stream",
     "text": [
      "ARIMA(0, 0, 0)x(0, 0, 0, 12)12 - AIC:572.4961269356305\n"
     ]
    },
    {
     "name": "stderr",
     "output_type": "stream",
     "text": [
      "C:\\ProgramData\\Anaconda3\\lib\\site-packages\\statsmodels\\base\\model.py:567: ConvergenceWarning: Maximum Likelihood optimization failed to converge. Check mle_retvals\n",
      "  warn(\"Maximum Likelihood optimization failed to converge. \"\n"
     ]
    },
    {
     "name": "stdout",
     "output_type": "stream",
     "text": [
      "ARIMA(0, 0, 0)x(0, 0, 1, 12)12 - AIC:448.7759765775293\n",
      "ARIMA(0, 0, 0)x(0, 1, 0, 12)12 - AIC:242.15509366826987\n"
     ]
    },
    {
     "name": "stderr",
     "output_type": "stream",
     "text": [
      "C:\\ProgramData\\Anaconda3\\lib\\site-packages\\statsmodels\\base\\model.py:567: ConvergenceWarning: Maximum Likelihood optimization failed to converge. Check mle_retvals\n",
      "  warn(\"Maximum Likelihood optimization failed to converge. \"\n"
     ]
    },
    {
     "name": "stdout",
     "output_type": "stream",
     "text": [
      "ARIMA(0, 0, 0)x(0, 1, 1, 12)12 - AIC:781.4227587472128\n",
      "ARIMA(0, 0, 0)x(1, 0, 0, 12)12 - AIC:188.116587329041\n",
      "ARIMA(0, 0, 0)x(1, 0, 1, 12)12 - AIC:171.41995437361618\n",
      "ARIMA(0, 0, 0)x(1, 1, 0, 12)12 - AIC:138.25478080444844\n",
      "ARIMA(0, 0, 0)x(1, 1, 1, 12)12 - AIC:124.22585688982883\n",
      "ARIMA(0, 0, 1)x(0, 0, 0, 12)12 - AIC:505.4810824838371\n"
     ]
    },
    {
     "name": "stderr",
     "output_type": "stream",
     "text": [
      "C:\\ProgramData\\Anaconda3\\lib\\site-packages\\statsmodels\\base\\model.py:567: ConvergenceWarning: Maximum Likelihood optimization failed to converge. Check mle_retvals\n",
      "  warn(\"Maximum Likelihood optimization failed to converge. \"\n"
     ]
    },
    {
     "name": "stdout",
     "output_type": "stream",
     "text": [
      "ARIMA(0, 0, 1)x(0, 0, 1, 12)12 - AIC:412.90960915773167\n",
      "ARIMA(0, 0, 1)x(0, 1, 0, 12)12 - AIC:192.50482168262306\n"
     ]
    },
    {
     "name": "stderr",
     "output_type": "stream",
     "text": [
      "C:\\ProgramData\\Anaconda3\\lib\\site-packages\\statsmodels\\base\\model.py:567: ConvergenceWarning: Maximum Likelihood optimization failed to converge. Check mle_retvals\n",
      "  warn(\"Maximum Likelihood optimization failed to converge. \"\n"
     ]
    },
    {
     "name": "stdout",
     "output_type": "stream",
     "text": [
      "ARIMA(0, 0, 1)x(0, 1, 1, 12)12 - AIC:1175.3112138438137\n"
     ]
    },
    {
     "name": "stderr",
     "output_type": "stream",
     "text": [
      "C:\\ProgramData\\Anaconda3\\lib\\site-packages\\statsmodels\\base\\model.py:567: ConvergenceWarning: Maximum Likelihood optimization failed to converge. Check mle_retvals\n",
      "  warn(\"Maximum Likelihood optimization failed to converge. \"\n"
     ]
    },
    {
     "name": "stdout",
     "output_type": "stream",
     "text": [
      "ARIMA(0, 0, 1)x(1, 0, 0, 12)12 - AIC:190.65937950587167\n"
     ]
    },
    {
     "name": "stderr",
     "output_type": "stream",
     "text": [
      "C:\\ProgramData\\Anaconda3\\lib\\site-packages\\statsmodels\\base\\model.py:567: ConvergenceWarning: Maximum Likelihood optimization failed to converge. Check mle_retvals\n",
      "  warn(\"Maximum Likelihood optimization failed to converge. \"\n"
     ]
    },
    {
     "name": "stdout",
     "output_type": "stream",
     "text": [
      "ARIMA(0, 0, 1)x(1, 0, 1, 12)12 - AIC:148.82747954193007\n",
      "ARIMA(0, 0, 1)x(1, 1, 0, 12)12 - AIC:113.57568358198309\n",
      "ARIMA(0, 0, 1)x(1, 1, 1, 12)12 - AIC:101.091839341052\n",
      "ARIMA(0, 1, 0)x(0, 0, 0, 12)12 - AIC:347.23734257364634\n",
      "ARIMA(0, 1, 0)x(0, 0, 1, 12)12 - AIC:245.49523468866826\n",
      "ARIMA(0, 1, 0)x(0, 1, 0, 12)12 - AIC:126.83411435751998\n"
     ]
    },
    {
     "name": "stderr",
     "output_type": "stream",
     "text": [
      "C:\\ProgramData\\Anaconda3\\lib\\site-packages\\statsmodels\\base\\model.py:567: ConvergenceWarning: Maximum Likelihood optimization failed to converge. Check mle_retvals\n",
      "  warn(\"Maximum Likelihood optimization failed to converge. \"\n"
     ]
    },
    {
     "name": "stdout",
     "output_type": "stream",
     "text": [
      "ARIMA(0, 1, 0)x(0, 1, 1, 12)12 - AIC:1327.4858978012753\n",
      "ARIMA(0, 1, 0)x(1, 0, 0, 12)12 - AIC:123.3081253936823\n",
      "ARIMA(0, 1, 0)x(1, 0, 1, 12)12 - AIC:122.02613356772113\n",
      "ARIMA(0, 1, 0)x(1, 1, 0, 12)12 - AIC:87.68659119156746\n",
      "ARIMA(0, 1, 0)x(1, 1, 1, 12)12 - AIC:86.67721230960719\n",
      "ARIMA(0, 1, 1)x(0, 0, 0, 12)12 - AIC:340.2673154574675\n",
      "ARIMA(0, 1, 1)x(0, 0, 1, 12)12 - AIC:239.32652279822324\n",
      "ARIMA(0, 1, 1)x(0, 1, 0, 12)12 - AIC:126.31458514382177\n"
     ]
    },
    {
     "name": "stderr",
     "output_type": "stream",
     "text": [
      "C:\\ProgramData\\Anaconda3\\lib\\site-packages\\statsmodels\\base\\model.py:567: ConvergenceWarning: Maximum Likelihood optimization failed to converge. Check mle_retvals\n",
      "  warn(\"Maximum Likelihood optimization failed to converge. \"\n"
     ]
    },
    {
     "name": "stdout",
     "output_type": "stream",
     "text": [
      "ARIMA(0, 1, 1)x(0, 1, 1, 12)12 - AIC:728.7485387434868\n",
      "ARIMA(0, 1, 1)x(1, 0, 0, 12)12 - AIC:124.09501952452223\n",
      "ARIMA(0, 1, 1)x(1, 0, 1, 12)12 - AIC:119.70911559780289\n",
      "ARIMA(0, 1, 1)x(1, 1, 0, 12)12 - AIC:86.32810642349621\n",
      "ARIMA(0, 1, 1)x(1, 1, 1, 12)12 - AIC:81.2917089224536\n",
      "ARIMA(1, 0, 0)x(0, 0, 0, 12)12 - AIC:355.0057944926135\n",
      "ARIMA(1, 0, 0)x(0, 0, 1, 12)12 - AIC:279.44553977809556\n",
      "ARIMA(1, 0, 0)x(0, 1, 0, 12)12 - AIC:130.05263160187187\n"
     ]
    },
    {
     "name": "stderr",
     "output_type": "stream",
     "text": [
      "C:\\ProgramData\\Anaconda3\\lib\\site-packages\\statsmodels\\base\\model.py:567: ConvergenceWarning: Maximum Likelihood optimization failed to converge. Check mle_retvals\n",
      "  warn(\"Maximum Likelihood optimization failed to converge. \"\n"
     ]
    },
    {
     "name": "stdout",
     "output_type": "stream",
     "text": [
      "ARIMA(1, 0, 0)x(0, 1, 1, 12)12 - AIC:793.4719418353682\n",
      "ARIMA(1, 0, 0)x(1, 0, 0, 12)12 - AIC:122.7521182834831\n"
     ]
    },
    {
     "name": "stderr",
     "output_type": "stream",
     "text": [
      "C:\\ProgramData\\Anaconda3\\lib\\site-packages\\statsmodels\\base\\model.py:567: ConvergenceWarning: Maximum Likelihood optimization failed to converge. Check mle_retvals\n",
      "  warn(\"Maximum Likelihood optimization failed to converge. \"\n"
     ]
    },
    {
     "name": "stdout",
     "output_type": "stream",
     "text": [
      "ARIMA(1, 0, 0)x(1, 0, 1, 12)12 - AIC:125.07794362466848\n",
      "ARIMA(1, 0, 0)x(1, 1, 0, 12)12 - AIC:89.18451967203268\n",
      "ARIMA(1, 0, 0)x(1, 1, 1, 12)12 - AIC:90.22659225948529\n",
      "ARIMA(1, 0, 1)x(0, 0, 0, 12)12 - AIC:348.9745027162051\n",
      "ARIMA(1, 0, 1)x(0, 0, 1, 12)12 - AIC:273.55235983678415\n",
      "ARIMA(1, 0, 1)x(0, 1, 0, 12)12 - AIC:129.67429725145666\n"
     ]
    },
    {
     "name": "stderr",
     "output_type": "stream",
     "text": [
      "C:\\ProgramData\\Anaconda3\\lib\\site-packages\\statsmodels\\base\\model.py:567: ConvergenceWarning: Maximum Likelihood optimization failed to converge. Check mle_retvals\n",
      "  warn(\"Maximum Likelihood optimization failed to converge. \"\n"
     ]
    },
    {
     "name": "stdout",
     "output_type": "stream",
     "text": [
      "ARIMA(1, 0, 1)x(0, 1, 1, 12)12 - AIC:1193.0143658721438\n",
      "ARIMA(1, 0, 1)x(1, 0, 0, 12)12 - AIC:124.20514541540582\n"
     ]
    },
    {
     "name": "stderr",
     "output_type": "stream",
     "text": [
      "C:\\ProgramData\\Anaconda3\\lib\\site-packages\\statsmodels\\base\\model.py:567: ConvergenceWarning: Maximum Likelihood optimization failed to converge. Check mle_retvals\n",
      "  warn(\"Maximum Likelihood optimization failed to converge. \"\n"
     ]
    },
    {
     "name": "stdout",
     "output_type": "stream",
     "text": [
      "ARIMA(1, 0, 1)x(1, 0, 1, 12)12 - AIC:124.64323867743693\n",
      "ARIMA(1, 0, 1)x(1, 1, 0, 12)12 - AIC:88.1927530047292\n",
      "ARIMA(1, 0, 1)x(1, 1, 1, 12)12 - AIC:85.22258941968133\n",
      "ARIMA(1, 1, 0)x(0, 0, 0, 12)12 - AIC:346.11898925259953\n",
      "ARIMA(1, 1, 0)x(0, 0, 1, 12)12 - AIC:245.10702061628643\n",
      "ARIMA(1, 1, 0)x(0, 1, 0, 12)12 - AIC:128.76829258591687\n"
     ]
    },
    {
     "name": "stderr",
     "output_type": "stream",
     "text": [
      "C:\\ProgramData\\Anaconda3\\lib\\site-packages\\statsmodels\\base\\model.py:567: ConvergenceWarning: Maximum Likelihood optimization failed to converge. Check mle_retvals\n",
      "  warn(\"Maximum Likelihood optimization failed to converge. \"\n"
     ]
    },
    {
     "name": "stdout",
     "output_type": "stream",
     "text": [
      "ARIMA(1, 1, 0)x(0, 1, 1, 12)12 - AIC:1304.6702269839857\n",
      "ARIMA(1, 1, 0)x(1, 0, 0, 12)12 - AIC:122.21479104137217\n",
      "ARIMA(1, 1, 0)x(1, 0, 1, 12)12 - AIC:121.48313961495745\n",
      "ARIMA(1, 1, 0)x(1, 1, 0, 12)12 - AIC:84.42447560183518\n",
      "ARIMA(1, 1, 0)x(1, 1, 1, 12)12 - AIC:86.23844645310051\n",
      "ARIMA(1, 1, 1)x(0, 0, 0, 12)12 - AIC:341.39965780845523\n",
      "ARIMA(1, 1, 1)x(0, 0, 1, 12)12 - AIC:241.18596674538338\n",
      "ARIMA(1, 1, 1)x(0, 1, 0, 12)12 - AIC:127.64234782866619\n"
     ]
    },
    {
     "name": "stderr",
     "output_type": "stream",
     "text": [
      "C:\\ProgramData\\Anaconda3\\lib\\site-packages\\statsmodels\\base\\model.py:567: ConvergenceWarning: Maximum Likelihood optimization failed to converge. Check mle_retvals\n",
      "  warn(\"Maximum Likelihood optimization failed to converge. \"\n"
     ]
    },
    {
     "name": "stdout",
     "output_type": "stream",
     "text": [
      "ARIMA(1, 1, 1)x(0, 1, 1, 12)12 - AIC:621.2898280839103\n",
      "ARIMA(1, 1, 1)x(1, 0, 0, 12)12 - AIC:124.15028911378195\n",
      "ARIMA(1, 1, 1)x(1, 0, 1, 12)12 - AIC:121.4659690750221\n",
      "ARIMA(1, 1, 1)x(1, 1, 0, 12)12 - AIC:90.03751261565463\n",
      "ARIMA(1, 1, 1)x(1, 1, 1, 12)12 - AIC:88.21307126259373\n"
     ]
    }
   ],
   "source": [
    "for param in pdq:\n",
    "    for param_seasonal in seasonal_pdq:\n",
    "        try:\n",
    "            mod = sm.tsa.statespace.SARIMAX(y,order=param,seasonal_order=param_seasonal,enforce_stationarity=False,enforce_invertibility=False)\n",
    "            results = mod.fit()\n",
    "            print('ARIMA{}x{}12 - AIC:{}'.format(param, param_seasonal, results.aic))\n",
    "        except:\n",
    "            continue"
   ]
  },
  {
   "cell_type": "code",
   "execution_count": 78,
   "metadata": {},
   "outputs": [
    {
     "name": "stdout",
     "output_type": "stream",
     "text": [
      "==============================================================================\n",
      "                 coef    std err          z      P>|z|      [0.025      0.975]\n",
      "------------------------------------------------------------------------------\n",
      "ar.L1         -0.7990      0.254     -3.147      0.002      -1.297      -0.301\n",
      "ma.L1          1.0000   6166.023      0.000      1.000   -1.21e+04    1.21e+04\n",
      "ar.S.L12       0.0999      0.148      0.677      0.498      -0.189       0.389\n",
      "sigma2         0.9765   6021.120      0.000      1.000   -1.18e+04    1.18e+04\n",
      "==============================================================================\n"
     ]
    }
   ],
   "source": [
    "mod = sm.tsa.statespace.SARIMAX(y,\n",
    "                                order=(1, 1, 1),\n",
    "                                seasonal_order=(1, 1, 0, 12),\n",
    "                                enforce_stationarity=False,\n",
    "                                enforce_invertibility=False)\n",
    "results = mod.fit()\n",
    "print(results.summary().tables[1])"
   ]
  },
  {
   "cell_type": "code",
   "execution_count": 79,
   "metadata": {},
   "outputs": [
    {
     "data": {
      "image/png": "[encoded data removed]",
      "text/plain": [
       "<Figure size 1152x576 with 4 Axes>"
      ]
     },
     "metadata": {
      "needs_background": "light"
     },
     "output_type": "display_data"
    }
   ],
   "source": [
    "results.plot_diagnostics(figsize=(16, 8))\n",
    "plt.show()"
   ]
  },
  {
   "cell_type": "code",
   "execution_count": 80,
   "metadata": {},
   "outputs": [
    {
     "data": {
      "text/plain": [
       "array(['2021-07-01T00:00:00.000000000', '2021-07-02T00:00:00.000000000',\n",
       "       '2021-07-03T00:00:00.000000000', '2021-07-04T00:00:00.000000000',\n",
       "       '2021-07-05T00:00:00.000000000', '2021-07-06T00:00:00.000000000',\n",
       "       '2021-07-07T00:00:00.000000000', '2021-07-08T00:00:00.000000000',\n",
       "       '2021-07-09T00:00:00.000000000', '2021-07-10T00:00:00.000000000',\n",
       "       '2021-07-11T00:00:00.000000000', '2021-07-12T00:00:00.000000000',\n",
       "       '2021-07-13T00:00:00.000000000', '2021-07-14T00:00:00.000000000',\n",
       "       '2021-07-15T00:00:00.000000000', '2021-07-16T00:00:00.000000000',\n",
       "       '2021-07-17T00:00:00.000000000', '2021-07-18T00:00:00.000000000',\n",
       "       '2021-07-19T00:00:00.000000000', '2021-07-20T00:00:00.000000000',\n",
       "       '2021-07-21T00:00:00.000000000', '2021-07-22T00:00:00.000000000',\n",
       "       '2021-07-23T00:00:00.000000000', '2021-07-24T00:00:00.000000000',\n",
       "       '2021-07-25T00:00:00.000000000', '2021-07-26T00:00:00.000000000',\n",
       "       '2021-07-27T00:00:00.000000000', '2021-07-28T00:00:00.000000000',\n",
       "       '2021-07-29T00:00:00.000000000', '2021-07-30T00:00:00.000000000',\n",
       "       '2021-07-31T00:00:00.000000000', '2021-08-01T00:00:00.000000000',\n",
       "       '2021-08-02T00:00:00.000000000', '2021-08-03T00:00:00.000000000',\n",
       "       '2021-08-04T00:00:00.000000000', '2021-08-05T00:00:00.000000000',\n",
       "       '2021-08-06T00:00:00.000000000', '2021-08-07T00:00:00.000000000',\n",
       "       '2021-08-08T00:00:00.000000000', '2021-08-09T00:00:00.000000000',\n",
       "       '2021-08-10T00:00:00.000000000', '2021-08-11T00:00:00.000000000',\n",
       "       '2021-08-12T00:00:00.000000000', '2021-08-13T00:00:00.000000000',\n",
       "       '2021-08-14T00:00:00.000000000', '2021-08-15T00:00:00.000000000',\n",
       "       '2021-08-16T00:00:00.000000000', '2021-08-17T00:00:00.000000000',\n",
       "       '2021-08-18T00:00:00.000000000', '2021-08-19T00:00:00.000000000',\n",
       "       '2021-08-20T00:00:00.000000000', '2021-08-21T00:00:00.000000000',\n",
       "       '2021-08-22T00:00:00.000000000', '2021-08-23T00:00:00.000000000',\n",
       "       '2021-08-24T00:00:00.000000000', '2021-08-25T00:00:00.000000000',\n",
       "       '2021-08-26T00:00:00.000000000', '2021-08-27T00:00:00.000000000',\n",
       "       '2021-08-28T00:00:00.000000000', '2021-08-29T00:00:00.000000000',\n",
       "       '2021-08-30T00:00:00.000000000', '2021-08-31T00:00:00.000000000',\n",
       "       '2021-09-01T00:00:00.000000000', '2021-09-02T00:00:00.000000000',\n",
       "       '2021-09-03T00:00:00.000000000', '2021-09-04T00:00:00.000000000',\n",
       "       '2021-09-05T00:00:00.000000000', '2021-09-06T00:00:00.000000000',\n",
       "       '2021-09-07T00:00:00.000000000', '2021-09-08T00:00:00.000000000',\n",
       "       '2021-09-09T00:00:00.000000000', '2021-09-10T00:00:00.000000000',\n",
       "       '2021-09-11T00:00:00.000000000', '2021-09-12T00:00:00.000000000',\n",
       "       '2021-09-13T00:00:00.000000000', '2021-09-14T00:00:00.000000000',\n",
       "       '2021-09-15T00:00:00.000000000', '2021-09-16T00:00:00.000000000',\n",
       "       '2021-09-17T00:00:00.000000000', '2021-09-18T00:00:00.000000000',\n",
       "       '2021-09-19T00:00:00.000000000', '2021-09-20T00:00:00.000000000',\n",
       "       '2021-09-21T00:00:00.000000000', '2021-09-22T00:00:00.000000000',\n",
       "       '2021-09-23T00:00:00.000000000', '2021-09-24T00:00:00.000000000',\n",
       "       '2021-09-25T00:00:00.000000000', '2021-09-26T00:00:00.000000000',\n",
       "       '2021-09-27T00:00:00.000000000', '2021-09-28T00:00:00.000000000',\n",
       "       '2021-09-29T00:00:00.000000000', '2021-09-30T00:00:00.000000000',\n",
       "       '2021-10-01T00:00:00.000000000', '2021-10-02T00:00:00.000000000',\n",
       "       '2021-10-03T00:00:00.000000000', '2021-10-04T00:00:00.000000000',\n",
       "       '2021-10-05T00:00:00.000000000', '2021-10-06T00:00:00.000000000',\n",
       "       '2021-10-07T00:00:00.000000000', '2021-10-08T00:00:00.000000000',\n",
       "       '2021-10-09T00:00:00.000000000', '2021-10-10T00:00:00.000000000',\n",
       "       '2021-10-11T00:00:00.000000000', '2021-10-12T00:00:00.000000000',\n",
       "       '2021-10-13T00:00:00.000000000', '2021-10-14T00:00:00.000000000',\n",
       "       '2021-10-15T00:00:00.000000000', '2021-10-16T00:00:00.000000000',\n",
       "       '2021-10-17T00:00:00.000000000', '2021-10-18T00:00:00.000000000',\n",
       "       '2021-10-19T00:00:00.000000000', '2021-10-20T00:00:00.000000000',\n",
       "       '2021-10-21T00:00:00.000000000', '2021-10-22T00:00:00.000000000',\n",
       "       '2021-10-23T00:00:00.000000000', '2021-10-24T00:00:00.000000000',\n",
       "       '2021-10-25T00:00:00.000000000', '2021-10-26T00:00:00.000000000',\n",
       "       '2021-10-27T00:00:00.000000000', '2021-10-28T00:00:00.000000000',\n",
       "       '2021-10-29T00:00:00.000000000', '2021-10-30T00:00:00.000000000',\n",
       "       '2021-10-31T00:00:00.000000000', '2021-11-01T00:00:00.000000000',\n",
       "       '2021-11-02T00:00:00.000000000', '2021-11-03T00:00:00.000000000',\n",
       "       '2021-11-04T00:00:00.000000000', '2021-11-05T00:00:00.000000000',\n",
       "       '2021-11-06T00:00:00.000000000', '2021-11-07T00:00:00.000000000',\n",
       "       '2021-11-08T00:00:00.000000000', '2021-11-09T00:00:00.000000000',\n",
       "       '2021-11-10T00:00:00.000000000', '2021-11-11T00:00:00.000000000',\n",
       "       '2021-11-12T00:00:00.000000000', '2021-11-13T00:00:00.000000000',\n",
       "       '2021-11-14T00:00:00.000000000', '2021-11-15T00:00:00.000000000',\n",
       "       '2021-11-16T00:00:00.000000000', '2021-11-17T00:00:00.000000000',\n",
       "       '2021-11-18T00:00:00.000000000', '2021-11-19T00:00:00.000000000',\n",
       "       '2021-11-20T00:00:00.000000000', '2021-11-21T00:00:00.000000000',\n",
       "       '2021-11-22T00:00:00.000000000', '2021-11-23T00:00:00.000000000',\n",
       "       '2021-11-24T00:00:00.000000000', '2021-11-25T00:00:00.000000000',\n",
       "       '2021-11-26T00:00:00.000000000', '2021-11-27T00:00:00.000000000',\n",
       "       '2021-11-28T00:00:00.000000000', '2021-11-29T00:00:00.000000000',\n",
       "       '2021-11-30T00:00:00.000000000', '2021-12-01T00:00:00.000000000',\n",
       "       '2021-12-02T00:00:00.000000000', '2021-12-03T00:00:00.000000000',\n",
       "       '2021-12-04T00:00:00.000000000', '2021-12-05T00:00:00.000000000',\n",
       "       '2021-12-06T00:00:00.000000000', '2021-12-07T00:00:00.000000000',\n",
       "       '2021-12-08T00:00:00.000000000', '2021-12-09T00:00:00.000000000',\n",
       "       '2021-12-10T00:00:00.000000000', '2021-12-11T00:00:00.000000000',\n",
       "       '2021-12-12T00:00:00.000000000', '2021-12-13T00:00:00.000000000',\n",
       "       '2021-12-14T00:00:00.000000000', '2021-12-15T00:00:00.000000000',\n",
       "       '2021-12-16T00:00:00.000000000', '2021-12-17T00:00:00.000000000',\n",
       "       '2021-12-18T00:00:00.000000000', '2021-12-19T00:00:00.000000000',\n",
       "       '2021-12-20T00:00:00.000000000', '2021-12-21T00:00:00.000000000',\n",
       "       '2021-12-22T00:00:00.000000000', '2021-12-23T00:00:00.000000000',\n",
       "       '2021-12-24T00:00:00.000000000', '2021-12-25T00:00:00.000000000',\n",
       "       '2021-12-26T00:00:00.000000000', '2021-12-27T00:00:00.000000000',\n",
       "       '2021-12-28T00:00:00.000000000', '2021-12-29T00:00:00.000000000',\n",
       "       '2021-12-30T00:00:00.000000000', '2021-12-31T00:00:00.000000000'],\n",
       "      dtype='datetime64[ns]')"
      ]
     },
     "execution_count": 80,
     "metadata": {},
     "output_type": "execute_result"
    }
   ],
   "source": [
    "test.Date=pd.to_datetime(test.Date,format='%m/%d/%Y')\n",
    "test.Date.dtypes\n",
    "test.Date.unique()"
   ]
  },
  {
   "cell_type": "code",
   "execution_count": null,
   "metadata": {},
   "outputs": [],
   "source": [
    "pred = results.get_prediction(test.Date, dynamic=False)\n",
    "pred_ci = pred.conf_int()\n",
    "ax = y['2017':].plot(label='observed')\n",
    "pred.predicted_mean.plot(ax=ax, label='One-step ahead Forecast', alpha=.7, figsize=(14, 7))\n",
    "ax.fill_between(pred_ci.index,\n",
    "                pred_ci.iloc[:, 0],\n",
    "                pred_ci.iloc[:, 1], color='k', alpha=.2)\n",
    "ax.set_xlabel('Date')\n",
    "ax.set_ylabel('Sales')\n",
    "plt.legend()\n",
    "plt.show()"
   ]
  }
 ],
 "metadata": {
  "kernelspec": {
   "display_name": "Python 3",
   "language": "python",
   "name": "python3"
  },
  "language_info": {
   "codemirror_mode": {
    "name": "ipython",
    "version": 3
   },
   "file_extension": ".py",
   "mimetype": "text/x-python",
   "name": "python",
   "nbconvert_exporter": "python",
   "pygments_lexer": "ipython3",
   "version": "3.8.3"
  }
 },
 "nbformat": 4,
 "nbformat_minor": 5
}
